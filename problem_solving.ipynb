{
  "nbformat": 4,
  "nbformat_minor": 0,
  "metadata": {
    "colab": {
      "name": "problem solving.ipynb",
      "provenance": [],
      "collapsed_sections": [
        "joEZaQLjLU60",
        "6HijU_qpOMYm",
        "cwNjr683RxxX",
        "IPvP_D0hSaxS",
        "jUFdf7lLUzIp",
        "wXk_L6hvXWYp"
      ],
      "authorship_tag": "ABX9TyOnPjrfG8d6qjuoOYtTssas",
      "include_colab_link": true
    },
    "kernelspec": {
      "name": "python3",
      "display_name": "Python 3"
    },
    "language_info": {
      "name": "python"
    }
  },
  "cells": [
    {
      "cell_type": "markdown",
      "metadata": {
        "id": "view-in-github",
        "colab_type": "text"
      },
      "source": [
        "<a href=\"https://colab.research.google.com/github/asrarbhat/python/blob/main/problem_solving.ipynb\" target=\"_parent\"><img src=\"https://colab.research.google.com/assets/colab-badge.svg\" alt=\"Open In Colab\"/></a>"
      ]
    },
    {
      "cell_type": "markdown",
      "source": [
        "1. arrays\n",
        "2. strings\n",
        "3. maps\n",
        "4. dynamic programming"
      ],
      "metadata": {
        "id": "17fEsm5OKKYk"
      }
    },
    {
      "cell_type": "markdown",
      "source": [
        "#1D arrays"
      ],
      "metadata": {
        "id": "joEZaQLjLU60"
      }
    },
    {
      "cell_type": "code",
      "source": [
        "arr=[1,2,3,4,5,6,7,8,9,0]\n",
        "arr"
      ],
      "metadata": {
        "colab": {
          "base_uri": "https://localhost:8080/"
        },
        "id": "0bzILpflLZqS",
        "outputId": "97c67d4f-9369-4e9a-f928-cc4417ca8279"
      },
      "execution_count": 1,
      "outputs": [
        {
          "output_type": "execute_result",
          "data": {
            "text/plain": [
              "[1, 2, 3, 4, 5, 6, 7, 8, 9, 0]"
            ]
          },
          "metadata": {},
          "execution_count": 1
        }
      ]
    },
    {
      "cell_type": "code",
      "source": [
        "len(arr)"
      ],
      "metadata": {
        "colab": {
          "base_uri": "https://localhost:8080/"
        },
        "id": "HW9ndgx2LfTi",
        "outputId": "dbe9a199-f51f-42e7-d3fd-db81c2a0f9e4"
      },
      "execution_count": 2,
      "outputs": [
        {
          "output_type": "execute_result",
          "data": {
            "text/plain": [
              "10"
            ]
          },
          "metadata": {},
          "execution_count": 2
        }
      ]
    },
    {
      "cell_type": "code",
      "source": [
        "arr[7]"
      ],
      "metadata": {
        "colab": {
          "base_uri": "https://localhost:8080/"
        },
        "id": "U50D0k-lLnhZ",
        "outputId": "a94ee499-87c3-47b7-87cd-80a08f3b450f"
      },
      "execution_count": 3,
      "outputs": [
        {
          "output_type": "execute_result",
          "data": {
            "text/plain": [
              "8"
            ]
          },
          "metadata": {},
          "execution_count": 3
        }
      ]
    },
    {
      "cell_type": "code",
      "source": [
        "arr[-1]"
      ],
      "metadata": {
        "colab": {
          "base_uri": "https://localhost:8080/"
        },
        "id": "Uj1W91NmLl9A",
        "outputId": "5f619d5c-e99d-4d8c-ecd5-5980731d6f55"
      },
      "execution_count": 4,
      "outputs": [
        {
          "output_type": "execute_result",
          "data": {
            "text/plain": [
              "0"
            ]
          },
          "metadata": {},
          "execution_count": 4
        }
      ]
    },
    {
      "cell_type": "code",
      "source": [
        "arr[44]"
      ],
      "metadata": {
        "colab": {
          "base_uri": "https://localhost:8080/",
          "height": 163
        },
        "id": "eew2pS8ILpo4",
        "outputId": "bb86e764-5089-41cd-f8ba-6d2f7b621b28"
      },
      "execution_count": 5,
      "outputs": [
        {
          "output_type": "error",
          "ename": "IndexError",
          "evalue": "ignored",
          "traceback": [
            "\u001b[0;31m---------------------------------------------------------------------------\u001b[0m",
            "\u001b[0;31mIndexError\u001b[0m                                Traceback (most recent call last)",
            "\u001b[0;32m/tmp/ipykernel_24938/296683329.py\u001b[0m in \u001b[0;36m<module>\u001b[0;34m\u001b[0m\n\u001b[0;32m----> 1\u001b[0;31m \u001b[0marr\u001b[0m\u001b[0;34m[\u001b[0m\u001b[0;36m44\u001b[0m\u001b[0;34m]\u001b[0m\u001b[0;34m\u001b[0m\u001b[0;34m\u001b[0m\u001b[0m\n\u001b[0m",
            "\u001b[0;31mIndexError\u001b[0m: list index out of range"
          ]
        }
      ]
    },
    {
      "cell_type": "code",
      "source": [
        "arr,arr.append(22)"
      ],
      "metadata": {
        "colab": {
          "base_uri": "https://localhost:8080/"
        },
        "id": "65ZANt4dLqoo",
        "outputId": "684d10bd-3f35-49c8-8c71-4df56d99bc49"
      },
      "execution_count": 7,
      "outputs": [
        {
          "output_type": "execute_result",
          "data": {
            "text/plain": [
              "([1, 2, 3, 4, 5, 6, 7, 8, 9, 0, 22, 22], None)"
            ]
          },
          "metadata": {},
          "execution_count": 7
        }
      ]
    },
    {
      "cell_type": "code",
      "source": [
        "arr.pop(),arr"
      ],
      "metadata": {
        "colab": {
          "base_uri": "https://localhost:8080/"
        },
        "id": "DkCqe87kLyYS",
        "outputId": "3622b567-285e-4306-d3ef-6c340ccfa55b"
      },
      "execution_count": 8,
      "outputs": [
        {
          "output_type": "execute_result",
          "data": {
            "text/plain": [
              "(22, [1, 2, 3, 4, 5, 6, 7, 8, 9, 0, 22])"
            ]
          },
          "metadata": {},
          "execution_count": 8
        }
      ]
    },
    {
      "cell_type": "code",
      "source": [
        "arr.pop()"
      ],
      "metadata": {
        "colab": {
          "base_uri": "https://localhost:8080/"
        },
        "id": "G6Iy27oBMDaG",
        "outputId": "7121a20a-12c3-4ffb-e8fa-c0795afacfef"
      },
      "execution_count": 9,
      "outputs": [
        {
          "output_type": "execute_result",
          "data": {
            "text/plain": [
              "22"
            ]
          },
          "metadata": {},
          "execution_count": 9
        }
      ]
    },
    {
      "cell_type": "code",
      "source": [
        "arr"
      ],
      "metadata": {
        "colab": {
          "base_uri": "https://localhost:8080/"
        },
        "id": "5eQqn5k0L6q4",
        "outputId": "4d3918f8-1807-41f4-e606-92d712f09af1"
      },
      "execution_count": 10,
      "outputs": [
        {
          "output_type": "execute_result",
          "data": {
            "text/plain": [
              "[1, 2, 3, 4, 5, 6, 7, 8, 9, 0]"
            ]
          },
          "metadata": {},
          "execution_count": 10
        }
      ]
    },
    {
      "cell_type": "code",
      "source": [
        "arr2=arr.copy()"
      ],
      "metadata": {
        "id": "Yf1NJAXtMIpl"
      },
      "execution_count": 11,
      "outputs": []
    },
    {
      "cell_type": "code",
      "source": [
        "arr2"
      ],
      "metadata": {
        "colab": {
          "base_uri": "https://localhost:8080/"
        },
        "id": "_aSlx0hUMFz9",
        "outputId": "1f0ba8af-7cac-44cd-ec4d-3b0b2eca6856"
      },
      "execution_count": 12,
      "outputs": [
        {
          "output_type": "execute_result",
          "data": {
            "text/plain": [
              "[1, 2, 3, 4, 5, 6, 7, 8, 9, 0]"
            ]
          },
          "metadata": {},
          "execution_count": 12
        }
      ]
    },
    {
      "cell_type": "code",
      "source": [
        "arr.pop(0)"
      ],
      "metadata": {
        "colab": {
          "base_uri": "https://localhost:8080/"
        },
        "id": "VgwFSiljMLBL",
        "outputId": "1f2eb200-0c7e-4908-8fb6-c1739facb59c"
      },
      "execution_count": 13,
      "outputs": [
        {
          "output_type": "execute_result",
          "data": {
            "text/plain": [
              "1"
            ]
          },
          "metadata": {},
          "execution_count": 13
        }
      ]
    },
    {
      "cell_type": "code",
      "source": [
        "arr"
      ],
      "metadata": {
        "colab": {
          "base_uri": "https://localhost:8080/"
        },
        "id": "VmHqDYNKMNe_",
        "outputId": "f68097a9-0bbc-422e-b8f8-d7e9e1e63cd7"
      },
      "execution_count": 14,
      "outputs": [
        {
          "output_type": "execute_result",
          "data": {
            "text/plain": [
              "[2, 3, 4, 5, 6, 7, 8, 9, 0]"
            ]
          },
          "metadata": {},
          "execution_count": 14
        }
      ]
    },
    {
      "cell_type": "code",
      "source": [
        "arr.insert(0,1)"
      ],
      "metadata": {
        "id": "2VyWzEwoMPMi"
      },
      "execution_count": 15,
      "outputs": []
    },
    {
      "cell_type": "code",
      "source": [
        "arr"
      ],
      "metadata": {
        "colab": {
          "base_uri": "https://localhost:8080/"
        },
        "id": "mNNiDIoBMRHU",
        "outputId": "89bf9fcd-6840-4470-a599-3b5e23afc944"
      },
      "execution_count": 16,
      "outputs": [
        {
          "output_type": "execute_result",
          "data": {
            "text/plain": [
              "[1, 2, 3, 4, 5, 6, 7, 8, 9, 0]"
            ]
          },
          "metadata": {},
          "execution_count": 16
        }
      ]
    },
    {
      "cell_type": "code",
      "source": [
        "arr.insert(3,77)"
      ],
      "metadata": {
        "id": "K4DArRNyMRYb"
      },
      "execution_count": 17,
      "outputs": []
    },
    {
      "cell_type": "code",
      "source": [
        "arr"
      ],
      "metadata": {
        "colab": {
          "base_uri": "https://localhost:8080/"
        },
        "id": "Or6T7syLMZxv",
        "outputId": "a6157dfc-eb82-4f1a-e0ae-75955e4c89b5"
      },
      "execution_count": 18,
      "outputs": [
        {
          "output_type": "execute_result",
          "data": {
            "text/plain": [
              "[1, 2, 3, 77, 4, 5, 6, 7, 8, 9, 0]"
            ]
          },
          "metadata": {},
          "execution_count": 18
        }
      ]
    },
    {
      "cell_type": "code",
      "source": [
        "arr.pop(7)"
      ],
      "metadata": {
        "colab": {
          "base_uri": "https://localhost:8080/"
        },
        "id": "zw_zpAJHMaQb",
        "outputId": "02cc8bc8-d3db-4eae-e948-adaacd56f0fe"
      },
      "execution_count": 19,
      "outputs": [
        {
          "output_type": "execute_result",
          "data": {
            "text/plain": [
              "7"
            ]
          },
          "metadata": {},
          "execution_count": 19
        }
      ]
    },
    {
      "cell_type": "code",
      "source": [
        "arr"
      ],
      "metadata": {
        "colab": {
          "base_uri": "https://localhost:8080/"
        },
        "id": "ZEDGq1SjMdyD",
        "outputId": "d5b705b6-c77b-4242-e6dc-5ab82508d2d3"
      },
      "execution_count": 20,
      "outputs": [
        {
          "output_type": "execute_result",
          "data": {
            "text/plain": [
              "[1, 2, 3, 77, 4, 5, 6, 8, 9, 0]"
            ]
          },
          "metadata": {},
          "execution_count": 20
        }
      ]
    },
    {
      "cell_type": "code",
      "source": [
        "arr.remove(3)"
      ],
      "metadata": {
        "id": "P68HOWr4MuPz"
      },
      "execution_count": 21,
      "outputs": []
    },
    {
      "cell_type": "code",
      "source": [
        "arr"
      ],
      "metadata": {
        "colab": {
          "base_uri": "https://localhost:8080/"
        },
        "id": "PHN44odgMeb5",
        "outputId": "4c1013bc-fd3b-4e9d-994d-1e4b18573fc9"
      },
      "execution_count": 22,
      "outputs": [
        {
          "output_type": "execute_result",
          "data": {
            "text/plain": [
              "[1, 2, 77, 4, 5, 6, 8, 9, 0]"
            ]
          },
          "metadata": {},
          "execution_count": 22
        }
      ]
    },
    {
      "cell_type": "code",
      "source": [
        "arr.remove(3)"
      ],
      "metadata": {
        "colab": {
          "base_uri": "https://localhost:8080/",
          "height": 163
        },
        "id": "3DYtexvzMwW5",
        "outputId": "6fcb0781-1d93-471c-f20f-4bdd1cc110cc"
      },
      "execution_count": 23,
      "outputs": [
        {
          "output_type": "error",
          "ename": "ValueError",
          "evalue": "ignored",
          "traceback": [
            "\u001b[0;31m---------------------------------------------------------------------------\u001b[0m",
            "\u001b[0;31mValueError\u001b[0m                                Traceback (most recent call last)",
            "\u001b[0;32m/tmp/ipykernel_24938/961707990.py\u001b[0m in \u001b[0;36m<module>\u001b[0;34m\u001b[0m\n\u001b[0;32m----> 1\u001b[0;31m \u001b[0marr\u001b[0m\u001b[0;34m.\u001b[0m\u001b[0mremove\u001b[0m\u001b[0;34m(\u001b[0m\u001b[0;36m3\u001b[0m\u001b[0;34m)\u001b[0m\u001b[0;34m\u001b[0m\u001b[0;34m\u001b[0m\u001b[0m\n\u001b[0m",
            "\u001b[0;31mValueError\u001b[0m: list.remove(x): x not in list"
          ]
        }
      ]
    },
    {
      "cell_type": "code",
      "source": [
        "for i in arr:\n",
        "    print(i)"
      ],
      "metadata": {
        "colab": {
          "base_uri": "https://localhost:8080/"
        },
        "id": "O_aG07rKMxcX",
        "outputId": "57dd201a-7e90-4666-b953-ce8476e07157"
      },
      "execution_count": 24,
      "outputs": [
        {
          "output_type": "stream",
          "name": "stdout",
          "text": [
            "1\n",
            "2\n",
            "77\n",
            "4\n",
            "5\n",
            "6\n",
            "8\n",
            "9\n",
            "0\n"
          ]
        }
      ]
    },
    {
      "cell_type": "code",
      "source": [
        "for i in range(len(arr)):\n",
        "    print(arr[i])"
      ],
      "metadata": {
        "colab": {
          "base_uri": "https://localhost:8080/"
        },
        "id": "FqrcLcK1NG-X",
        "outputId": "3c1ffb8a-8325-4163-9269-86338844da0d"
      },
      "execution_count": 25,
      "outputs": [
        {
          "output_type": "stream",
          "name": "stdout",
          "text": [
            "1\n",
            "2\n",
            "77\n",
            "4\n",
            "5\n",
            "6\n",
            "8\n",
            "9\n",
            "0\n"
          ]
        }
      ]
    },
    {
      "cell_type": "code",
      "source": [
        "arr"
      ],
      "metadata": {
        "colab": {
          "base_uri": "https://localhost:8080/"
        },
        "id": "28SWU6ZwNQ7U",
        "outputId": "de2ef976-d98c-4225-afe1-27096375548f"
      },
      "execution_count": 26,
      "outputs": [
        {
          "output_type": "execute_result",
          "data": {
            "text/plain": [
              "[1, 2, 77, 4, 5, 6, 8, 9, 0]"
            ]
          },
          "metadata": {},
          "execution_count": 26
        }
      ]
    },
    {
      "cell_type": "code",
      "source": [
        "arr.sort() #this is inplace"
      ],
      "metadata": {
        "id": "KbMlloeoNTDv"
      },
      "execution_count": 29,
      "outputs": []
    },
    {
      "cell_type": "code",
      "source": [
        "arr"
      ],
      "metadata": {
        "colab": {
          "base_uri": "https://localhost:8080/"
        },
        "id": "0KQ9KnS3NbQ_",
        "outputId": "27baac8f-9ee8-47d3-84e4-d8af548cdda1"
      },
      "execution_count": 30,
      "outputs": [
        {
          "output_type": "execute_result",
          "data": {
            "text/plain": [
              "[0, 1, 2, 4, 5, 6, 8, 9, 77]"
            ]
          },
          "metadata": {},
          "execution_count": 30
        }
      ]
    },
    {
      "cell_type": "code",
      "source": [
        "arr.sort(reverse=True)"
      ],
      "metadata": {
        "id": "tuw8MXQINb6_"
      },
      "execution_count": 31,
      "outputs": []
    },
    {
      "cell_type": "code",
      "source": [
        "arr"
      ],
      "metadata": {
        "colab": {
          "base_uri": "https://localhost:8080/"
        },
        "id": "2QJ14Z_8NqBJ",
        "outputId": "5caa6a58-cbab-41f5-bd5d-081fb7df79a8"
      },
      "execution_count": 32,
      "outputs": [
        {
          "output_type": "execute_result",
          "data": {
            "text/plain": [
              "[77, 9, 8, 6, 5, 4, 2, 1, 0]"
            ]
          },
          "metadata": {},
          "execution_count": 32
        }
      ]
    },
    {
      "cell_type": "code",
      "source": [
        "arr1=tuple(arr)"
      ],
      "metadata": {
        "id": "dR-4PoDNNqcI"
      },
      "execution_count": 33,
      "outputs": []
    },
    {
      "cell_type": "code",
      "source": [
        "sorted(arr1)"
      ],
      "metadata": {
        "colab": {
          "base_uri": "https://localhost:8080/"
        },
        "id": "ixSOmGl9NwMP",
        "outputId": "e0732447-bfa4-43fe-c8e8-b18054201726"
      },
      "execution_count": 34,
      "outputs": [
        {
          "output_type": "execute_result",
          "data": {
            "text/plain": [
              "[0, 1, 2, 4, 5, 6, 8, 9, 77]"
            ]
          },
          "metadata": {},
          "execution_count": 34
        }
      ]
    },
    {
      "cell_type": "code",
      "source": [
        "set(arr1)"
      ],
      "metadata": {
        "colab": {
          "base_uri": "https://localhost:8080/"
        },
        "id": "EFzIeWgxNy6X",
        "outputId": "f0494ec4-77a6-47c3-c294-66c2f3e60a6a"
      },
      "execution_count": 35,
      "outputs": [
        {
          "output_type": "execute_result",
          "data": {
            "text/plain": [
              "{0, 1, 2, 4, 5, 6, 8, 9, 77}"
            ]
          },
          "metadata": {},
          "execution_count": 35
        }
      ]
    },
    {
      "cell_type": "code",
      "source": [
        "arr"
      ],
      "metadata": {
        "colab": {
          "base_uri": "https://localhost:8080/"
        },
        "id": "yfyxItPtN1UH",
        "outputId": "c4c55b77-10e9-4146-a565-12f960b3499f"
      },
      "execution_count": 36,
      "outputs": [
        {
          "output_type": "execute_result",
          "data": {
            "text/plain": [
              "[77, 9, 8, 6, 5, 4, 2, 1, 0]"
            ]
          },
          "metadata": {},
          "execution_count": 36
        }
      ]
    },
    {
      "cell_type": "code",
      "source": [
        "arr[3:4]"
      ],
      "metadata": {
        "colab": {
          "base_uri": "https://localhost:8080/"
        },
        "id": "NKMX8KEQN6Vm",
        "outputId": "035c3036-1582-4051-9308-df4810e02614"
      },
      "execution_count": 37,
      "outputs": [
        {
          "output_type": "execute_result",
          "data": {
            "text/plain": [
              "[6]"
            ]
          },
          "metadata": {},
          "execution_count": 37
        }
      ]
    },
    {
      "cell_type": "code",
      "source": [
        "arr[3:7]"
      ],
      "metadata": {
        "colab": {
          "base_uri": "https://localhost:8080/"
        },
        "id": "Q27j2O_lN9cw",
        "outputId": "313182fa-a86a-4c0c-c420-c0e239290fb4"
      },
      "execution_count": 38,
      "outputs": [
        {
          "output_type": "execute_result",
          "data": {
            "text/plain": [
              "[6, 5, 4, 2]"
            ]
          },
          "metadata": {},
          "execution_count": 38
        }
      ]
    },
    {
      "cell_type": "code",
      "source": [
        "arr.reverse()"
      ],
      "metadata": {
        "id": "7C6ng0zIN_tZ"
      },
      "execution_count": 39,
      "outputs": []
    },
    {
      "cell_type": "code",
      "source": [
        "arr"
      ],
      "metadata": {
        "colab": {
          "base_uri": "https://localhost:8080/"
        },
        "id": "iD9n57lROCPK",
        "outputId": "8c0e3304-c57a-4d2a-dd63-acc21d709b24"
      },
      "execution_count": 40,
      "outputs": [
        {
          "output_type": "execute_result",
          "data": {
            "text/plain": [
              "[0, 1, 2, 4, 5, 6, 8, 9, 77]"
            ]
          },
          "metadata": {},
          "execution_count": 40
        }
      ]
    },
    {
      "cell_type": "code",
      "source": [
        "sum(arr)"
      ],
      "metadata": {
        "colab": {
          "base_uri": "https://localhost:8080/"
        },
        "id": "HOjjNOp5OCwJ",
        "outputId": "0e97ba7f-d9cf-4b85-cb78-e1aa40745c69"
      },
      "execution_count": 41,
      "outputs": [
        {
          "output_type": "execute_result",
          "data": {
            "text/plain": [
              "112"
            ]
          },
          "metadata": {},
          "execution_count": 41
        }
      ]
    },
    {
      "cell_type": "code",
      "source": [
        "max(arr)"
      ],
      "metadata": {
        "colab": {
          "base_uri": "https://localhost:8080/"
        },
        "id": "UOxoG5HTOJWn",
        "outputId": "be59f809-870f-470d-9b82-e428ffd5a27b"
      },
      "execution_count": 42,
      "outputs": [
        {
          "output_type": "execute_result",
          "data": {
            "text/plain": [
              "77"
            ]
          },
          "metadata": {},
          "execution_count": 42
        }
      ]
    },
    {
      "cell_type": "code",
      "source": [
        "min(arr)"
      ],
      "metadata": {
        "colab": {
          "base_uri": "https://localhost:8080/"
        },
        "id": "0xUmKPoJOLDg",
        "outputId": "210a4e62-3698-44ac-a33a-64118417d3e7"
      },
      "execution_count": 43,
      "outputs": [
        {
          "output_type": "execute_result",
          "data": {
            "text/plain": [
              "0"
            ]
          },
          "metadata": {},
          "execution_count": 43
        }
      ]
    },
    {
      "cell_type": "markdown",
      "source": [
        "#2D arrays"
      ],
      "metadata": {
        "id": "6HijU_qpOMYm"
      }
    },
    {
      "cell_type": "code",
      "source": [
        "arr=[\n",
        "     [1,2,3,4,5],\n",
        "     [4,5,6,7,5],\n",
        "     [8,9,0,1,5],\n",
        "     [2,3,4,5,5]\n",
        "]\n",
        "arr"
      ],
      "metadata": {
        "colab": {
          "base_uri": "https://localhost:8080/"
        },
        "id": "mN_mKZQGO9n_",
        "outputId": "97f1d79f-6980-43d1-b97b-d2a1f098cd94"
      },
      "execution_count": 47,
      "outputs": [
        {
          "output_type": "execute_result",
          "data": {
            "text/plain": [
              "[[1, 2, 3, 4, 5], [4, 5, 6, 7, 5], [8, 9, 0, 1, 5], [2, 3, 4, 5, 5]]"
            ]
          },
          "metadata": {},
          "execution_count": 47
        }
      ]
    },
    {
      "cell_type": "code",
      "source": [
        "len(arr)"
      ],
      "metadata": {
        "colab": {
          "base_uri": "https://localhost:8080/"
        },
        "id": "Almiofm2PI3w",
        "outputId": "d76c2256-7ed6-4302-8e98-3fea8781223a"
      },
      "execution_count": 48,
      "outputs": [
        {
          "output_type": "execute_result",
          "data": {
            "text/plain": [
              "4"
            ]
          },
          "metadata": {},
          "execution_count": 48
        }
      ]
    },
    {
      "cell_type": "code",
      "source": [
        "len(arr[0])"
      ],
      "metadata": {
        "colab": {
          "base_uri": "https://localhost:8080/"
        },
        "id": "O0J5zSD_PKXN",
        "outputId": "6d8c059c-aea0-4b8e-99dc-b9fff8ac522c"
      },
      "execution_count": 49,
      "outputs": [
        {
          "output_type": "execute_result",
          "data": {
            "text/plain": [
              "5"
            ]
          },
          "metadata": {},
          "execution_count": 49
        }
      ]
    },
    {
      "cell_type": "code",
      "source": [
        "arr[0]"
      ],
      "metadata": {
        "colab": {
          "base_uri": "https://localhost:8080/"
        },
        "id": "UVghVuWsPNiL",
        "outputId": "5747f437-250a-43ae-8929-9e44903ba90e"
      },
      "execution_count": 50,
      "outputs": [
        {
          "output_type": "execute_result",
          "data": {
            "text/plain": [
              "[1, 2, 3, 4, 5]"
            ]
          },
          "metadata": {},
          "execution_count": 50
        }
      ]
    },
    {
      "cell_type": "code",
      "source": [
        "arr[0][3]"
      ],
      "metadata": {
        "colab": {
          "base_uri": "https://localhost:8080/"
        },
        "id": "rcO6twX_PVXz",
        "outputId": "dfd67c07-fa8b-4e1b-ff95-6486b75a2e8c"
      },
      "execution_count": 51,
      "outputs": [
        {
          "output_type": "execute_result",
          "data": {
            "text/plain": [
              "4"
            ]
          },
          "metadata": {},
          "execution_count": 51
        }
      ]
    },
    {
      "cell_type": "code",
      "source": [
        "arr[1:3]//slicing returns a list"
      ],
      "metadata": {
        "colab": {
          "base_uri": "https://localhost:8080/"
        },
        "id": "CYOfuU8oPWi-",
        "outputId": "f109200f-742e-4cf5-b160-73672dbe5385"
      },
      "execution_count": 52,
      "outputs": [
        {
          "output_type": "execute_result",
          "data": {
            "text/plain": [
              "[[4, 5, 6, 7, 5], [8, 9, 0, 1, 5]]"
            ]
          },
          "metadata": {},
          "execution_count": 52
        }
      ]
    },
    {
      "cell_type": "code",
      "source": [
        "arr"
      ],
      "metadata": {
        "colab": {
          "base_uri": "https://localhost:8080/"
        },
        "id": "FfxFj82PPcEW",
        "outputId": "b076961e-cfeb-45c5-c6c1-df5f6774eb7d"
      },
      "execution_count": 53,
      "outputs": [
        {
          "output_type": "execute_result",
          "data": {
            "text/plain": [
              "[[1, 2, 3, 4, 5], [4, 5, 6, 7, 5], [8, 9, 0, 1, 5], [2, 3, 4, 5, 5]]"
            ]
          },
          "metadata": {},
          "execution_count": 53
        }
      ]
    },
    {
      "cell_type": "code",
      "source": [
        "arr[1].sort()"
      ],
      "metadata": {
        "id": "UpK--XSwPqVz"
      },
      "execution_count": 54,
      "outputs": []
    },
    {
      "cell_type": "code",
      "source": [
        "arr"
      ],
      "metadata": {
        "colab": {
          "base_uri": "https://localhost:8080/"
        },
        "id": "Agqu2tj4PthJ",
        "outputId": "0d585111-5bc2-4cd7-cb01-a08dcbc51937"
      },
      "execution_count": 55,
      "outputs": [
        {
          "output_type": "execute_result",
          "data": {
            "text/plain": [
              "[[1, 2, 3, 4, 5], [4, 5, 5, 6, 7], [8, 9, 0, 1, 5], [2, 3, 4, 5, 5]]"
            ]
          },
          "metadata": {},
          "execution_count": 55
        }
      ]
    },
    {
      "cell_type": "code",
      "source": [
        "arr"
      ],
      "metadata": {
        "colab": {
          "base_uri": "https://localhost:8080/"
        },
        "id": "NyO9QdZGPw1N",
        "outputId": "40243263-7374-442b-d31a-6d2be01c5d33"
      },
      "execution_count": 56,
      "outputs": [
        {
          "output_type": "execute_result",
          "data": {
            "text/plain": [
              "[[1, 2, 3, 4, 5], [4, 5, 5, 6, 7], [8, 9, 0, 1, 5], [2, 3, 4, 5, 5]]"
            ]
          },
          "metadata": {},
          "execution_count": 56
        }
      ]
    },
    {
      "cell_type": "code",
      "source": [
        "arr[1:3]"
      ],
      "metadata": {
        "colab": {
          "base_uri": "https://localhost:8080/"
        },
        "id": "ypRmLtVlPt-H",
        "outputId": "90680c66-aea7-4062-eff8-025e1665e5a1"
      },
      "execution_count": 57,
      "outputs": [
        {
          "output_type": "execute_result",
          "data": {
            "text/plain": [
              "[[4, 5, 5, 6, 7], [8, 9, 0, 1, 5]]"
            ]
          },
          "metadata": {},
          "execution_count": 57
        }
      ]
    },
    {
      "cell_type": "code",
      "source": [
        "[x[2:4] for x in arr[1:3]]#important like arr[:,2:4] in numpy"
      ],
      "metadata": {
        "colab": {
          "base_uri": "https://localhost:8080/"
        },
        "id": "dSbnLHQhP096",
        "outputId": "c44efd8a-1164-48f7-924c-52e3410af91c"
      },
      "execution_count": 63,
      "outputs": [
        {
          "output_type": "execute_result",
          "data": {
            "text/plain": [
              "[[5, 6], [0, 1]]"
            ]
          },
          "metadata": {},
          "execution_count": 63
        }
      ]
    },
    {
      "cell_type": "code",
      "source": [
        "arr"
      ],
      "metadata": {
        "colab": {
          "base_uri": "https://localhost:8080/"
        },
        "id": "xgttiQXaP_9A",
        "outputId": "9a050baf-4fa6-4996-cad0-b561cc45a3c9"
      },
      "execution_count": 64,
      "outputs": [
        {
          "output_type": "execute_result",
          "data": {
            "text/plain": [
              "[[1, 2, 3, 4, 5], [4, 5, 5, 6, 7], [8, 9, 0, 1, 5], [2, 3, 4, 5, 5]]"
            ]
          },
          "metadata": {},
          "execution_count": 64
        }
      ]
    },
    {
      "cell_type": "code",
      "source": [
        "for i in arr:\n",
        "    for j in i:\n",
        "        print(j,end=\" \")\n",
        "    print()"
      ],
      "metadata": {
        "colab": {
          "base_uri": "https://localhost:8080/"
        },
        "id": "2xS770YqQgLU",
        "outputId": "b8359498-7cba-4453-8c0c-95577fec3845"
      },
      "execution_count": 65,
      "outputs": [
        {
          "output_type": "stream",
          "name": "stdout",
          "text": [
            "1 2 3 4 5 \n",
            "4 5 5 6 7 \n",
            "8 9 0 1 5 \n",
            "2 3 4 5 5 \n"
          ]
        }
      ]
    },
    {
      "cell_type": "code",
      "source": [
        "for i in range(len(arr)):\n",
        "    for j in range(len(arr[0])):\n",
        "        print(arr[i][j],end=\" \")\n",
        "    print()"
      ],
      "metadata": {
        "colab": {
          "base_uri": "https://localhost:8080/"
        },
        "id": "3rGcmrD_Qw3q",
        "outputId": "f5bce63e-b1a0-4029-87ad-8c243fd1810c"
      },
      "execution_count": 66,
      "outputs": [
        {
          "output_type": "stream",
          "name": "stdout",
          "text": [
            "1 2 3 4 5 \n",
            "4 5 5 6 7 \n",
            "8 9 0 1 5 \n",
            "2 3 4 5 5 \n"
          ]
        }
      ]
    },
    {
      "cell_type": "code",
      "source": [
        "#to take transpose don't do anything just treat rows as columns and columns as rows"
      ],
      "metadata": {
        "id": "bluNVVgbQ7XC"
      },
      "execution_count": 67,
      "outputs": []
    },
    {
      "cell_type": "code",
      "source": [
        "max([max(x) for x in arr])"
      ],
      "metadata": {
        "colab": {
          "base_uri": "https://localhost:8080/"
        },
        "id": "XS9nFsAVRQGi",
        "outputId": "0d066c44-1e26-449c-ad73-4453cdc97d5f"
      },
      "execution_count": 68,
      "outputs": [
        {
          "output_type": "execute_result",
          "data": {
            "text/plain": [
              "9"
            ]
          },
          "metadata": {},
          "execution_count": 68
        }
      ]
    },
    {
      "cell_type": "code",
      "source": [
        "min(min(x) for x in arr)"
      ],
      "metadata": {
        "colab": {
          "base_uri": "https://localhost:8080/"
        },
        "id": "9DW92x6nRclk",
        "outputId": "9427b204-0632-4386-d054-b52cf5c65898"
      },
      "execution_count": 69,
      "outputs": [
        {
          "output_type": "execute_result",
          "data": {
            "text/plain": [
              "0"
            ]
          },
          "metadata": {},
          "execution_count": 69
        }
      ]
    },
    {
      "cell_type": "code",
      "source": [
        ""
      ],
      "metadata": {
        "id": "8qVdMJHSRgIn"
      },
      "execution_count": null,
      "outputs": []
    },
    {
      "cell_type": "markdown",
      "source": [
        "#lists "
      ],
      "metadata": {
        "id": "cwNjr683RxxX"
      }
    },
    {
      "cell_type": "code",
      "source": [
        "var=[]\n"
      ],
      "metadata": {
        "id": "yvjVtUw3R1JO"
      },
      "execution_count": 90,
      "outputs": []
    },
    {
      "cell_type": "code",
      "source": [
        "len(var)"
      ],
      "metadata": {
        "colab": {
          "base_uri": "https://localhost:8080/"
        },
        "id": "8wbnRwg3Sh0A",
        "outputId": "7f3a4a59-03fe-4aec-cd82-54a283cfa0f8"
      },
      "execution_count": 91,
      "outputs": [
        {
          "output_type": "execute_result",
          "data": {
            "text/plain": [
              "0"
            ]
          },
          "metadata": {},
          "execution_count": 91
        }
      ]
    },
    {
      "cell_type": "code",
      "source": [
        "var.append(3)"
      ],
      "metadata": {
        "id": "RxmBuGVfR7ef"
      },
      "execution_count": 71,
      "outputs": []
    },
    {
      "cell_type": "code",
      "source": [
        "var"
      ],
      "metadata": {
        "colab": {
          "base_uri": "https://localhost:8080/"
        },
        "id": "nDTu972PR8fv",
        "outputId": "d4da61b9-b9c2-4dbf-e407-71920e71ea23"
      },
      "execution_count": 72,
      "outputs": [
        {
          "output_type": "execute_result",
          "data": {
            "text/plain": [
              "[3]"
            ]
          },
          "metadata": {},
          "execution_count": 72
        }
      ]
    },
    {
      "cell_type": "code",
      "source": [
        "var.pop()\n",
        "var"
      ],
      "metadata": {
        "colab": {
          "base_uri": "https://localhost:8080/"
        },
        "id": "tVL91HQOR9Aj",
        "outputId": "c6c42263-4e23-401d-b82b-a06aeda7d78a"
      },
      "execution_count": 73,
      "outputs": [
        {
          "output_type": "execute_result",
          "data": {
            "text/plain": [
              "[]"
            ]
          },
          "metadata": {},
          "execution_count": 73
        }
      ]
    },
    {
      "cell_type": "code",
      "source": [
        "var+=[1,2,3]"
      ],
      "metadata": {
        "id": "875T9GZiR_5k"
      },
      "execution_count": 74,
      "outputs": []
    },
    {
      "cell_type": "code",
      "source": [
        "var"
      ],
      "metadata": {
        "colab": {
          "base_uri": "https://localhost:8080/"
        },
        "id": "TmmhXrz5SDTY",
        "outputId": "52624b0c-36ea-41d5-d5a9-8b332c1a6d5d"
      },
      "execution_count": 75,
      "outputs": [
        {
          "output_type": "execute_result",
          "data": {
            "text/plain": [
              "[1, 2, 3]"
            ]
          },
          "metadata": {},
          "execution_count": 75
        }
      ]
    },
    {
      "cell_type": "code",
      "source": [
        "var.pop(0)"
      ],
      "metadata": {
        "colab": {
          "base_uri": "https://localhost:8080/"
        },
        "id": "ekbl4PWSSDpS",
        "outputId": "98158caa-7a11-4ad5-96c0-2b8115c9ed89"
      },
      "execution_count": 76,
      "outputs": [
        {
          "output_type": "execute_result",
          "data": {
            "text/plain": [
              "1"
            ]
          },
          "metadata": {},
          "execution_count": 76
        }
      ]
    },
    {
      "cell_type": "code",
      "source": [
        "var"
      ],
      "metadata": {
        "colab": {
          "base_uri": "https://localhost:8080/"
        },
        "id": "pRJRY8_lSGFL",
        "outputId": "ef196dd0-1b9b-4bc9-ef63-2189aa890fe4"
      },
      "execution_count": 77,
      "outputs": [
        {
          "output_type": "execute_result",
          "data": {
            "text/plain": [
              "[2, 3]"
            ]
          },
          "metadata": {},
          "execution_count": 77
        }
      ]
    },
    {
      "cell_type": "code",
      "source": [
        "var.insert(0,22)"
      ],
      "metadata": {
        "id": "4FeHCYRHSGb5"
      },
      "execution_count": 78,
      "outputs": []
    },
    {
      "cell_type": "code",
      "source": [
        "var"
      ],
      "metadata": {
        "colab": {
          "base_uri": "https://localhost:8080/"
        },
        "id": "Jp2376nKSIVp",
        "outputId": "6bbae3da-075f-4e95-ba45-f37f7b5bf43b"
      },
      "execution_count": 79,
      "outputs": [
        {
          "output_type": "execute_result",
          "data": {
            "text/plain": [
              "[22, 2, 3]"
            ]
          },
          "metadata": {},
          "execution_count": 79
        }
      ]
    },
    {
      "cell_type": "code",
      "source": [
        "var.insert(2,32)"
      ],
      "metadata": {
        "id": "Rsvm9sKVSIp0"
      },
      "execution_count": 80,
      "outputs": []
    },
    {
      "cell_type": "code",
      "source": [
        "var"
      ],
      "metadata": {
        "colab": {
          "base_uri": "https://localhost:8080/"
        },
        "id": "86L0Ctu6SMMc",
        "outputId": "334ab445-2b96-4b19-f1ec-97e2757793ff"
      },
      "execution_count": 81,
      "outputs": [
        {
          "output_type": "execute_result",
          "data": {
            "text/plain": [
              "[22, 2, 32, 3]"
            ]
          },
          "metadata": {},
          "execution_count": 81
        }
      ]
    },
    {
      "cell_type": "code",
      "source": [
        "var.pop(2)"
      ],
      "metadata": {
        "colab": {
          "base_uri": "https://localhost:8080/"
        },
        "id": "XX-ttNjSSMeH",
        "outputId": "2624f4ff-4050-4ae2-b7c0-9accc7186f7d"
      },
      "execution_count": 82,
      "outputs": [
        {
          "output_type": "execute_result",
          "data": {
            "text/plain": [
              "32"
            ]
          },
          "metadata": {},
          "execution_count": 82
        }
      ]
    },
    {
      "cell_type": "code",
      "source": [
        "var"
      ],
      "metadata": {
        "colab": {
          "base_uri": "https://localhost:8080/"
        },
        "id": "NdT1CNrjSPiG",
        "outputId": "1befe428-6ce3-4db3-8e6f-dfda466ea548"
      },
      "execution_count": 83,
      "outputs": [
        {
          "output_type": "execute_result",
          "data": {
            "text/plain": [
              "[22, 2, 3]"
            ]
          },
          "metadata": {},
          "execution_count": 83
        }
      ]
    },
    {
      "cell_type": "code",
      "source": [
        "var.remove(22)"
      ],
      "metadata": {
        "id": "UJDjgFxISP03"
      },
      "execution_count": 84,
      "outputs": []
    },
    {
      "cell_type": "code",
      "source": [
        "var"
      ],
      "metadata": {
        "colab": {
          "base_uri": "https://localhost:8080/"
        },
        "id": "UujR5tq7STnh",
        "outputId": "6d43b8a9-60e6-4299-de25-834fa17e30d8"
      },
      "execution_count": 85,
      "outputs": [
        {
          "output_type": "execute_result",
          "data": {
            "text/plain": [
              "[2, 3]"
            ]
          },
          "metadata": {},
          "execution_count": 85
        }
      ]
    },
    {
      "cell_type": "code",
      "source": [
        "var.sort()"
      ],
      "metadata": {
        "id": "FHlLqyQISUBQ"
      },
      "execution_count": 86,
      "outputs": []
    },
    {
      "cell_type": "code",
      "source": [
        "var"
      ],
      "metadata": {
        "colab": {
          "base_uri": "https://localhost:8080/"
        },
        "id": "tQs-ipmGSXRl",
        "outputId": "6453ee13-39c6-405c-aa8a-51a4de5390b2"
      },
      "execution_count": 87,
      "outputs": [
        {
          "output_type": "execute_result",
          "data": {
            "text/plain": [
              "[2, 3]"
            ]
          },
          "metadata": {},
          "execution_count": 87
        }
      ]
    },
    {
      "cell_type": "code",
      "source": [
        "max(var),min(var)"
      ],
      "metadata": {
        "colab": {
          "base_uri": "https://localhost:8080/"
        },
        "id": "gT-P5RLdSXmY",
        "outputId": "bbd183d8-2006-4963-ecbb-df76b42c25ee"
      },
      "execution_count": 89,
      "outputs": [
        {
          "output_type": "execute_result",
          "data": {
            "text/plain": [
              "(3, 2)"
            ]
          },
          "metadata": {},
          "execution_count": 89
        }
      ]
    },
    {
      "cell_type": "markdown",
      "source": [
        "#strings"
      ],
      "metadata": {
        "id": "IPvP_D0hSaxS"
      }
    },
    {
      "cell_type": "code",
      "source": [
        "string=\"0123456789\"\n",
        "string"
      ],
      "metadata": {
        "colab": {
          "base_uri": "https://localhost:8080/"
        },
        "id": "-w2lE1qPSrTZ",
        "outputId": "a61c572d-cf7a-4e14-b92c-01e0c3d27e3b"
      },
      "execution_count": 93,
      "outputs": [
        {
          "output_type": "execute_result",
          "data": {
            "text/plain": [
              "'0123456789'"
            ]
          },
          "metadata": {},
          "execution_count": 93
        }
      ]
    },
    {
      "cell_type": "code",
      "source": [
        "len(string)"
      ],
      "metadata": {
        "colab": {
          "base_uri": "https://localhost:8080/"
        },
        "id": "E-StcJlcS3x-",
        "outputId": "81ea4f8c-0fac-4fc4-8fab-164c9faf5003"
      },
      "execution_count": 94,
      "outputs": [
        {
          "output_type": "execute_result",
          "data": {
            "text/plain": [
              "10"
            ]
          },
          "metadata": {},
          "execution_count": 94
        }
      ]
    },
    {
      "cell_type": "code",
      "source": [
        "string[3]"
      ],
      "metadata": {
        "colab": {
          "base_uri": "https://localhost:8080/"
        },
        "id": "ISnxRolSS5rT",
        "outputId": "54e75458-a86c-41be-bb7f-ef135721ef27"
      },
      "execution_count": 95,
      "outputs": [
        {
          "output_type": "execute_result",
          "data": {
            "text/plain": [
              "'3'"
            ]
          },
          "metadata": {},
          "execution_count": 95
        }
      ]
    },
    {
      "cell_type": "code",
      "source": [
        "string[-1]"
      ],
      "metadata": {
        "colab": {
          "base_uri": "https://localhost:8080/"
        },
        "id": "6FPLyuBjS8kE",
        "outputId": "ce60ff18-45c1-4414-f7aa-8cb9c844470e"
      },
      "execution_count": 96,
      "outputs": [
        {
          "output_type": "execute_result",
          "data": {
            "text/plain": [
              "'9'"
            ]
          },
          "metadata": {},
          "execution_count": 96
        }
      ]
    },
    {
      "cell_type": "code",
      "source": [
        "string[3:7]"
      ],
      "metadata": {
        "colab": {
          "base_uri": "https://localhost:8080/"
        },
        "id": "ysrFMYEaS_gd",
        "outputId": "fabb835a-d972-47ff-92a9-cbee02dbaea3"
      },
      "execution_count": 97,
      "outputs": [
        {
          "output_type": "execute_result",
          "data": {
            "text/plain": [
              "'3456'"
            ]
          },
          "metadata": {},
          "execution_count": 97
        }
      ]
    },
    {
      "cell_type": "code",
      "source": [
        "int(string)"
      ],
      "metadata": {
        "colab": {
          "base_uri": "https://localhost:8080/"
        },
        "id": "JW7jOQUATA9w",
        "outputId": "66f876ce-814a-4112-a9fe-5981c40b26f3"
      },
      "execution_count": 98,
      "outputs": [
        {
          "output_type": "execute_result",
          "data": {
            "text/plain": [
              "123456789"
            ]
          },
          "metadata": {},
          "execution_count": 98
        }
      ]
    },
    {
      "cell_type": "code",
      "source": [
        "string+=\"22\""
      ],
      "metadata": {
        "id": "suahMOWmTDbN"
      },
      "execution_count": 99,
      "outputs": []
    },
    {
      "cell_type": "code",
      "source": [
        "string"
      ],
      "metadata": {
        "colab": {
          "base_uri": "https://localhost:8080/"
        },
        "id": "GaSVUbRfTH9Y",
        "outputId": "94b02286-f417-4475-b348-0dc4f4407d18"
      },
      "execution_count": 100,
      "outputs": [
        {
          "output_type": "execute_result",
          "data": {
            "text/plain": [
              "'012345678922'"
            ]
          },
          "metadata": {},
          "execution_count": 100
        }
      ]
    },
    {
      "cell_type": "code",
      "source": [
        "list(string)"
      ],
      "metadata": {
        "colab": {
          "base_uri": "https://localhost:8080/"
        },
        "id": "lYH4DByHTIZp",
        "outputId": "dbeeed3b-6627-4148-b6ee-ced7749e7114"
      },
      "execution_count": 101,
      "outputs": [
        {
          "output_type": "execute_result",
          "data": {
            "text/plain": [
              "['0', '1', '2', '3', '4', '5', '6', '7', '8', '9', '2', '2']"
            ]
          },
          "metadata": {},
          "execution_count": 101
        }
      ]
    },
    {
      "cell_type": "code",
      "source": [
        "int(string[3:5])"
      ],
      "metadata": {
        "colab": {
          "base_uri": "https://localhost:8080/"
        },
        "id": "si6GAnZbTLLD",
        "outputId": "cc64d01d-cd0e-46b9-81cd-4d89a3fac061"
      },
      "execution_count": 103,
      "outputs": [
        {
          "output_type": "execute_result",
          "data": {
            "text/plain": [
              "34"
            ]
          },
          "metadata": {},
          "execution_count": 103
        }
      ]
    },
    {
      "cell_type": "code",
      "source": [
        "l=list(string)\n",
        "l"
      ],
      "metadata": {
        "colab": {
          "base_uri": "https://localhost:8080/"
        },
        "id": "Pf_LGNIiTOBK",
        "outputId": "d4cd8c98-534a-4421-aad1-ae757116e8b0"
      },
      "execution_count": 104,
      "outputs": [
        {
          "output_type": "execute_result",
          "data": {
            "text/plain": [
              "['0', '1', '2', '3', '4', '5', '6', '7', '8', '9', '2', '2']"
            ]
          },
          "metadata": {},
          "execution_count": 104
        }
      ]
    },
    {
      "cell_type": "code",
      "source": [
        "\"\".join(l)"
      ],
      "metadata": {
        "colab": {
          "base_uri": "https://localhost:8080/"
        },
        "id": "5iWyTEZNTV81",
        "outputId": "d3be8fe1-8196-4d97-b56b-89c4ae74fbfe"
      },
      "execution_count": 105,
      "outputs": [
        {
          "output_type": "execute_result",
          "data": {
            "text/plain": [
              "'012345678922'"
            ]
          },
          "metadata": {},
          "execution_count": 105
        }
      ]
    },
    {
      "cell_type": "code",
      "source": [
        "string"
      ],
      "metadata": {
        "colab": {
          "base_uri": "https://localhost:8080/"
        },
        "id": "Ly1cRct1TX0U",
        "outputId": "bab866ba-fea6-4606-a551-0028791e4e0f"
      },
      "execution_count": 108,
      "outputs": [
        {
          "output_type": "execute_result",
          "data": {
            "text/plain": [
              "'012345678922'"
            ]
          },
          "metadata": {},
          "execution_count": 108
        }
      ]
    },
    {
      "cell_type": "code",
      "source": [
        "string.reverse()"
      ],
      "metadata": {
        "colab": {
          "base_uri": "https://localhost:8080/",
          "height": 163
        },
        "id": "dq9_YSD7Tfx0",
        "outputId": "a440bb88-e4cb-451b-e001-b527752560b3"
      },
      "execution_count": 112,
      "outputs": [
        {
          "output_type": "error",
          "ename": "AttributeError",
          "evalue": "ignored",
          "traceback": [
            "\u001b[0;31m---------------------------------------------------------------------------\u001b[0m",
            "\u001b[0;31mAttributeError\u001b[0m                            Traceback (most recent call last)",
            "\u001b[0;32m/tmp/ipykernel_24938/1833592812.py\u001b[0m in \u001b[0;36m<module>\u001b[0;34m\u001b[0m\n\u001b[0;32m----> 1\u001b[0;31m \u001b[0mstring\u001b[0m\u001b[0;34m.\u001b[0m\u001b[0mreverse\u001b[0m\u001b[0;34m(\u001b[0m\u001b[0;34m)\u001b[0m\u001b[0;34m\u001b[0m\u001b[0;34m\u001b[0m\u001b[0m\n\u001b[0m",
            "\u001b[0;31mAttributeError\u001b[0m: 'str' object has no attribute 'reverse'"
          ]
        }
      ]
    },
    {
      "cell_type": "code",
      "source": [
        "reversed(string)"
      ],
      "metadata": {
        "colab": {
          "base_uri": "https://localhost:8080/"
        },
        "id": "a8_Jr1GgTl9A",
        "outputId": "e028c7a1-41c8-44a1-fda3-2abda27a711d"
      },
      "execution_count": 113,
      "outputs": [
        {
          "output_type": "execute_result",
          "data": {
            "text/plain": [
              "<reversed at 0x7f458e695d00>"
            ]
          },
          "metadata": {},
          "execution_count": 113
        }
      ]
    },
    {
      "cell_type": "code",
      "source": [
        "string"
      ],
      "metadata": {
        "colab": {
          "base_uri": "https://localhost:8080/"
        },
        "id": "nLn21QgVTsCR",
        "outputId": "0fa655d1-900a-4b8e-b247-4b28017791b8"
      },
      "execution_count": 114,
      "outputs": [
        {
          "output_type": "execute_result",
          "data": {
            "text/plain": [
              "'012345678922'"
            ]
          },
          "metadata": {},
          "execution_count": 114
        }
      ]
    },
    {
      "cell_type": "code",
      "source": [
        "string[::-1]#cool"
      ],
      "metadata": {
        "colab": {
          "base_uri": "https://localhost:8080/"
        },
        "id": "pk4oZFcxTt0J",
        "outputId": "98f0ea02-e775-4acb-b6a4-074b3acf875b"
      },
      "execution_count": 117,
      "outputs": [
        {
          "output_type": "execute_result",
          "data": {
            "text/plain": [
              "'229876543210'"
            ]
          },
          "metadata": {},
          "execution_count": 117
        }
      ]
    },
    {
      "cell_type": "code",
      "source": [
        "chr(97)"
      ],
      "metadata": {
        "colab": {
          "base_uri": "https://localhost:8080/"
        },
        "id": "L0wZK0grTvqp",
        "outputId": "82fd1364-b749-4b33-823a-45db435e3337"
      },
      "execution_count": 120,
      "outputs": [
        {
          "output_type": "execute_result",
          "data": {
            "text/plain": [
              "'a'"
            ]
          },
          "metadata": {},
          "execution_count": 120
        }
      ]
    },
    {
      "cell_type": "code",
      "source": [
        "ord('a')"
      ],
      "metadata": {
        "colab": {
          "base_uri": "https://localhost:8080/"
        },
        "id": "Quxd14R7T4iP",
        "outputId": "2c32cf39-2d97-43cc-b4e5-6ebe25ec6eb1"
      },
      "execution_count": 121,
      "outputs": [
        {
          "output_type": "execute_result",
          "data": {
            "text/plain": [
              "97"
            ]
          },
          "metadata": {},
          "execution_count": 121
        }
      ]
    },
    {
      "cell_type": "code",
      "source": [
        "string=\"hi there\""
      ],
      "metadata": {
        "id": "ILSnPXKKT-rM"
      },
      "execution_count": 122,
      "outputs": []
    },
    {
      "cell_type": "code",
      "source": [
        "string.split()"
      ],
      "metadata": {
        "colab": {
          "base_uri": "https://localhost:8080/"
        },
        "id": "HNHTExfWUSyt",
        "outputId": "16da87f2-415a-4714-dfa4-088cf0419f18"
      },
      "execution_count": 123,
      "outputs": [
        {
          "output_type": "execute_result",
          "data": {
            "text/plain": [
              "['hi', 'there']"
            ]
          },
          "metadata": {},
          "execution_count": 123
        }
      ]
    },
    {
      "cell_type": "code",
      "source": [
        "string=\"   hi there   \""
      ],
      "metadata": {
        "id": "R3yidPgaUUUj"
      },
      "execution_count": 124,
      "outputs": []
    },
    {
      "cell_type": "code",
      "source": [
        "string.strip()"
      ],
      "metadata": {
        "colab": {
          "base_uri": "https://localhost:8080/"
        },
        "id": "NdTxqbwTUbk8",
        "outputId": "67ee6272-903d-485f-e1be-a24d52aaf0aa"
      },
      "execution_count": 125,
      "outputs": [
        {
          "output_type": "execute_result",
          "data": {
            "text/plain": [
              "'hi there'"
            ]
          },
          "metadata": {},
          "execution_count": 125
        }
      ]
    },
    {
      "cell_type": "code",
      "source": [
        "string.find(\"hi\")"
      ],
      "metadata": {
        "colab": {
          "base_uri": "https://localhost:8080/"
        },
        "id": "79DFSdbaUdZF",
        "outputId": "0cf86d31-4043-49da-f6df-c0dc54a850a1"
      },
      "execution_count": 126,
      "outputs": [
        {
          "output_type": "execute_result",
          "data": {
            "text/plain": [
              "3"
            ]
          },
          "metadata": {},
          "execution_count": 126
        }
      ]
    },
    {
      "cell_type": "code",
      "source": [
        "string.index(\"hi\")"
      ],
      "metadata": {
        "colab": {
          "base_uri": "https://localhost:8080/"
        },
        "id": "a2K3GqwHUjJa",
        "outputId": "362ec39b-5cab-45b9-965f-4395f4369969"
      },
      "execution_count": 127,
      "outputs": [
        {
          "output_type": "execute_result",
          "data": {
            "text/plain": [
              "3"
            ]
          },
          "metadata": {},
          "execution_count": 127
        }
      ]
    },
    {
      "cell_type": "code",
      "source": [
        "string.replace('hi',\"bye\")"
      ],
      "metadata": {
        "colab": {
          "base_uri": "https://localhost:8080/"
        },
        "id": "OCxODqO2UlZY",
        "outputId": "3676c738-8905-4f02-d9d8-83da8dd06622"
      },
      "execution_count": 128,
      "outputs": [
        {
          "output_type": "execute_result",
          "data": {
            "text/plain": [
              "'   bye there   '"
            ]
          },
          "metadata": {},
          "execution_count": 128
        }
      ]
    },
    {
      "cell_type": "code",
      "source": [
        ""
      ],
      "metadata": {
        "id": "5qoeNN9pUo1M"
      },
      "execution_count": null,
      "outputs": []
    },
    {
      "cell_type": "markdown",
      "source": [
        "#dictionary"
      ],
      "metadata": {
        "id": "jUFdf7lLUzIp"
      }
    },
    {
      "cell_type": "code",
      "source": [
        "map={}\n",
        "map"
      ],
      "metadata": {
        "colab": {
          "base_uri": "https://localhost:8080/"
        },
        "id": "jTwemenoVtOy",
        "outputId": "dd7f3c33-b7a6-4a5d-ae76-66a180f549bb"
      },
      "execution_count": 129,
      "outputs": [
        {
          "output_type": "execute_result",
          "data": {
            "text/plain": [
              "{}"
            ]
          },
          "metadata": {},
          "execution_count": 129
        }
      ]
    },
    {
      "cell_type": "code",
      "source": [
        "map[1]=2\n",
        "map"
      ],
      "metadata": {
        "colab": {
          "base_uri": "https://localhost:8080/"
        },
        "id": "O2le_6kZVdeb",
        "outputId": "68532ace-8e84-4521-dcf9-57e885ee53bc"
      },
      "execution_count": 130,
      "outputs": [
        {
          "output_type": "execute_result",
          "data": {
            "text/plain": [
              "{1: 2}"
            ]
          },
          "metadata": {},
          "execution_count": 130
        }
      ]
    },
    {
      "cell_type": "code",
      "source": [
        "map[\"year\"]=33"
      ],
      "metadata": {
        "id": "toKIUZfcV1zh"
      },
      "execution_count": 131,
      "outputs": []
    },
    {
      "cell_type": "code",
      "source": [
        "map"
      ],
      "metadata": {
        "colab": {
          "base_uri": "https://localhost:8080/"
        },
        "id": "ltbeJ1awV5gJ",
        "outputId": "828768bd-8bf2-4940-b896-b2a214ce8cc9"
      },
      "execution_count": 132,
      "outputs": [
        {
          "output_type": "execute_result",
          "data": {
            "text/plain": [
              "{1: 2, 'year': 33}"
            ]
          },
          "metadata": {},
          "execution_count": 132
        }
      ]
    },
    {
      "cell_type": "code",
      "source": [
        "map[1],map['year']"
      ],
      "metadata": {
        "colab": {
          "base_uri": "https://localhost:8080/"
        },
        "id": "CP9EttzYV54S",
        "outputId": "51d0c98d-75cf-412a-91cb-a0262a7d383b"
      },
      "execution_count": 133,
      "outputs": [
        {
          "output_type": "execute_result",
          "data": {
            "text/plain": [
              "(2, 33)"
            ]
          },
          "metadata": {},
          "execution_count": 133
        }
      ]
    },
    {
      "cell_type": "code",
      "source": [
        "map.pop('year')"
      ],
      "metadata": {
        "colab": {
          "base_uri": "https://localhost:8080/"
        },
        "id": "jvm-KZgiV9B_",
        "outputId": "d6ec1884-e65f-4576-d79d-e87758ea2036"
      },
      "execution_count": 134,
      "outputs": [
        {
          "output_type": "execute_result",
          "data": {
            "text/plain": [
              "33"
            ]
          },
          "metadata": {},
          "execution_count": 134
        }
      ]
    },
    {
      "cell_type": "code",
      "source": [
        "map"
      ],
      "metadata": {
        "colab": {
          "base_uri": "https://localhost:8080/"
        },
        "id": "7mldUnm5WByY",
        "outputId": "fdc89431-416b-47e9-d573-c79eba58948e"
      },
      "execution_count": 135,
      "outputs": [
        {
          "output_type": "execute_result",
          "data": {
            "text/plain": [
              "{1: 2}"
            ]
          },
          "metadata": {},
          "execution_count": 135
        }
      ]
    },
    {
      "cell_type": "code",
      "source": [
        "map[22]=33"
      ],
      "metadata": {
        "id": "aDvEi_gKWCJQ"
      },
      "execution_count": 136,
      "outputs": []
    },
    {
      "cell_type": "code",
      "source": [
        "map"
      ],
      "metadata": {
        "colab": {
          "base_uri": "https://localhost:8080/"
        },
        "id": "vtNNhUxrWIBX",
        "outputId": "a307c1d4-4988-4e88-9886-89046ec6a2ff"
      },
      "execution_count": 137,
      "outputs": [
        {
          "output_type": "execute_result",
          "data": {
            "text/plain": [
              "{1: 2, 22: 33}"
            ]
          },
          "metadata": {},
          "execution_count": 137
        }
      ]
    },
    {
      "cell_type": "code",
      "source": [
        "map.get(22)"
      ],
      "metadata": {
        "colab": {
          "base_uri": "https://localhost:8080/"
        },
        "id": "DBxc_nKGWIap",
        "outputId": "286e716b-1b58-4948-e664-422a0f33afe8"
      },
      "execution_count": 138,
      "outputs": [
        {
          "output_type": "execute_result",
          "data": {
            "text/plain": [
              "33"
            ]
          },
          "metadata": {},
          "execution_count": 138
        }
      ]
    },
    {
      "cell_type": "code",
      "source": [
        "map.get(44)"
      ],
      "metadata": {
        "id": "GyOdfxvsWLq3"
      },
      "execution_count": 144,
      "outputs": []
    },
    {
      "cell_type": "code",
      "source": [
        "map.get(44,0)"
      ],
      "metadata": {
        "colab": {
          "base_uri": "https://localhost:8080/"
        },
        "id": "jWNrpxaeWM0x",
        "outputId": "5882416d-7894-4672-c683-f199674f3c47"
      },
      "execution_count": 145,
      "outputs": [
        {
          "output_type": "execute_result",
          "data": {
            "text/plain": [
              "0"
            ]
          },
          "metadata": {},
          "execution_count": 145
        }
      ]
    },
    {
      "cell_type": "code",
      "source": [
        "map[99]=map.get(99,0)+1"
      ],
      "metadata": {
        "id": "dtdFWTslWS4i"
      },
      "execution_count": 146,
      "outputs": []
    },
    {
      "cell_type": "code",
      "source": [
        "map"
      ],
      "metadata": {
        "colab": {
          "base_uri": "https://localhost:8080/"
        },
        "id": "9JBuX5afWYuS",
        "outputId": "10d4c095-a5aa-4211-8a58-c23e95a637d2"
      },
      "execution_count": 147,
      "outputs": [
        {
          "output_type": "execute_result",
          "data": {
            "text/plain": [
              "{1: 2, 22: 33, 99: 1}"
            ]
          },
          "metadata": {},
          "execution_count": 147
        }
      ]
    },
    {
      "cell_type": "code",
      "source": [
        "del map[22]"
      ],
      "metadata": {
        "id": "h5XF2imkWZD0"
      },
      "execution_count": 148,
      "outputs": []
    },
    {
      "cell_type": "code",
      "source": [
        "map"
      ],
      "metadata": {
        "colab": {
          "base_uri": "https://localhost:8080/"
        },
        "id": "U6Gj04NfWeJP",
        "outputId": "2ddd1b39-2c71-489d-e764-0ef28eb101bf"
      },
      "execution_count": 149,
      "outputs": [
        {
          "output_type": "execute_result",
          "data": {
            "text/plain": [
              "{1: 2, 99: 1}"
            ]
          },
          "metadata": {},
          "execution_count": 149
        }
      ]
    },
    {
      "cell_type": "code",
      "source": [
        "map.values()"
      ],
      "metadata": {
        "colab": {
          "base_uri": "https://localhost:8080/"
        },
        "id": "UafVxn5MWel_",
        "outputId": "41a06499-ae80-4d34-9910-9643a4f1dc69"
      },
      "execution_count": 150,
      "outputs": [
        {
          "output_type": "execute_result",
          "data": {
            "text/plain": [
              "dict_values([2, 1])"
            ]
          },
          "metadata": {},
          "execution_count": 150
        }
      ]
    },
    {
      "cell_type": "code",
      "source": [
        "list(map.values())"
      ],
      "metadata": {
        "colab": {
          "base_uri": "https://localhost:8080/"
        },
        "id": "8wKEHu9SWosQ",
        "outputId": "2eac1aa6-8a67-47e8-bfce-faf6373fa5da"
      },
      "execution_count": 152,
      "outputs": [
        {
          "output_type": "execute_result",
          "data": {
            "text/plain": [
              "[2, 1]"
            ]
          },
          "metadata": {},
          "execution_count": 152
        }
      ]
    },
    {
      "cell_type": "code",
      "source": [
        "max(map.values())"
      ],
      "metadata": {
        "colab": {
          "base_uri": "https://localhost:8080/"
        },
        "id": "Tj-fT_5wWrbI",
        "outputId": "eb14e313-2801-4a33-add5-087dec9e98a2"
      },
      "execution_count": 161,
      "outputs": [
        {
          "output_type": "execute_result",
          "data": {
            "text/plain": [
              "2"
            ]
          },
          "metadata": {},
          "execution_count": 161
        }
      ]
    },
    {
      "cell_type": "code",
      "source": [
        "map.keys()"
      ],
      "metadata": {
        "colab": {
          "base_uri": "https://localhost:8080/"
        },
        "id": "uRNtiRr3WuT6",
        "outputId": "7924387d-b776-4259-e801-e8bee50046de"
      },
      "execution_count": 154,
      "outputs": [
        {
          "output_type": "execute_result",
          "data": {
            "text/plain": [
              "dict_keys([1, 99])"
            ]
          },
          "metadata": {},
          "execution_count": 154
        }
      ]
    },
    {
      "cell_type": "code",
      "source": [
        "list(map.keys())"
      ],
      "metadata": {
        "colab": {
          "base_uri": "https://localhost:8080/"
        },
        "id": "-68mTKbzWwFi",
        "outputId": "d405c4af-0036-406d-f996-cefac2c37428"
      },
      "execution_count": 155,
      "outputs": [
        {
          "output_type": "execute_result",
          "data": {
            "text/plain": [
              "[1, 99]"
            ]
          },
          "metadata": {},
          "execution_count": 155
        }
      ]
    },
    {
      "cell_type": "code",
      "source": [
        "max(map.keys())"
      ],
      "metadata": {
        "colab": {
          "base_uri": "https://localhost:8080/"
        },
        "id": "zVUdJsWLWyXr",
        "outputId": "a71967f2-9a6c-49ad-9d02-c75920e03866"
      },
      "execution_count": 156,
      "outputs": [
        {
          "output_type": "execute_result",
          "data": {
            "text/plain": [
              "99"
            ]
          },
          "metadata": {},
          "execution_count": 156
        }
      ]
    },
    {
      "cell_type": "code",
      "source": [
        "22 in map.values()"
      ],
      "metadata": {
        "colab": {
          "base_uri": "https://localhost:8080/"
        },
        "id": "-m-Te7kaW0Vl",
        "outputId": "b3339e7e-310e-42c5-9f85-7464eb62f118"
      },
      "execution_count": 157,
      "outputs": [
        {
          "output_type": "execute_result",
          "data": {
            "text/plain": [
              "False"
            ]
          },
          "metadata": {},
          "execution_count": 157
        }
      ]
    },
    {
      "cell_type": "code",
      "source": [
        "map"
      ],
      "metadata": {
        "colab": {
          "base_uri": "https://localhost:8080/"
        },
        "id": "7MftMVKtW7Ni",
        "outputId": "11ca4d98-821c-41ed-c557-108482b35a31"
      },
      "execution_count": 158,
      "outputs": [
        {
          "output_type": "execute_result",
          "data": {
            "text/plain": [
              "{1: 2, 99: 1}"
            ]
          },
          "metadata": {},
          "execution_count": 158
        }
      ]
    },
    {
      "cell_type": "code",
      "source": [
        "2 in map.values()"
      ],
      "metadata": {
        "colab": {
          "base_uri": "https://localhost:8080/"
        },
        "id": "iWmW6rN2W8Xh",
        "outputId": "d2f224d0-ac48-46c4-e2c3-50aa3df1830f"
      },
      "execution_count": 160,
      "outputs": [
        {
          "output_type": "execute_result",
          "data": {
            "text/plain": [
              "True"
            ]
          },
          "metadata": {},
          "execution_count": 160
        }
      ]
    },
    {
      "cell_type": "code",
      "source": [
        "a=sorted(map.keys())"
      ],
      "metadata": {
        "id": "e_Np3_gDW9xE"
      },
      "execution_count": 163,
      "outputs": []
    },
    {
      "cell_type": "code",
      "source": [
        "a"
      ],
      "metadata": {
        "colab": {
          "base_uri": "https://localhost:8080/"
        },
        "id": "vtedlXqNXHWi",
        "outputId": "8af7a4ed-8374-4122-8a5b-c7342c572510"
      },
      "execution_count": 164,
      "outputs": [
        {
          "output_type": "execute_result",
          "data": {
            "text/plain": [
              "[1, 99]"
            ]
          },
          "metadata": {},
          "execution_count": 164
        }
      ]
    },
    {
      "cell_type": "code",
      "source": [
        "b=sorted(map.values())"
      ],
      "metadata": {
        "id": "7YYgI_JAXJBj"
      },
      "execution_count": 165,
      "outputs": []
    },
    {
      "cell_type": "code",
      "source": [
        "b"
      ],
      "metadata": {
        "colab": {
          "base_uri": "https://localhost:8080/"
        },
        "id": "KdFggWGVXMRG",
        "outputId": "43808021-a15f-41e3-b8d2-378e90d6b09d"
      },
      "execution_count": 166,
      "outputs": [
        {
          "output_type": "execute_result",
          "data": {
            "text/plain": [
              "[1, 2]"
            ]
          },
          "metadata": {},
          "execution_count": 166
        }
      ]
    },
    {
      "cell_type": "code",
      "source": [
        "map.items()"
      ],
      "metadata": {
        "colab": {
          "base_uri": "https://localhost:8080/"
        },
        "id": "tI5S9S8-XMlw",
        "outputId": "7cb21bb1-5ea4-49d3-d495-1f2fe773bba6"
      },
      "execution_count": 167,
      "outputs": [
        {
          "output_type": "execute_result",
          "data": {
            "text/plain": [
              "dict_items([(1, 2), (99, 1)])"
            ]
          },
          "metadata": {},
          "execution_count": 167
        }
      ]
    },
    {
      "cell_type": "code",
      "source": [
        ""
      ],
      "metadata": {
        "id": "TYG2PtE_XQwu"
      },
      "execution_count": null,
      "outputs": []
    },
    {
      "cell_type": "markdown",
      "source": [
        "#functions"
      ],
      "metadata": {
        "id": "wXk_L6hvXWYp"
      }
    },
    {
      "cell_type": "code",
      "source": [
        "def function(arg1,arg2,arg3=3):\n",
        "    return arg1+arg2+arg3"
      ],
      "metadata": {
        "id": "FosckfTnXYmW"
      },
      "execution_count": 169,
      "outputs": []
    },
    {
      "cell_type": "code",
      "source": [
        "function(2,3)"
      ],
      "metadata": {
        "colab": {
          "base_uri": "https://localhost:8080/"
        },
        "id": "ZRoggSbPXlhN",
        "outputId": "fb13e17b-248a-411a-9d9e-f02efff0386e"
      },
      "execution_count": 170,
      "outputs": [
        {
          "output_type": "execute_result",
          "data": {
            "text/plain": [
              "8"
            ]
          },
          "metadata": {},
          "execution_count": 170
        }
      ]
    },
    {
      "cell_type": "code",
      "source": [
        "function(4,5,3)"
      ],
      "metadata": {
        "colab": {
          "base_uri": "https://localhost:8080/"
        },
        "id": "QEqnO8yPXnQv",
        "outputId": "175b9def-5d02-4724-ccd3-407afe7c05cf"
      },
      "execution_count": 171,
      "outputs": [
        {
          "output_type": "execute_result",
          "data": {
            "text/plain": [
              "12"
            ]
          },
          "metadata": {},
          "execution_count": 171
        }
      ]
    },
    {
      "cell_type": "code",
      "source": [
        ""
      ],
      "metadata": {
        "id": "seWYXmXFXpcQ"
      },
      "execution_count": null,
      "outputs": []
    },
    {
      "cell_type": "markdown",
      "source": [
        "#tree"
      ],
      "metadata": {
        "id": "UZWhTV10X7kq"
      }
    },
    {
      "cell_type": "code",
      "source": [
        "tree={\n",
        "#node:[value,chidlren]\n",
        "    0:[22,[1,2]],\n",
        "    1:[33,[3,4]],\n",
        "    2:[55,[5,6]],\n",
        "    3:[2,[]],\n",
        "    4:[5,[]],\n",
        "    5:[6,[]],\n",
        "    6:[88,[]]\n",
        "}\n",
        "tree\n"
      ],
      "metadata": {
        "colab": {
          "base_uri": "https://localhost:8080/"
        },
        "id": "5yJx5ysLYDNx",
        "outputId": "bf34f3d0-4a83-42d4-af83-8227e167df8a"
      },
      "execution_count": 175,
      "outputs": [
        {
          "output_type": "execute_result",
          "data": {
            "text/plain": [
              "{0: [22, [1, 2]],\n",
              " 1: [33, [3, 4]],\n",
              " 2: [55, [5, 6]],\n",
              " 3: [2, []],\n",
              " 4: [5, []],\n",
              " 5: [6, []],\n",
              " 6: [88, []]}"
            ]
          },
          "metadata": {},
          "execution_count": 175
        }
      ]
    },
    {
      "cell_type": "code",
      "source": [
        "def inorder(root,tree):\n",
        "    children=tree[root][1]\n",
        "    if children and children[0]!=-1:\n",
        "        inorder(children[0],tree)\n",
        "    print(tree[root][0])\n",
        "    if children and children[1]!=-1:\n",
        "        inorder(children[1],tree)\n",
        "inorder(0,tree)"
      ],
      "metadata": {
        "colab": {
          "base_uri": "https://localhost:8080/"
        },
        "id": "dK4C3nniZUJN",
        "outputId": "d2adbc5a-382e-48d7-fdac-5900546b4425"
      },
      "execution_count": 176,
      "outputs": [
        {
          "output_type": "stream",
          "name": "stdout",
          "text": [
            "2\n",
            "33\n",
            "5\n",
            "22\n",
            "6\n",
            "55\n",
            "88\n"
          ]
        }
      ]
    },
    {
      "cell_type": "code",
      "source": [
        "def preorder(root,tree):\n",
        "    children=tree[root][1]\n",
        "    print(tree[root][0])\n",
        "    if children:\n",
        "        if children[0]!=-1:\n",
        "            preorder(children[0],tree)\n",
        "        if children[1]!=-1:\n",
        "            preorder(children[1],tree)\n",
        "preoroder(0,tree),tree"
      ],
      "metadata": {
        "colab": {
          "base_uri": "https://localhost:8080/"
        },
        "id": "Yd7EtGTNdGSs",
        "outputId": "5d4d6c12-602e-499d-b9df-244e55bbf876"
      },
      "execution_count": 184,
      "outputs": [
        {
          "output_type": "stream",
          "name": "stdout",
          "text": [
            "22\n",
            "33\n",
            "2\n",
            "5\n",
            "55\n",
            "6\n",
            "88\n"
          ]
        },
        {
          "output_type": "execute_result",
          "data": {
            "text/plain": [
              "(None,\n",
              " {0: [22, [1, 2]],\n",
              "  1: [33, [3, 4]],\n",
              "  2: [55, [5, 6]],\n",
              "  3: [2, []],\n",
              "  4: [5, []],\n",
              "  5: [6, []],\n",
              "  6: [88, []]})"
            ]
          },
          "metadata": {},
          "execution_count": 184
        }
      ]
    },
    {
      "cell_type": "code",
      "source": [
        "def postorder(root,tree):\n",
        "    children=tree[root][1]\n",
        "    if children:\n",
        "        if children[0]!=-1:\n",
        "            postorder(children[0],tree)\n",
        "        if children[1]!=-1:\n",
        "            postorder(children[1],tree)\n",
        "    print(tree[root][0])\n",
        "    \n",
        "postorder(0,tree),tree"
      ],
      "metadata": {
        "colab": {
          "base_uri": "https://localhost:8080/"
        },
        "id": "G841TUEdZMC2",
        "outputId": "194c00dc-abc3-4664-f185-9b1dbc3422bd"
      },
      "execution_count": 183,
      "outputs": [
        {
          "output_type": "stream",
          "name": "stdout",
          "text": [
            "2\n",
            "5\n",
            "33\n",
            "6\n",
            "88\n",
            "55\n",
            "22\n"
          ]
        },
        {
          "output_type": "execute_result",
          "data": {
            "text/plain": [
              "(None,\n",
              " {0: [22, [1, 2]],\n",
              "  1: [33, [3, 4]],\n",
              "  2: [55, [5, 6]],\n",
              "  3: [2, []],\n",
              "  4: [5, []],\n",
              "  5: [6, []],\n",
              "  6: [88, []]})"
            ]
          },
          "metadata": {},
          "execution_count": 183
        }
      ]
    },
    {
      "cell_type": "markdown",
      "source": [
        "#graph"
      ],
      "metadata": {
        "id": "tdq5KIYCz9P2"
      }
    },
    {
      "cell_type": "code",
      "source": [
        "graph={\n",
        "    \"node1\":[1,[\"node2\",\"node4\"]],\n",
        "    \"node2\":[2,[\"node3\",\"node5\"]],\n",
        "    \"node3\":[3,[\"node1\",\"node4\"]],\n",
        "    \"node4\":[4,[\"node2\",\"node5\"]],\n",
        "    \"node5\":[5,[\"node2\",\"node3\"]],\n",
        "}"
      ],
      "metadata": {
        "id": "5YIXeoYp0CKA"
      },
      "execution_count": 186,
      "outputs": []
    },
    {
      "cell_type": "code",
      "source": [
        "def breadth_first(start,graph):\n",
        "    queue=[start]\n",
        "    extended_list=[]\n",
        "    while(queue):\n",
        "        nodes=graph[queue[0]][1]\n",
        "        if queue[0] not in extended_list:\n",
        "            print(graph[queue[0]][0])\n",
        "        extended_list.append(queue.pop(0))\n",
        "        for x in nodes:\n",
        "            if x not in extended_list:\n",
        "                queue.append(x)\n",
        "breadth_first(\"node1\",graph)\n",
        "    "
      ],
      "metadata": {
        "colab": {
          "base_uri": "https://localhost:8080/"
        },
        "id": "VC8MQK0R3R7W",
        "outputId": "560642be-6135-47e3-b018-6d0daece1451"
      },
      "execution_count": 192,
      "outputs": [
        {
          "output_type": "stream",
          "name": "stdout",
          "text": [
            "['node1']\n",
            "1\n",
            "['node2', 'node4']\n",
            "2\n",
            "['node4', 'node3', 'node5']\n",
            "4\n",
            "['node3', 'node5', 'node5']\n",
            "3\n",
            "['node5', 'node5']\n",
            "5\n",
            "['node5']\n"
          ]
        }
      ]
    },
    {
      "cell_type": "code",
      "source": [
        "def depth_first(start,graph):\n",
        "    queue=[start]\n",
        "    extended_list=[]\n",
        "    while(queue):\n",
        "        print(queue)\n",
        "        nodes=graph[queue[0]][1]\n",
        "        if queue[0] not in extended_list:\n",
        "            print(graph[queue[0]][0])\n",
        "        extended_list.append(queue.pop(0))\n",
        "        temp=[]\n",
        "        for x in nodes:\n",
        "            if x not in extended_list:\n",
        "                temp.append(x)\n",
        "        for x in queue:\n",
        "            if x not in extended_list:\n",
        "                temp.append(x)\n",
        "        queue=temp.copy()\n",
        "depth_first(\"node1\",graph)\n",
        "    "
      ],
      "metadata": {
        "colab": {
          "base_uri": "https://localhost:8080/"
        },
        "id": "rVfEwasZ6EoT",
        "outputId": "331d90cb-c72b-4324-bfb5-f637da847c33"
      },
      "execution_count": 194,
      "outputs": [
        {
          "output_type": "stream",
          "name": "stdout",
          "text": [
            "['node1']\n",
            "1\n",
            "['node2', 'node4']\n",
            "2\n",
            "['node3', 'node5', 'node4']\n",
            "3\n",
            "['node4', 'node5', 'node4']\n",
            "4\n",
            "['node5', 'node5']\n",
            "5\n"
          ]
        }
      ]
    },
    {
      "cell_type": "markdown",
      "source": [
        "#dynamic programming"
      ],
      "metadata": {
        "id": "E1Vf24HA9qQN"
      }
    },
    {
      "cell_type": "code",
      "source": [
        "#example catching each other in 2d array\n",
        "\n",
        "def finder(i,j,p,q,power,weight,arr):\n",
        "    if arr[i][j]!=arr[p][q]:#penality for being in undesired state\n",
        "        power-=weight\n",
        "\n",
        "    if (i>p or j>q):#the time when state becomes invalid\n",
        "        return -1\n",
        "\n",
        "    if (i==p and j==q):#sucess state\n",
        "        return power\n",
        "\n",
        "    #all possiblities for next states and if states can repeat keep an extended list\n",
        "    return max([\n",
        "             finder(i+1,j,p-1,q,power,weight,arr),\n",
        "             finder(i+1,j,p,q-1,power,weight,arr),\n",
        "             finder(i,j+1,p-1,q,power,weight,arr),\n",
        "             finder(i,j+1,p,q-1,power,weight,arr)   \n",
        "    ])\n",
        "\n",
        "finder(0,0,2,2,1,1,[[1,2,3],[4,5,6],[7,2,1]])\n"
      ],
      "metadata": {
        "colab": {
          "base_uri": "https://localhost:8080/"
        },
        "id": "H0aeuCVq9uaR",
        "outputId": "4eb93143-4749-4f2a-ba1c-29b27746164b"
      },
      "execution_count": 197,
      "outputs": [
        {
          "output_type": "execute_result",
          "data": {
            "text/plain": [
              "1"
            ]
          },
          "metadata": {},
          "execution_count": 197
        }
      ]
    }
  ]
}