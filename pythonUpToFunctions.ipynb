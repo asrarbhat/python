{
  "nbformat": 4,
  "nbformat_minor": 0,
  "metadata": {
    "colab": {
      "name": "pythonUpToFunctions.ipynb",
      "provenance": [],
      "collapsed_sections": [],
      "authorship_tag": "ABX9TyPenN0bZ3qhJrMRu9eny1IW",
      "include_colab_link": true
    },
    "kernelspec": {
      "name": "python3",
      "display_name": "Python 3"
    },
    "language_info": {
      "name": "python"
    }
  },
  "cells": [
    {
      "cell_type": "markdown",
      "metadata": {
        "id": "view-in-github",
        "colab_type": "text"
      },
      "source": [
        "<a href=\"https://colab.research.google.com/github/asrarbhat/python/blob/main/pythonUpToFunctions.ipynb\" target=\"_parent\"><img src=\"https://colab.research.google.com/assets/colab-badge.svg\" alt=\"Open In Colab\"/></a>"
      ]
    },
    {
      "cell_type": "markdown",
      "metadata": {
        "id": "1PZKxDhhTLFN"
      },
      "source": [
        "this is python basics notebook"
      ]
    },
    {
      "cell_type": "code",
      "metadata": {
        "colab": {
          "base_uri": "https://localhost:8080/"
        },
        "id": "4pAZ1A2lTkkS",
        "outputId": "10bbd056-d3a2-4db7-f9fa-5254d7363462"
      },
      "source": [
        "#taking string input from console\n",
        "string=input(\"enter a string: \")\n",
        "\n",
        "string"
      ],
      "execution_count": null,
      "outputs": [
        {
          "name": "stdout",
          "output_type": "stream",
          "text": [
            "enter a string: hello world\n"
          ]
        },
        {
          "output_type": "execute_result",
          "data": {
            "text/plain": [
              "'hello world'"
            ]
          },
          "metadata": {},
          "execution_count": 3
        }
      ]
    },
    {
      "cell_type": "code",
      "metadata": {
        "colab": {
          "base_uri": "https://localhost:8080/"
        },
        "id": "hKX6bBOYUB9A",
        "outputId": "8d6aa9b6-8447-4d5d-bd73-867a1158c302"
      },
      "source": [
        "#taking floats and ints as input\n",
        "integer=int(input(\"enter an integer: \"))\n",
        "floating_point=float(input(\"enter a floating point value: \"))\n",
        "integer,floating_point"
      ],
      "execution_count": null,
      "outputs": [
        {
          "name": "stdout",
          "output_type": "stream",
          "text": [
            "enter an integer: 33\n",
            "enter a floating point value: 3.33\n"
          ]
        },
        {
          "output_type": "execute_result",
          "data": {
            "text/plain": [
              "(33, 3.33)"
            ]
          },
          "metadata": {},
          "execution_count": 5
        }
      ]
    },
    {
      "cell_type": "markdown",
      "metadata": {
        "id": "ohQwaliVUXeb"
      },
      "source": [
        "basically input function always returns a string that it receives from the console.\n",
        "One can then typecast it into anything.\n"
      ]
    },
    {
      "cell_type": "code",
      "metadata": {
        "colab": {
          "base_uri": "https://localhost:8080/"
        },
        "id": "oDnO6VrQUr6L",
        "outputId": "81ccab26-a31e-4029-c04b-750096aabaab"
      },
      "source": [
        "#for loop\n",
        "for i in range(10):\n",
        "    print(i)"
      ],
      "execution_count": null,
      "outputs": [
        {
          "output_type": "stream",
          "name": "stdout",
          "text": [
            "0\n",
            "1\n",
            "2\n",
            "3\n",
            "4\n",
            "5\n",
            "6\n",
            "7\n",
            "8\n",
            "9\n"
          ]
        }
      ]
    },
    {
      "cell_type": "code",
      "metadata": {
        "colab": {
          "base_uri": "https://localhost:8080/"
        },
        "id": "Fmq6Ja6KUySB",
        "outputId": "d40d3714-2c9c-48be-ccb2-282bffb06394"
      },
      "source": [
        "#printing values to console\n",
        "print(\"hello world\")"
      ],
      "execution_count": null,
      "outputs": [
        {
          "output_type": "stream",
          "name": "stdout",
          "text": [
            "hello world\n"
          ]
        }
      ]
    },
    {
      "cell_type": "code",
      "metadata": {
        "colab": {
          "base_uri": "https://localhost:8080/"
        },
        "id": "RTpm4Zx7U3uD",
        "outputId": "16b90d49-30f3-4b3a-86af-d3a5977665ae"
      },
      "source": [
        "#varialbes/identifier\n",
        "\n",
        "first_floating_point=3.33\n",
        "second_floating_point=4.4\n",
        "print(first_floating_point+second_floating_point)\n",
        "print(first_floating_point-second_floating_point)\n",
        "print(first_floating_point*second_floating_point)\n",
        "print(first_floating_point/second_floating_point)"
      ],
      "execution_count": null,
      "outputs": [
        {
          "output_type": "stream",
          "name": "stdout",
          "text": [
            "7.73\n",
            "-1.0700000000000003\n",
            "14.652000000000001\n",
            "0.7568181818181817\n"
          ]
        }
      ]
    },
    {
      "cell_type": "code",
      "metadata": {
        "colab": {
          "base_uri": "https://localhost:8080/"
        },
        "id": "ho6MIzqaVNez",
        "outputId": "5354c361-1135-4373-868c-c4b5cb2d8393"
      },
      "source": [
        "#tuple unpacking\n",
        "n1,n2,n3=1,2,3\n",
        "print(n1+n2+n3)"
      ],
      "execution_count": null,
      "outputs": [
        {
          "output_type": "stream",
          "name": "stdout",
          "text": [
            "6\n"
          ]
        }
      ]
    },
    {
      "cell_type": "markdown",
      "metadata": {
        "id": "5SnUxsT7Vq9P"
      },
      "source": [
        "\n",
        "by the way,python is dynamically typed programming language"
      ]
    },
    {
      "cell_type": "code",
      "metadata": {
        "colab": {
          "base_uri": "https://localhost:8080/"
        },
        "id": "NnB_B4l4VwPe",
        "outputId": "641f7e5c-a4eb-4fe5-b1a4-8bbaa03642fb"
      },
      "source": [
        "#to check types\n",
        "type(first_floating_point)"
      ],
      "execution_count": null,
      "outputs": [
        {
          "output_type": "execute_result",
          "data": {
            "text/plain": [
              "float"
            ]
          },
          "metadata": {},
          "execution_count": 11
        }
      ]
    },
    {
      "cell_type": "markdown",
      "metadata": {
        "id": "f-v9lat-V9Cj"
      },
      "source": [
        "and everything in python is an object of some class even the ints and floats and bools etc"
      ]
    },
    {
      "cell_type": "code",
      "metadata": {
        "colab": {
          "base_uri": "https://localhost:8080/"
        },
        "id": "P65O2Tz0WF4Q",
        "outputId": "ae335ab4-0dcc-496b-a507-1169941bf7e0"
      },
      "source": [
        "#importing packages/modules\n",
        "import math \n",
        "math.sqrt(2),math.pi,math.sin(3.14)"
      ],
      "execution_count": null,
      "outputs": [
        {
          "output_type": "execute_result",
          "data": {
            "text/plain": [
              "(1.4142135623730951, 3.141592653589793, 0.0015926529164868282)"
            ]
          },
          "metadata": {},
          "execution_count": 12
        }
      ]
    },
    {
      "cell_type": "code",
      "metadata": {
        "colab": {
          "base_uri": "https://localhost:8080/"
        },
        "id": "LqtLcjMqWXtN",
        "outputId": "0a214594-3a71-4ed1-84ce-8c5de23f3130"
      },
      "source": [
        "import random\n",
        "print(random.randint(0,1))\n",
        "#randint is inclusive of both bounds\n",
        "print(random.random())"
      ],
      "execution_count": null,
      "outputs": [
        {
          "output_type": "stream",
          "name": "stdout",
          "text": [
            "1\n",
            "0.60716656617743\n"
          ]
        }
      ]
    },
    {
      "cell_type": "code",
      "metadata": {
        "colab": {
          "base_uri": "https://localhost:8080/"
        },
        "id": "ct8ndc6JW66-",
        "outputId": "aa540b20-933f-4cc9-ab51-20d1a4fbc975"
      },
      "source": [
        "#separator in print,by default the separator is space\n",
        "print(random.randint(0,9),random.randint(0,9),random.randint(0,9),random.randint(0,9),sep='')"
      ],
      "execution_count": null,
      "outputs": [
        {
          "output_type": "stream",
          "name": "stdout",
          "text": [
            "1560\n"
          ]
        }
      ]
    },
    {
      "cell_type": "code",
      "metadata": {
        "id": "xsZOnLfSXMku"
      },
      "source": [
        "#other ways to import\n",
        "\"\"\"\n",
        "import math as m\n",
        "from math import sqrt as sq,pi as p\n",
        "from math import *\n",
        "\"\"\""
      ],
      "execution_count": null,
      "outputs": []
    },
    {
      "cell_type": "code",
      "metadata": {
        "id": "juVNihHJXmWZ"
      },
      "source": [
        "#the limitation of python is that it is slow,about 50 times when compared to c on average on basic operations done in a tradional way."
      ],
      "execution_count": null,
      "outputs": []
    },
    {
      "cell_type": "code",
      "metadata": {
        "colab": {
          "base_uri": "https://localhost:8080/"
        },
        "id": "UpfvEQu-X-s_",
        "outputId": "3896343b-269d-4e8e-8903-cf821c455285"
      },
      "source": [
        "#python keywords\n",
        "import keyword\n",
        "keyword.kwlist"
      ],
      "execution_count": null,
      "outputs": [
        {
          "output_type": "execute_result",
          "data": {
            "text/plain": [
              "['False',\n",
              " 'None',\n",
              " 'True',\n",
              " 'and',\n",
              " 'as',\n",
              " 'assert',\n",
              " 'async',\n",
              " 'await',\n",
              " 'break',\n",
              " 'class',\n",
              " 'continue',\n",
              " 'def',\n",
              " 'del',\n",
              " 'elif',\n",
              " 'else',\n",
              " 'except',\n",
              " 'finally',\n",
              " 'for',\n",
              " 'from',\n",
              " 'global',\n",
              " 'if',\n",
              " 'import',\n",
              " 'in',\n",
              " 'is',\n",
              " 'lambda',\n",
              " 'nonlocal',\n",
              " 'not',\n",
              " 'or',\n",
              " 'pass',\n",
              " 'raise',\n",
              " 'return',\n",
              " 'try',\n",
              " 'while',\n",
              " 'with',\n",
              " 'yield']"
            ]
          },
          "metadata": {},
          "execution_count": 27
        }
      ]
    },
    {
      "cell_type": "code",
      "metadata": {
        "id": "IUv0zLY8Ybq4"
      },
      "source": [
        "#primitive types are immutable\n",
        "integer=3\n",
        "floating_point=4.4\n",
        "complex_number=3+4j\n",
        "boolean=True\n",
        "string=\"hi there\"\n"
      ],
      "execution_count": null,
      "outputs": []
    },
    {
      "cell_type": "code",
      "metadata": {
        "colab": {
          "base_uri": "https://localhost:8080/"
        },
        "id": "LRIb3suIY5kg",
        "outputId": "c2c71843-5f41-4687-f3c6-92f03241deb2"
      },
      "source": [
        "#basic inbuild functions\n",
        "print(integer,floating_point,complex_number,boolean,string)\n",
        "print(id(integer),id(floating_point))\n",
        "print(type(complex_number),type(string))"
      ],
      "execution_count": null,
      "outputs": [
        {
          "output_type": "stream",
          "name": "stdout",
          "text": [
            "3 4.4 (3+4j) True hi there\n",
            "9788672 140021573811024\n",
            "<class 'complex'> <class 'str'>\n"
          ]
        }
      ]
    },
    {
      "cell_type": "code",
      "metadata": {
        "colab": {
          "base_uri": "https://localhost:8080/"
        },
        "id": "9XRacyrHZPwg",
        "outputId": "c6da6647-e155-4788-a622-ffedee52dc1e"
      },
      "source": [
        "#integers\n",
        "x=10\n",
        "y=0B010101\n",
        "z=0Xbeef\n",
        "q=0o777\n",
        "x,y,z,q#this is a tuple which jupyter prints\n"
      ],
      "execution_count": null,
      "outputs": [
        {
          "output_type": "execute_result",
          "data": {
            "text/plain": [
              "(10, 21, 48879, 511)"
            ]
          },
          "metadata": {},
          "execution_count": 31
        }
      ]
    },
    {
      "cell_type": "markdown",
      "metadata": {
        "id": "YPP767W3Zipt"
      },
      "source": [
        "no range for ints in python\n",
        "but floats have single or double precision"
      ]
    },
    {
      "cell_type": "code",
      "metadata": {
        "colab": {
          "base_uri": "https://localhost:8080/"
        },
        "id": "Ml82hxNnZzIb",
        "outputId": "40f50536-5942-43f3-f05f-1a9197a4754a"
      },
      "source": [
        "#to binary etc\n",
        "bin(x),hex(x),oct(x),bin(0xbeef),type(bin(x))#they return str"
      ],
      "execution_count": null,
      "outputs": [
        {
          "output_type": "execute_result",
          "data": {
            "text/plain": [
              "('0b1010', '0xa', '0o12', '0b1011111011101111', str)"
            ]
          },
          "metadata": {},
          "execution_count": 36
        }
      ]
    },
    {
      "cell_type": "code",
      "metadata": {
        "colab": {
          "base_uri": "https://localhost:8080/"
        },
        "id": "JKjFzplCZ98F",
        "outputId": "161a238c-ed04-4641-e2db-7b335c29d244"
      },
      "source": [
        "#floats can only be in decimal form\n",
        "floating_point=1.2e3\n",
        "floating_point"
      ],
      "execution_count": null,
      "outputs": [
        {
          "output_type": "execute_result",
          "data": {
            "text/plain": [
              "1200.0"
            ]
          },
          "metadata": {},
          "execution_count": 37
        }
      ]
    },
    {
      "cell_type": "code",
      "metadata": {
        "colab": {
          "base_uri": "https://localhost:8080/"
        },
        "id": "CiIZzq2caZct",
        "outputId": "2717f487-a8c9-4235-931a-040648bbe336"
      },
      "source": [
        "complex_number.real,complex_number.imag,complex_number"
      ],
      "execution_count": null,
      "outputs": [
        {
          "output_type": "execute_result",
          "data": {
            "text/plain": [
              "(3.0, 4.0, (3+4j))"
            ]
          },
          "metadata": {},
          "execution_count": 38
        }
      ]
    },
    {
      "cell_type": "code",
      "metadata": {
        "colab": {
          "base_uri": "https://localhost:8080/"
        },
        "id": "8ptFKNA5aiF5",
        "outputId": "040122f7-9003-45c9-d977-47c69f1441d7"
      },
      "source": [
        "#bool\n",
        "boolean1=True\n",
        "boolean2=False\n",
        "boolean1+boolean2,boolean1-boolean2,boolean1*boolean2,True+True\n",
        "#True treated as 1 and False treated as 0\n"
      ],
      "execution_count": null,
      "outputs": [
        {
          "output_type": "execute_result",
          "data": {
            "text/plain": [
              "(1, 1, 0, 2)"
            ]
          },
          "metadata": {},
          "execution_count": 41
        }
      ]
    },
    {
      "cell_type": "code",
      "metadata": {
        "colab": {
          "base_uri": "https://localhost:8080/"
        },
        "id": "PkxApd9Xa17e",
        "outputId": "4e189d93-9a3c-4aeb-8889-222d39981766"
      },
      "source": [
        "#multiline string\n",
        "string='''\n",
        "hi there\n",
        "i hope you are doing good\n",
        "'''\n",
        "print(string)"
      ],
      "execution_count": null,
      "outputs": [
        {
          "output_type": "stream",
          "name": "stdout",
          "text": [
            "\n",
            "hi there\n",
            "i hope you are doing good\n",
            "\n"
          ]
        }
      ]
    },
    {
      "cell_type": "code",
      "metadata": {
        "id": "jdfChSrMbO2l"
      },
      "source": [
        "#True/False is a ZeroDivisionError "
      ],
      "execution_count": null,
      "outputs": []
    },
    {
      "cell_type": "code",
      "metadata": {
        "colab": {
          "base_uri": "https://localhost:8080/"
        },
        "id": "eXoBvTEKbcYh",
        "outputId": "a090e1ad-a2a7-474c-95c3-6013929a5024"
      },
      "source": [
        "#slicing in strings\n",
        "string=\"0123456789\"\n",
        "string[0],string[1],string[-1],string[-2]"
      ],
      "execution_count": null,
      "outputs": [
        {
          "output_type": "execute_result",
          "data": {
            "text/plain": [
              "('0', '1', '9', '8')"
            ]
          },
          "metadata": {},
          "execution_count": 55
        }
      ]
    },
    {
      "cell_type": "code",
      "metadata": {
        "colab": {
          "base_uri": "https://localhost:8080/"
        },
        "id": "gHYMHGxFb0oO",
        "outputId": "97da0d70-4bca-4b13-c43b-89843d9228d9"
      },
      "source": [
        "string[1:3],string[:4],string[2:],string[-4:-1],string[-4:]"
      ],
      "execution_count": null,
      "outputs": [
        {
          "output_type": "execute_result",
          "data": {
            "text/plain": [
              "('12', '0123', '23456789', '678', '6789')"
            ]
          },
          "metadata": {},
          "execution_count": 56
        }
      ]
    },
    {
      "cell_type": "code",
      "metadata": {
        "colab": {
          "base_uri": "https://localhost:8080/"
        },
        "id": "Ba2KHkcccWoU",
        "outputId": "6d50a595-e6a3-4800-ef30-125ddf9bd28d"
      },
      "source": [
        "string[::2],string[0:3:2],string[-5:-2:2]"
      ],
      "execution_count": null,
      "outputs": [
        {
          "output_type": "execute_result",
          "data": {
            "text/plain": [
              "('02468', '02', '57')"
            ]
          },
          "metadata": {},
          "execution_count": 59
        }
      ]
    },
    {
      "cell_type": "code",
      "metadata": {
        "colab": {
          "base_uri": "https://localhost:8080/"
        },
        "id": "PIBIJT8TcgKx",
        "outputId": "0f9da747-e2b3-46c3-d3b8-8320074e1bcd"
      },
      "source": [
        "string[7:1:-1],string[-1::-1],string[::-1]"
      ],
      "execution_count": null,
      "outputs": [
        {
          "output_type": "execute_result",
          "data": {
            "text/plain": [
              "('765432', '9876543210', '9876543210')"
            ]
          },
          "metadata": {},
          "execution_count": 62
        }
      ]
    },
    {
      "cell_type": "code",
      "metadata": {
        "colab": {
          "base_uri": "https://localhost:8080/"
        },
        "id": "VLyko_aPc1C0",
        "outputId": "6080a7f8-a3b1-4eed-924d-5c28cf1e5570"
      },
      "source": [
        "string*3"
      ],
      "execution_count": null,
      "outputs": [
        {
          "output_type": "execute_result",
          "data": {
            "text/plain": [
              "'012345678901234567890123456789'"
            ]
          },
          "metadata": {},
          "execution_count": 63
        }
      ]
    },
    {
      "cell_type": "code",
      "metadata": {
        "colab": {
          "base_uri": "https://localhost:8080/"
        },
        "id": "M4YX8TK3dFoX",
        "outputId": "66dcbbe1-91f8-46c9-cedd-f4b1033ac68d"
      },
      "source": [
        "string+string"
      ],
      "execution_count": null,
      "outputs": [
        {
          "output_type": "execute_result",
          "data": {
            "text/plain": [
              "'01234567890123456789'"
            ]
          },
          "metadata": {},
          "execution_count": 64
        }
      ]
    },
    {
      "cell_type": "code",
      "metadata": {
        "colab": {
          "base_uri": "https://localhost:8080/"
        },
        "id": "NoZvF8XVdHPv",
        "outputId": "aee3f95b-3751-412a-9325-58d4c92738eb"
      },
      "source": [
        "len(string)"
      ],
      "execution_count": null,
      "outputs": [
        {
          "output_type": "execute_result",
          "data": {
            "text/plain": [
              "10"
            ]
          },
          "metadata": {},
          "execution_count": 65
        }
      ]
    },
    {
      "cell_type": "code",
      "metadata": {
        "colab": {
          "base_uri": "https://localhost:8080/"
        },
        "id": "V0nTdEhBdKUs",
        "outputId": "bda90bd1-aee3-4f28-bc4c-6fa5f021c233"
      },
      "source": [
        "#typecasting\n",
        "floating_point=4.4\n",
        "string=\"4\"\n",
        "int(string),float(string),str(floating_point),bool(floating_point),complex(floating_point,3)"
      ],
      "execution_count": null,
      "outputs": [
        {
          "output_type": "execute_result",
          "data": {
            "text/plain": [
              "(4, 4.0, '4.4', True, (4.4+3j))"
            ]
          },
          "metadata": {},
          "execution_count": 67
        }
      ]
    },
    {
      "cell_type": "code",
      "metadata": {
        "colab": {
          "base_uri": "https://localhost:8080/"
        },
        "id": "R2zlza-DdbBv",
        "outputId": "95b272f5-2815-4032-948c-5fe3b46e8c6c"
      },
      "source": [
        "x=10\n",
        "y=x\n",
        "y+=10\n",
        "x,y #though primitive types are also objects but they are not copied by reference\n"
      ],
      "execution_count": null,
      "outputs": [
        {
          "output_type": "execute_result",
          "data": {
            "text/plain": [
              "(10, 20)"
            ]
          },
          "metadata": {},
          "execution_count": 70
        }
      ]
    },
    {
      "cell_type": "code",
      "metadata": {
        "colab": {
          "base_uri": "https://localhost:8080/"
        },
        "id": "yyD5V18ykLh1",
        "outputId": "324e70eb-93db-49ff-b0dd-1602b559cef3"
      },
      "source": [
        "x is y"
      ],
      "execution_count": null,
      "outputs": [
        {
          "output_type": "execute_result",
          "data": {
            "text/plain": [
              "False"
            ]
          },
          "metadata": {},
          "execution_count": 72
        }
      ]
    },
    {
      "cell_type": "code",
      "metadata": {
        "colab": {
          "base_uri": "https://localhost:8080/"
        },
        "id": "F1nQpiUtkQG6",
        "outputId": "2e650bd6-569b-4b21-a781-9fb5f647780c"
      },
      "source": [
        "#bytes\n",
        "byte=[1,2,3,4,5,4]\n",
        "b=bytes(byte)\n",
        "b,b[0]#values has to be between 0-256 and it is used for binary data like images and videos\n",
        "#bytearray is mutable type of same\n"
      ],
      "execution_count": null,
      "outputs": [
        {
          "output_type": "execute_result",
          "data": {
            "text/plain": [
              "(b'\\x01\\x02\\x03\\x04\\x05\\x04', 1)"
            ]
          },
          "metadata": {},
          "execution_count": 80
        }
      ]
    },
    {
      "cell_type": "code",
      "metadata": {
        "colab": {
          "base_uri": "https://localhost:8080/"
        },
        "id": "N1OcBz_Ok13p",
        "outputId": "3dc81010-0fc3-4582-c194-379804ee2d0a"
      },
      "source": [
        "#list\n",
        "l=[1,2,3]\n",
        "print(l)\n",
        "l.append(3)\n",
        "print(l)\n",
        "l.pop()\n",
        "print(l)\n",
        "l.insert(0,55)\n",
        "print(l)\n",
        "l.pop(2)\n",
        "print(l)\n",
        "l.remove(3)\n",
        "print(l)\n",
        "print(len(l))\n",
        "l2=[7,7]\n",
        "l.extend(l2)\n",
        "print(l)\n",
        "l.sort(reverse=True)\n",
        "print(l)\n",
        "print(max(l),min(l))\n",
        "print(l.index(55),l.count(7))\n",
        "l.clear()\n",
        "print(l)\n",
        "\n"
      ],
      "execution_count": null,
      "outputs": [
        {
          "output_type": "stream",
          "name": "stdout",
          "text": [
            "[1, 2, 3]\n",
            "[1, 2, 3, 3]\n",
            "[1, 2, 3]\n",
            "[55, 1, 2, 3]\n",
            "[55, 1, 3]\n",
            "[55, 1]\n",
            "2\n",
            "[55, 1, 7, 7]\n",
            "[55, 7, 7, 1]\n",
            "55 1\n",
            "0 2\n",
            "[]\n"
          ]
        }
      ]
    },
    {
      "cell_type": "code",
      "metadata": {
        "id": "UFkNxlWVlVoR"
      },
      "source": [
        "#indexing and slicing same as that in strings"
      ],
      "execution_count": null,
      "outputs": []
    },
    {
      "cell_type": "code",
      "metadata": {
        "id": "p3SfLapsmS9u"
      },
      "source": [
        "#tuple is immutale verison of it"
      ],
      "execution_count": null,
      "outputs": []
    },
    {
      "cell_type": "code",
      "metadata": {
        "colab": {
          "base_uri": "https://localhost:8080/"
        },
        "id": "hMGvUOgTmdie",
        "outputId": "219fa367-8dd7-4434-c76d-0c60ffda4ba9"
      },
      "source": [
        "#range\n",
        "r=range(0,10,2)\n",
        "print(r)"
      ],
      "execution_count": null,
      "outputs": [
        {
          "output_type": "stream",
          "name": "stdout",
          "text": [
            "range(0, 10, 2)\n"
          ]
        }
      ]
    },
    {
      "cell_type": "code",
      "metadata": {
        "colab": {
          "base_uri": "https://localhost:8080/"
        },
        "id": "AUIomzazmlOI",
        "outputId": "7993b6aa-66f6-49f2-d9c1-58446984673e"
      },
      "source": [
        "r[0]"
      ],
      "execution_count": null,
      "outputs": [
        {
          "output_type": "execute_result",
          "data": {
            "text/plain": [
              "0"
            ]
          },
          "metadata": {},
          "execution_count": 93
        }
      ]
    },
    {
      "cell_type": "code",
      "metadata": {
        "colab": {
          "base_uri": "https://localhost:8080/"
        },
        "id": "lmBxq2xammzA",
        "outputId": "c2b3c5e0-2a51-4795-b06a-cf7e1b688d11"
      },
      "source": [
        "r[1]"
      ],
      "execution_count": null,
      "outputs": [
        {
          "output_type": "execute_result",
          "data": {
            "text/plain": [
              "2"
            ]
          },
          "metadata": {},
          "execution_count": 94
        }
      ]
    },
    {
      "cell_type": "code",
      "metadata": {
        "colab": {
          "base_uri": "https://localhost:8080/"
        },
        "id": "L-8d5Fckmn9s",
        "outputId": "98482020-1f0f-4cbf-b457-ad6aebe0f2ea"
      },
      "source": [
        "r[0:3]"
      ],
      "execution_count": null,
      "outputs": [
        {
          "output_type": "execute_result",
          "data": {
            "text/plain": [
              "range(0, 6, 2)"
            ]
          },
          "metadata": {},
          "execution_count": 95
        }
      ]
    },
    {
      "cell_type": "code",
      "metadata": {
        "colab": {
          "base_uri": "https://localhost:8080/"
        },
        "id": "5VR48lYYmpfG",
        "outputId": "7f965677-50a0-4767-b10f-7b548b08e5f7"
      },
      "source": [
        "#set\n",
        "s={1,2,3}\n",
        "s"
      ],
      "execution_count": null,
      "outputs": [
        {
          "output_type": "execute_result",
          "data": {
            "text/plain": [
              "{1, 2, 3}"
            ]
          },
          "metadata": {},
          "execution_count": 101
        }
      ]
    },
    {
      "cell_type": "code",
      "metadata": {
        "colab": {
          "base_uri": "https://localhost:8080/"
        },
        "id": "klmR4U8Ymw3t",
        "outputId": "f469235d-ec27-426b-9691-c4dc1a98b6d2"
      },
      "source": [
        "s.add(4)\n",
        "s"
      ],
      "execution_count": null,
      "outputs": [
        {
          "output_type": "execute_result",
          "data": {
            "text/plain": [
              "{1, 2, 3, 4}"
            ]
          },
          "metadata": {},
          "execution_count": 102
        }
      ]
    },
    {
      "cell_type": "code",
      "metadata": {
        "colab": {
          "base_uri": "https://localhost:8080/"
        },
        "id": "EB-HUsMdm0To",
        "outputId": "0a23fd69-4ccf-4c2d-b9ba-ee6338b12009"
      },
      "source": [
        "s.remove(3)\n",
        "s"
      ],
      "execution_count": null,
      "outputs": [
        {
          "output_type": "execute_result",
          "data": {
            "text/plain": [
              "{1, 2, 4}"
            ]
          },
          "metadata": {},
          "execution_count": 103
        }
      ]
    },
    {
      "cell_type": "code",
      "metadata": {
        "colab": {
          "base_uri": "https://localhost:8080/"
        },
        "id": "JYmVqBJjm143",
        "outputId": "46e7f94d-934f-4a93-ca98-c1bc95fd17c9"
      },
      "source": [
        "s.clear()\n",
        "s"
      ],
      "execution_count": null,
      "outputs": [
        {
          "output_type": "execute_result",
          "data": {
            "text/plain": [
              "set()"
            ]
          },
          "metadata": {},
          "execution_count": 104
        }
      ]
    },
    {
      "cell_type": "code",
      "metadata": {
        "colab": {
          "base_uri": "https://localhost:8080/"
        },
        "id": "4Y3XCcoam-XH",
        "outputId": "6568ff10-354d-4705-a857-3a9880f4169c"
      },
      "source": [
        "s.update([1,2,3,3,4])\n",
        "s"
      ],
      "execution_count": null,
      "outputs": [
        {
          "output_type": "execute_result",
          "data": {
            "text/plain": [
              "{1, 2, 3, 4}"
            ]
          },
          "metadata": {},
          "execution_count": 105
        }
      ]
    },
    {
      "cell_type": "code",
      "metadata": {
        "colab": {
          "base_uri": "https://localhost:8080/"
        },
        "id": "2pJOFedcnCIr",
        "outputId": "c625217e-b9e2-449b-9d23-df3f5d17e50a"
      },
      "source": [
        "#dictionary\n",
        "d={}\n",
        "d[\"name\"]=\"rayon\"\n",
        "d[3]=4\n",
        "d"
      ],
      "execution_count": null,
      "outputs": [
        {
          "output_type": "execute_result",
          "data": {
            "text/plain": [
              "{'name': 'rayon', 3: 4}"
            ]
          },
          "metadata": {},
          "execution_count": 106
        }
      ]
    },
    {
      "cell_type": "code",
      "metadata": {
        "colab": {
          "base_uri": "https://localhost:8080/"
        },
        "id": "gQBnxaIQnOpS",
        "outputId": "98387cdc-4578-417e-e329-cbb07a314e63"
      },
      "source": [
        "d.get('name')"
      ],
      "execution_count": null,
      "outputs": [
        {
          "output_type": "execute_result",
          "data": {
            "text/plain": [
              "'rayon'"
            ]
          },
          "metadata": {},
          "execution_count": 107
        }
      ]
    },
    {
      "cell_type": "code",
      "metadata": {
        "id": "VROxEwSOnSu8"
      },
      "source": [
        "d.get('saloon')"
      ],
      "execution_count": null,
      "outputs": []
    },
    {
      "cell_type": "code",
      "metadata": {
        "colab": {
          "base_uri": "https://localhost:8080/"
        },
        "id": "xggyM8_xnUen",
        "outputId": "1bcc4d05-7f3e-4672-e1b1-c33a29206a98"
      },
      "source": [
        "d.get('saloon',0)"
      ],
      "execution_count": null,
      "outputs": [
        {
          "output_type": "execute_result",
          "data": {
            "text/plain": [
              "0"
            ]
          },
          "metadata": {},
          "execution_count": 109
        }
      ]
    },
    {
      "cell_type": "code",
      "metadata": {
        "colab": {
          "base_uri": "https://localhost:8080/"
        },
        "id": "0eis1hQEnYH_",
        "outputId": "d42bba31-e168-4925-c132-e749ffd94bc8"
      },
      "source": [
        "# arithmatic operations,the edge cases\n",
        "\n",
        "3%2,2.2%2.1\n",
        "# hence mod also works for floats\n",
        "\n"
      ],
      "execution_count": null,
      "outputs": [
        {
          "output_type": "execute_result",
          "data": {
            "text/plain": [
              "(1, 0.10000000000000009)"
            ]
          },
          "metadata": {},
          "execution_count": 113
        }
      ]
    },
    {
      "cell_type": "code",
      "metadata": {
        "colab": {
          "base_uri": "https://localhost:8080/"
        },
        "id": "Ck6edup0oCaT",
        "outputId": "3ff0218a-298e-4efd-d5f0-6ad3f291028c"
      },
      "source": [
        "# string concatenation\n",
        "\"hit\"+\"here\""
      ],
      "execution_count": null,
      "outputs": [
        {
          "output_type": "execute_result",
          "data": {
            "text/plain": [
              "'hithere'"
            ]
          },
          "metadata": {},
          "execution_count": 114
        }
      ]
    },
    {
      "cell_type": "code",
      "metadata": {
        "id": "ZCTig5I9oU-D"
      },
      "source": [
        "#uncode based comaparsion for strings in ><"
      ],
      "execution_count": null,
      "outputs": []
    },
    {
      "cell_type": "code",
      "metadata": {
        "colab": {
          "base_uri": "https://localhost:8080/"
        },
        "id": "9ZCdCuU2oeCH",
        "outputId": "264fcd5c-2c57-4108-c5f2-9e016543da9f"
      },
      "source": [
        "10==True\n",
        "#because True is 1 only "
      ],
      "execution_count": null,
      "outputs": [
        {
          "output_type": "execute_result",
          "data": {
            "text/plain": [
              "False"
            ]
          },
          "metadata": {},
          "execution_count": 116
        }
      ]
    },
    {
      "cell_type": "code",
      "metadata": {
        "colab": {
          "base_uri": "https://localhost:8080/"
        },
        "id": "R0ju27n6oksq",
        "outputId": "8cc8b7aa-86d1-49ca-a0a8-2262d8bd6507"
      },
      "source": [
        "10<20>30"
      ],
      "execution_count": null,
      "outputs": [
        {
          "output_type": "execute_result",
          "data": {
            "text/plain": [
              "False"
            ]
          },
          "metadata": {},
          "execution_count": 117
        }
      ]
    },
    {
      "cell_type": "code",
      "metadata": {
        "colab": {
          "base_uri": "https://localhost:8080/"
        },
        "id": "iyIrKaX-onI2",
        "outputId": "35313f63-eb69-4623-deb0-6b46671b9cc5"
      },
      "source": [
        "10==20==30"
      ],
      "execution_count": null,
      "outputs": [
        {
          "output_type": "execute_result",
          "data": {
            "text/plain": [
              "False"
            ]
          },
          "metadata": {},
          "execution_count": 118
        }
      ]
    },
    {
      "cell_type": "code",
      "metadata": {
        "colab": {
          "base_uri": "https://localhost:8080/"
        },
        "id": "KuVuhh3CosOE",
        "outputId": "5e044456-b62a-49b7-ee64-4d5b12bff261"
      },
      "source": [
        "10==10.0"
      ],
      "execution_count": null,
      "outputs": [
        {
          "output_type": "execute_result",
          "data": {
            "text/plain": [
              "True"
            ]
          },
          "metadata": {},
          "execution_count": 120
        }
      ]
    },
    {
      "cell_type": "code",
      "metadata": {
        "colab": {
          "base_uri": "https://localhost:8080/"
        },
        "id": "XQowpM1Zown3",
        "outputId": "1e4db1b2-3605-4fe7-d240-1d1c85b33999"
      },
      "source": [
        "10==10.00000000000000001"
      ],
      "execution_count": null,
      "outputs": [
        {
          "output_type": "execute_result",
          "data": {
            "text/plain": [
              "True"
            ]
          },
          "metadata": {},
          "execution_count": 126
        }
      ]
    },
    {
      "cell_type": "code",
      "metadata": {
        "colab": {
          "base_uri": "https://localhost:8080/"
        },
        "id": "40CSHsNdoz2w",
        "outputId": "0ba17ce0-f049-49bc-ba61-9ab964bbbd12"
      },
      "source": [
        "10==10.0000001\n",
        "#hence always be careful and do type conversion first"
      ],
      "execution_count": null,
      "outputs": [
        {
          "output_type": "execute_result",
          "data": {
            "text/plain": [
              "False"
            ]
          },
          "metadata": {},
          "execution_count": 129
        }
      ]
    },
    {
      "cell_type": "code",
      "metadata": {
        "colab": {
          "base_uri": "https://localhost:8080/"
        },
        "id": "bFqNK1quo_Gp",
        "outputId": "01a27d7e-d924-4c2d-f305-8c0a7c46d490"
      },
      "source": [
        "10 and 20"
      ],
      "execution_count": null,
      "outputs": [
        {
          "output_type": "execute_result",
          "data": {
            "text/plain": [
              "20"
            ]
          },
          "metadata": {},
          "execution_count": 130
        }
      ]
    },
    {
      "cell_type": "code",
      "metadata": {
        "colab": {
          "base_uri": "https://localhost:8080/"
        },
        "id": "nIMZtgrwpJ4K",
        "outputId": "e879b922-0e49-45fc-b5ec-bdb6f94a0b4a"
      },
      "source": [
        "10 or 20"
      ],
      "execution_count": null,
      "outputs": [
        {
          "output_type": "execute_result",
          "data": {
            "text/plain": [
              "10"
            ]
          },
          "metadata": {},
          "execution_count": 131
        }
      ]
    },
    {
      "cell_type": "code",
      "metadata": {
        "colab": {
          "base_uri": "https://localhost:8080/"
        },
        "id": "mQP_KgnCpLSu",
        "outputId": "098b0ff3-afb5-4b72-cadd-5728de8c6401"
      },
      "source": [
        "not 20"
      ],
      "execution_count": null,
      "outputs": [
        {
          "output_type": "execute_result",
          "data": {
            "text/plain": [
              "False"
            ]
          },
          "metadata": {},
          "execution_count": 132
        }
      ]
    },
    {
      "cell_type": "code",
      "metadata": {
        "colab": {
          "base_uri": "https://localhost:8080/"
        },
        "id": "6O3YmQXDpNMZ",
        "outputId": "160d4085-05f1-4976-ec20-3d1369324164"
      },
      "source": [
        "True and False"
      ],
      "execution_count": null,
      "outputs": [
        {
          "output_type": "execute_result",
          "data": {
            "text/plain": [
              "False"
            ]
          },
          "metadata": {},
          "execution_count": 133
        }
      ]
    },
    {
      "cell_type": "code",
      "metadata": {
        "colab": {
          "base_uri": "https://localhost:8080/"
        },
        "id": "SmJWpdi5pPqR",
        "outputId": "751a0332-82ec-491e-965f-bb844ebe0873"
      },
      "source": [
        "#bitwise operators for booleans and integers where booleans are treated as integers\n",
        "True & False"
      ],
      "execution_count": null,
      "outputs": [
        {
          "output_type": "execute_result",
          "data": {
            "text/plain": [
              "False"
            ]
          },
          "metadata": {},
          "execution_count": 134
        }
      ]
    },
    {
      "cell_type": "code",
      "metadata": {
        "colab": {
          "base_uri": "https://localhost:8080/"
        },
        "id": "qGXfpXN-pbMX",
        "outputId": "e38a3f4a-2020-4922-d9d4-9217f9fa153f"
      },
      "source": [
        "True | False"
      ],
      "execution_count": null,
      "outputs": [
        {
          "output_type": "execute_result",
          "data": {
            "text/plain": [
              "True"
            ]
          },
          "metadata": {},
          "execution_count": 135
        }
      ]
    },
    {
      "cell_type": "code",
      "metadata": {
        "colab": {
          "base_uri": "https://localhost:8080/"
        },
        "id": "NIAs8_xDpdEQ",
        "outputId": "6f26f3ab-37bd-45db-83eb-a781fd632aa4"
      },
      "source": [
        "True ^ False"
      ],
      "execution_count": null,
      "outputs": [
        {
          "output_type": "execute_result",
          "data": {
            "text/plain": [
              "True"
            ]
          },
          "metadata": {},
          "execution_count": 137
        }
      ]
    },
    {
      "cell_type": "code",
      "metadata": {
        "colab": {
          "base_uri": "https://localhost:8080/"
        },
        "id": "ehzkxpyhpev8",
        "outputId": "eef4975c-323e-4398-d9fe-aae41b3ff485"
      },
      "source": [
        "~True"
      ],
      "execution_count": null,
      "outputs": [
        {
          "output_type": "execute_result",
          "data": {
            "text/plain": [
              "-2"
            ]
          },
          "metadata": {},
          "execution_count": 139
        }
      ]
    },
    {
      "cell_type": "code",
      "metadata": {
        "colab": {
          "base_uri": "https://localhost:8080/"
        },
        "id": "JctHhYFppjoL",
        "outputId": "c7adb7d3-b891-4583-b064-0b41453c367b"
      },
      "source": [
        "4&5,4|5,4^5,~4#^ is xor"
      ],
      "execution_count": null,
      "outputs": [
        {
          "output_type": "execute_result",
          "data": {
            "text/plain": [
              "(4, 5, 1, -5)"
            ]
          },
          "metadata": {},
          "execution_count": 142
        }
      ]
    },
    {
      "cell_type": "code",
      "metadata": {
        "colab": {
          "base_uri": "https://localhost:8080/"
        },
        "id": "ekaaiYympmSl",
        "outputId": "a6ccf9e8-f439-4b66-e99d-af0a886eda92"
      },
      "source": [
        "4<<2"
      ],
      "execution_count": null,
      "outputs": [
        {
          "output_type": "execute_result",
          "data": {
            "text/plain": [
              "16"
            ]
          },
          "metadata": {},
          "execution_count": 143
        }
      ]
    },
    {
      "cell_type": "code",
      "metadata": {
        "colab": {
          "base_uri": "https://localhost:8080/"
        },
        "id": "wHXD52Fdp-lp",
        "outputId": "a05c2110-dae6-4eda-9b63-a7f10f0ebde5"
      },
      "source": [
        "4>>2"
      ],
      "execution_count": null,
      "outputs": [
        {
          "output_type": "execute_result",
          "data": {
            "text/plain": [
              "1"
            ]
          },
          "metadata": {},
          "execution_count": 144
        }
      ]
    },
    {
      "cell_type": "code",
      "metadata": {
        "colab": {
          "base_uri": "https://localhost:8080/"
        },
        "id": "8lur62SpqAMW",
        "outputId": "ade52054-fa5b-4855-ecb0-fdee0211cc00"
      },
      "source": [
        "-4<<2"
      ],
      "execution_count": null,
      "outputs": [
        {
          "output_type": "execute_result",
          "data": {
            "text/plain": [
              "-16"
            ]
          },
          "metadata": {},
          "execution_count": 145
        }
      ]
    },
    {
      "cell_type": "code",
      "metadata": {
        "colab": {
          "base_uri": "https://localhost:8080/"
        },
        "id": "mMLqqqO9qETr",
        "outputId": "32531f5c-dd97-4e99-8407-b6c82194d9ad"
      },
      "source": [
        "-4>>2"
      ],
      "execution_count": null,
      "outputs": [
        {
          "output_type": "execute_result",
          "data": {
            "text/plain": [
              "-1"
            ]
          },
          "metadata": {},
          "execution_count": 146
        }
      ]
    },
    {
      "cell_type": "code",
      "metadata": {
        "colab": {
          "base_uri": "https://localhost:8080/"
        },
        "id": "WafS8lGlqFwe",
        "outputId": "4b717def-f627-4f1b-b59a-97a214a979d0"
      },
      "source": [
        "#ternary operator\n",
        "x,y,z=555,10,71\n",
        "max=x if x>y and x>z else y if y>x and y>z else z\n",
        "max"
      ],
      "execution_count": null,
      "outputs": [
        {
          "output_type": "execute_result",
          "data": {
            "text/plain": [
              "555"
            ]
          },
          "metadata": {},
          "execution_count": 149
        }
      ]
    },
    {
      "cell_type": "code",
      "metadata": {
        "colab": {
          "base_uri": "https://localhost:8080/"
        },
        "id": "3cCzjjJIqlWK",
        "outputId": "2eaf2203-543d-43c8-a87d-ca2a56fa8236"
      },
      "source": [
        "#membership operator\n",
        "l=1,2,3\n",
        "2 in l"
      ],
      "execution_count": null,
      "outputs": [
        {
          "output_type": "execute_result",
          "data": {
            "text/plain": [
              "True"
            ]
          },
          "metadata": {},
          "execution_count": 150
        }
      ]
    },
    {
      "cell_type": "code",
      "metadata": {
        "colab": {
          "base_uri": "https://localhost:8080/"
        },
        "id": "LKNqYHasqzfN",
        "outputId": "13f239a7-5348-444e-f702-6a4d0361a39b"
      },
      "source": [
        "4 in l"
      ],
      "execution_count": null,
      "outputs": [
        {
          "output_type": "execute_result",
          "data": {
            "text/plain": [
              "False"
            ]
          },
          "metadata": {},
          "execution_count": 151
        }
      ]
    },
    {
      "cell_type": "code",
      "metadata": {
        "id": "jXFUmZAfq0ab"
      },
      "source": [
        "s=\"hi there\""
      ],
      "execution_count": null,
      "outputs": []
    },
    {
      "cell_type": "code",
      "metadata": {
        "colab": {
          "base_uri": "https://localhost:8080/"
        },
        "id": "DvArZwGlq25Y",
        "outputId": "c375496f-1875-4048-f163-9c1e11cce77a"
      },
      "source": [
        "\"hi\" in s"
      ],
      "execution_count": null,
      "outputs": [
        {
          "output_type": "execute_result",
          "data": {
            "text/plain": [
              "True"
            ]
          },
          "metadata": {},
          "execution_count": 153
        }
      ]
    },
    {
      "cell_type": "code",
      "metadata": {
        "colab": {
          "base_uri": "https://localhost:8080/"
        },
        "id": "GrpO4KFAq4zd",
        "outputId": "c2004458-31a0-47a4-e161-bc90acc56c17"
      },
      "source": [
        "s.index(\"there\")"
      ],
      "execution_count": null,
      "outputs": [
        {
          "output_type": "execute_result",
          "data": {
            "text/plain": [
              "3"
            ]
          },
          "metadata": {},
          "execution_count": 155
        }
      ]
    },
    {
      "cell_type": "code",
      "metadata": {
        "colab": {
          "base_uri": "https://localhost:8080/"
        },
        "id": "SfT-1YoPq70l",
        "outputId": "32f05328-e789-43b9-e286-5609ce40ed1d"
      },
      "source": [
        "\"kive\" not in s"
      ],
      "execution_count": null,
      "outputs": [
        {
          "output_type": "execute_result",
          "data": {
            "text/plain": [
              "True"
            ]
          },
          "metadata": {},
          "execution_count": 156
        }
      ]
    },
    {
      "cell_type": "code",
      "metadata": {
        "colab": {
          "base_uri": "https://localhost:8080/"
        },
        "id": "7sl118qWrDYp",
        "outputId": "02544f3c-e1de-4500-f9bc-6a99d96a3d16"
      },
      "source": [
        "#lists are copied by reference\n",
        "l=[1,2,3]\n",
        "l2=l\n",
        "l is l2"
      ],
      "execution_count": null,
      "outputs": [
        {
          "output_type": "execute_result",
          "data": {
            "text/plain": [
              "True"
            ]
          },
          "metadata": {},
          "execution_count": 165
        }
      ]
    },
    {
      "cell_type": "code",
      "metadata": {
        "colab": {
          "base_uri": "https://localhost:8080/"
        },
        "id": "9cpu9M_KrPci",
        "outputId": "515e5779-40d3-4570-cf0a-68fb8af20f04"
      },
      "source": [
        "l2.append(4)\n",
        "l,l2"
      ],
      "execution_count": null,
      "outputs": [
        {
          "output_type": "execute_result",
          "data": {
            "text/plain": [
              "([1, 2, 3, 4], [1, 2, 3, 4])"
            ]
          },
          "metadata": {},
          "execution_count": 166
        }
      ]
    },
    {
      "cell_type": "code",
      "metadata": {
        "colab": {
          "base_uri": "https://localhost:8080/"
        },
        "id": "uGHfAR5hrRda",
        "outputId": "90eace50-9bdf-4448-c3c6-569006ee05f9"
      },
      "source": [
        "# to copy though shallowly\n",
        "l3=l.copy()\n",
        "l3.append(4)\n",
        "l,l2,l3"
      ],
      "execution_count": null,
      "outputs": [
        {
          "output_type": "execute_result",
          "data": {
            "text/plain": [
              "([1, 2, 3, 4], [1, 2, 3, 4], [1, 2, 3, 4, 4])"
            ]
          },
          "metadata": {},
          "execution_count": 167
        }
      ]
    },
    {
      "cell_type": "code",
      "metadata": {
        "colab": {
          "base_uri": "https://localhost:8080/"
        },
        "id": "uEOmBVlwreln",
        "outputId": "12a46fd4-1690-4f0f-a592-24e68b27de13"
      },
      "source": [
        "l.append(4)\n",
        "l"
      ],
      "execution_count": null,
      "outputs": [
        {
          "output_type": "execute_result",
          "data": {
            "text/plain": [
              "[1, 2, 3, 4, 4]"
            ]
          },
          "metadata": {},
          "execution_count": 168
        }
      ]
    },
    {
      "cell_type": "code",
      "metadata": {
        "colab": {
          "base_uri": "https://localhost:8080/"
        },
        "id": "V6iIbY_mrkH1",
        "outputId": "a61a7d47-09e7-4b8c-bbe1-14e57363d8ca"
      },
      "source": [
        "l is l3,l==l3"
      ],
      "execution_count": null,
      "outputs": [
        {
          "output_type": "execute_result",
          "data": {
            "text/plain": [
              "(False, True)"
            ]
          },
          "metadata": {},
          "execution_count": 170
        }
      ]
    },
    {
      "cell_type": "code",
      "metadata": {
        "colab": {
          "base_uri": "https://localhost:8080/"
        },
        "id": "gor1ln9IrsuB",
        "outputId": "bb12eb9d-058e-4344-d24d-e2fa6aa81183"
      },
      "source": [
        "import math\n",
        "math.gcd(7,21)"
      ],
      "execution_count": null,
      "outputs": [
        {
          "output_type": "execute_result",
          "data": {
            "text/plain": [
              "7"
            ]
          },
          "metadata": {},
          "execution_count": 171
        }
      ]
    },
    {
      "cell_type": "code",
      "metadata": {
        "colab": {
          "base_uri": "https://localhost:8080/"
        },
        "id": "h0BZXAvRsIBi",
        "outputId": "303c0454-3da8-4a2c-b743-8d98bdae8536"
      },
      "source": [
        "#reading multiple inputs\n",
        "x,y=[int(x) for x in input().split()]\n",
        "x,y"
      ],
      "execution_count": null,
      "outputs": [
        {
          "name": "stdout",
          "output_type": "stream",
          "text": [
            "4 44\n"
          ]
        },
        {
          "output_type": "execute_result",
          "data": {
            "text/plain": [
              "(4, 44)"
            ]
          },
          "metadata": {},
          "execution_count": 174
        }
      ]
    },
    {
      "cell_type": "code",
      "metadata": {
        "colab": {
          "base_uri": "https://localhost:8080/"
        },
        "id": "m-7RSG0DsVGW",
        "outputId": "9c9a111b-7027-4ff5-d3c4-0f81957f7cea"
      },
      "source": [
        "#eval \n",
        "x=eval(input())\n",
        "x"
      ],
      "execution_count": null,
      "outputs": [
        {
          "name": "stdout",
          "output_type": "stream",
          "text": [
            "1,2,1\n"
          ]
        },
        {
          "output_type": "execute_result",
          "data": {
            "text/plain": [
              "(1, 2, 1)"
            ]
          },
          "metadata": {},
          "execution_count": 180
        }
      ]
    },
    {
      "cell_type": "code",
      "metadata": {
        "colab": {
          "base_uri": "https://localhost:8080/"
        },
        "id": "6UUeP4E7souI",
        "outputId": "9def7830-e329-48a2-ecda-bfbde95c3034"
      },
      "source": [
        "#formatted string\n",
        "x=20\n",
        "y=[1,2,3]\n",
        "string=f\"there are {x} and there is {y}\"\n",
        "string\n"
      ],
      "execution_count": null,
      "outputs": [
        {
          "output_type": "execute_result",
          "data": {
            "text/plain": [
              "'there are 20 and there is [1, 2, 3]'"
            ]
          },
          "metadata": {},
          "execution_count": 182
        }
      ]
    },
    {
      "cell_type": "code",
      "metadata": {
        "colab": {
          "base_uri": "https://localhost:8080/"
        },
        "id": "X9UMH4NbudyC",
        "outputId": "e665bcef-7975-49fa-d329-cb4b256aa6d0"
      },
      "source": [
        "#raw string\n",
        "string=r\"there is / and \\ and % and ' and \"\n",
        "string"
      ],
      "execution_count": null,
      "outputs": [
        {
          "output_type": "execute_result",
          "data": {
            "text/plain": [
              "\"there is / and \\\\ and % and ' and \""
            ]
          },
          "metadata": {},
          "execution_count": 183
        }
      ]
    },
    {
      "cell_type": "code",
      "metadata": {
        "id": "RBZi1BtKuoQ4"
      },
      "source": [
        "# conditions\n",
        "\"\"\"\n",
        "if elif elif else\n",
        "for loop\n",
        "while loop\n",
        "for else if no break and same for while else\n",
        "break, continue ,pass\n",
        "\"\"\""
      ],
      "execution_count": null,
      "outputs": []
    },
    {
      "cell_type": "code",
      "metadata": {
        "colab": {
          "base_uri": "https://localhost:8080/"
        },
        "id": "h3veiiwCvQDD",
        "outputId": "2d1c5874-23fd-4a96-c6b8-563a8ec66ea5"
      },
      "source": [
        "for i in range(10,-7,-1):\n",
        "    print(i)"
      ],
      "execution_count": null,
      "outputs": [
        {
          "output_type": "stream",
          "name": "stdout",
          "text": [
            "10\n",
            "9\n",
            "8\n",
            "7\n",
            "6\n",
            "5\n",
            "4\n",
            "3\n",
            "2\n",
            "1\n",
            "0\n",
            "-1\n",
            "-2\n",
            "-3\n",
            "-4\n",
            "-5\n",
            "-6\n"
          ]
        }
      ]
    },
    {
      "cell_type": "code",
      "metadata": {
        "colab": {
          "base_uri": "https://localhost:8080/",
          "height": 214
        },
        "id": "rYQTiWV2vZVT",
        "outputId": "ec46f386-2a36-4fef-dcd2-d2762374b7c6"
      },
      "source": [
        "# del statement\n",
        "x=20\n",
        "y=10\n",
        "del(x)\n",
        "del y\n",
        "x,y\n",
        "# you can assign things none when not needed"
      ],
      "execution_count": null,
      "outputs": [
        {
          "output_type": "error",
          "ename": "NameError",
          "evalue": "ignored",
          "traceback": [
            "\u001b[0;31m---------------------------------------------------------------------------\u001b[0m",
            "\u001b[0;31mNameError\u001b[0m                                 Traceback (most recent call last)",
            "\u001b[0;32m/tmp/ipykernel_43465/4083306395.py\u001b[0m in \u001b[0;36m<module>\u001b[0;34m\u001b[0m\n\u001b[1;32m      4\u001b[0m \u001b[0;32mdel\u001b[0m\u001b[0;34m(\u001b[0m\u001b[0mx\u001b[0m\u001b[0;34m)\u001b[0m\u001b[0;34m\u001b[0m\u001b[0;34m\u001b[0m\u001b[0m\n\u001b[1;32m      5\u001b[0m \u001b[0;32mdel\u001b[0m \u001b[0my\u001b[0m\u001b[0;34m\u001b[0m\u001b[0;34m\u001b[0m\u001b[0m\n\u001b[0;32m----> 6\u001b[0;31m \u001b[0mx\u001b[0m\u001b[0;34m,\u001b[0m\u001b[0my\u001b[0m\u001b[0;34m\u001b[0m\u001b[0;34m\u001b[0m\u001b[0m\n\u001b[0m\u001b[1;32m      7\u001b[0m \u001b[0;31m# you can assign things none when not needed\u001b[0m\u001b[0;34m\u001b[0m\u001b[0;34m\u001b[0m\u001b[0;34m\u001b[0m\u001b[0m\n",
            "\u001b[0;31mNameError\u001b[0m: name 'x' is not defined"
          ]
        }
      ]
    },
    {
      "cell_type": "code",
      "metadata": {
        "colab": {
          "base_uri": "https://localhost:8080/"
        },
        "id": "rVAHRdF_vw2F",
        "outputId": "5dda0ee0-6c9e-4770-9e9b-fe04f3938d4f"
      },
      "source": [
        "#strings\n",
        "string=\"0123456789\"\n",
        "string[::-1]"
      ],
      "execution_count": null,
      "outputs": [
        {
          "output_type": "execute_result",
          "data": {
            "text/plain": [
              "'9876543210'"
            ]
          },
          "metadata": {},
          "execution_count": 199
        }
      ]
    },
    {
      "cell_type": "code",
      "metadata": {
        "colab": {
          "base_uri": "https://localhost:8080/"
        },
        "id": "9SfNo2pdwZO2",
        "outputId": "e11cbfc1-c1e2-4e8b-c9f7-a3b1de18db2e"
      },
      "source": [
        "ord(\"a\"),chr(97)"
      ],
      "execution_count": null,
      "outputs": [
        {
          "output_type": "execute_result",
          "data": {
            "text/plain": [
              "(97, 'a')"
            ]
          },
          "metadata": {},
          "execution_count": 202
        }
      ]
    },
    {
      "cell_type": "code",
      "metadata": {
        "colab": {
          "base_uri": "https://localhost:8080/"
        },
        "id": "yyq1olPiwudJ",
        "outputId": "d4c6d961-6472-41f7-a1eb-b240f2774814"
      },
      "source": [
        "s=\"   hi   \"\n",
        "s"
      ],
      "execution_count": null,
      "outputs": [
        {
          "output_type": "execute_result",
          "data": {
            "text/plain": [
              "'   hi   '"
            ]
          },
          "metadata": {},
          "execution_count": 204
        }
      ]
    },
    {
      "cell_type": "code",
      "metadata": {
        "colab": {
          "base_uri": "https://localhost:8080/"
        },
        "id": "TOq9l19fw4K0",
        "outputId": "15a13857-2898-43bf-c33b-728eda95dde8"
      },
      "source": [
        "s.strip()"
      ],
      "execution_count": null,
      "outputs": [
        {
          "output_type": "execute_result",
          "data": {
            "text/plain": [
              "'hi'"
            ]
          },
          "metadata": {},
          "execution_count": 205
        }
      ]
    },
    {
      "cell_type": "code",
      "metadata": {
        "colab": {
          "base_uri": "https://localhost:8080/"
        },
        "id": "erGcYwbVw8CY",
        "outputId": "dc1a1bfd-9915-4590-e2ca-734eaa2d6779"
      },
      "source": [
        "string.count('0')"
      ],
      "execution_count": null,
      "outputs": [
        {
          "output_type": "execute_result",
          "data": {
            "text/plain": [
              "1"
            ]
          },
          "metadata": {},
          "execution_count": 206
        }
      ]
    },
    {
      "cell_type": "code",
      "metadata": {
        "colab": {
          "base_uri": "https://localhost:8080/"
        },
        "id": "5Yl495JbxSwI",
        "outputId": "758c200f-4ee6-4790-d35c-9fdeee6fd8bd"
      },
      "source": [
        "string.count('0',1,7)"
      ],
      "execution_count": null,
      "outputs": [
        {
          "output_type": "execute_result",
          "data": {
            "text/plain": [
              "0"
            ]
          },
          "metadata": {},
          "execution_count": 208
        }
      ]
    },
    {
      "cell_type": "code",
      "metadata": {
        "colab": {
          "base_uri": "https://localhost:8080/"
        },
        "id": "safmx0m_xWKb",
        "outputId": "0ff03c79-5588-4073-c351-5c777f4addc6"
      },
      "source": [
        "string.replace('0','7')"
      ],
      "execution_count": null,
      "outputs": [
        {
          "output_type": "execute_result",
          "data": {
            "text/plain": [
              "'7123456789'"
            ]
          },
          "metadata": {},
          "execution_count": 209
        }
      ]
    },
    {
      "cell_type": "code",
      "metadata": {
        "colab": {
          "base_uri": "https://localhost:8080/"
        },
        "id": "X2OOIDU-xblm",
        "outputId": "91feb729-fd27-4ba1-d87b-33e33eaa764d"
      },
      "source": [
        "l=string.split(' ')\n",
        "l"
      ],
      "execution_count": null,
      "outputs": [
        {
          "output_type": "execute_result",
          "data": {
            "text/plain": [
              "['0123456789']"
            ]
          },
          "metadata": {},
          "execution_count": 212
        }
      ]
    },
    {
      "cell_type": "code",
      "metadata": {
        "colab": {
          "base_uri": "https://localhost:8080/"
        },
        "id": "WPlF-jw4xkHv",
        "outputId": "7abfd7c6-9491-45e9-8f9d-544e97b61bfe"
      },
      "source": [
        "l=list(string)\n",
        "l"
      ],
      "execution_count": null,
      "outputs": [
        {
          "output_type": "execute_result",
          "data": {
            "text/plain": [
              "['0', '1', '2', '3', '4', '5', '6', '7', '8', '9']"
            ]
          },
          "metadata": {},
          "execution_count": 214
        }
      ]
    },
    {
      "cell_type": "code",
      "metadata": {
        "colab": {
          "base_uri": "https://localhost:8080/"
        },
        "id": "pJbQMPF_xq4a",
        "outputId": "400e211b-a926-4e1e-f017-dc387de53d5d"
      },
      "source": [
        "'<'.join(l)"
      ],
      "execution_count": null,
      "outputs": [
        {
          "output_type": "execute_result",
          "data": {
            "text/plain": [
              "'0<1<2<3<4<5<6<7<8<9'"
            ]
          },
          "metadata": {},
          "execution_count": 215
        }
      ]
    },
    {
      "cell_type": "code",
      "metadata": {
        "id": "UN11busUxvSg"
      },
      "source": [
        "#s.split(' ,3),s.rsplit(' ',3)"
      ],
      "execution_count": null,
      "outputs": []
    },
    {
      "cell_type": "code",
      "metadata": {
        "colab": {
          "base_uri": "https://localhost:8080/"
        },
        "id": "DGq4Y3h8x41R",
        "outputId": "823a8647-2a70-4e3b-85e8-f1de0bee3e3c"
      },
      "source": [
        "string=\"hi THERE\"\n",
        "print(string.upper(),string.lower(),string.capitalize())\n",
        "print(string.islower())\n",
        "string.startswith(\"hi\")#.endswith"
      ],
      "execution_count": null,
      "outputs": [
        {
          "output_type": "stream",
          "name": "stdout",
          "text": [
            "HI THERE hi there Hi there\n",
            "False\n"
          ]
        },
        {
          "output_type": "execute_result",
          "data": {
            "text/plain": [
              "True"
            ]
          },
          "metadata": {},
          "execution_count": 220
        }
      ]
    },
    {
      "cell_type": "code",
      "metadata": {
        "colab": {
          "base_uri": "https://localhost:8080/"
        },
        "id": "FhCJndVkyGkg",
        "outputId": "a2188ce8-4ab0-4ea7-ee77-3166dcf83acb"
      },
      "source": [
        "#list comprehension\n",
        "l=[x*x for x in range(10)]\n",
        "l"
      ],
      "execution_count": null,
      "outputs": [
        {
          "output_type": "execute_result",
          "data": {
            "text/plain": [
              "[0, 1, 4, 9, 16, 25, 36, 49, 64, 81]"
            ]
          },
          "metadata": {},
          "execution_count": 221
        }
      ]
    },
    {
      "cell_type": "code",
      "metadata": {
        "colab": {
          "base_uri": "https://localhost:8080/"
        },
        "id": "WWu1YX4wzV58",
        "outputId": "a2e407ee-8765-43e0-caf2-8887f5405b10"
      },
      "source": [
        "t=7,2,3,4\n",
        "sorted(t,reverse=True)"
      ],
      "execution_count": null,
      "outputs": [
        {
          "output_type": "execute_result",
          "data": {
            "text/plain": [
              "[7, 4, 3, 2]"
            ]
          },
          "metadata": {},
          "execution_count": 225
        }
      ]
    },
    {
      "cell_type": "code",
      "metadata": {
        "colab": {
          "base_uri": "https://localhost:8080/"
        },
        "id": "pbWH6N809HIj",
        "outputId": "823d658e-91c0-4350-d615-e39aa0be4c8f"
      },
      "source": [
        "#sets\n",
        "s={1,2,3}\n",
        "s.pop()"
      ],
      "execution_count": null,
      "outputs": [
        {
          "output_type": "execute_result",
          "data": {
            "text/plain": [
              "1"
            ]
          },
          "metadata": {},
          "execution_count": 226
        }
      ]
    },
    {
      "cell_type": "code",
      "metadata": {
        "id": "NVBJAvRE9QOr"
      },
      "source": [
        "# s.discard(7) if avaialble remove"
      ],
      "execution_count": null,
      "outputs": []
    },
    {
      "cell_type": "code",
      "metadata": {
        "colab": {
          "base_uri": "https://localhost:8080/"
        },
        "id": "pGDLScLD9UwB",
        "outputId": "da6f43c5-4e04-4d9d-8ac2-0297fdcf014c"
      },
      "source": [
        "s1={1,2,3}\n",
        "s2={4,3,5}\n",
        "s1.intersection(s2),s1&s2,s1.union(s2),s1|s2,s1.symmetric_difference(s2),s1^s2,s1-s2,s1.difference(s2)"
      ],
      "execution_count": null,
      "outputs": [
        {
          "output_type": "execute_result",
          "data": {
            "text/plain": [
              "({3},\n",
              " {3},\n",
              " {1, 2, 3, 4, 5},\n",
              " {1, 2, 3, 4, 5},\n",
              " {1, 2, 4, 5},\n",
              " {1, 2, 4, 5},\n",
              " {1, 2},\n",
              " {1, 2})"
            ]
          },
          "metadata": {},
          "execution_count": 230
        }
      ]
    },
    {
      "cell_type": "code",
      "metadata": {
        "colab": {
          "base_uri": "https://localhost:8080/"
        },
        "id": "tBM7mUlj9siI",
        "outputId": "07de66fc-b533-4e3a-c6c3-5799804a2a35"
      },
      "source": [
        "#set compreshension\n",
        "s={x*x for x in range(-1,5)}\n",
        "s"
      ],
      "execution_count": null,
      "outputs": [
        {
          "output_type": "execute_result",
          "data": {
            "text/plain": [
              "{0, 1, 4, 9, 16}"
            ]
          },
          "metadata": {},
          "execution_count": 231
        }
      ]
    },
    {
      "cell_type": "code",
      "metadata": {
        "id": "yC-O-G649_2a"
      },
      "source": [
        "#dicitonaries\n",
        "d={\n",
        "    'name':\"rayon\",\n",
        "    \"rollno\":7\n",
        "   }"
      ],
      "execution_count": null,
      "outputs": []
    },
    {
      "cell_type": "code",
      "metadata": {
        "colab": {
          "base_uri": "https://localhost:8080/"
        },
        "id": "rsikRQdV-MCI",
        "outputId": "ae7e3371-5fd3-40ff-98a1-072b381ddbe1"
      },
      "source": [
        "d['name']"
      ],
      "execution_count": null,
      "outputs": [
        {
          "output_type": "execute_result",
          "data": {
            "text/plain": [
              "'rayon'"
            ]
          },
          "metadata": {},
          "execution_count": 236
        }
      ]
    },
    {
      "cell_type": "code",
      "metadata": {
        "id": "woggtuhx-OnZ"
      },
      "source": [
        "del d[\"rollno\"]"
      ],
      "execution_count": null,
      "outputs": []
    },
    {
      "cell_type": "code",
      "metadata": {
        "id": "IBXg4xe9B58-"
      },
      "source": [
        ""
      ],
      "execution_count": null,
      "outputs": []
    },
    {
      "cell_type": "code",
      "metadata": {
        "colab": {
          "base_uri": "https://localhost:8080/"
        },
        "id": "B6ewxiv_B72V",
        "outputId": "f15ab8f8-a79d-498f-e88a-28993646645c"
      },
      "source": [
        "d.keys()"
      ],
      "execution_count": null,
      "outputs": [
        {
          "output_type": "execute_result",
          "data": {
            "text/plain": [
              "dict_keys(['name', 'rollno'])"
            ]
          },
          "metadata": {},
          "execution_count": 242
        }
      ]
    },
    {
      "cell_type": "code",
      "metadata": {
        "colab": {
          "base_uri": "https://localhost:8080/"
        },
        "id": "F2l3Pc1OB_SK",
        "outputId": "4d98de24-b1f8-46ff-a692-208b3db6ab66"
      },
      "source": [
        "d.values()"
      ],
      "execution_count": null,
      "outputs": [
        {
          "output_type": "execute_result",
          "data": {
            "text/plain": [
              "dict_values(['rayon', 7])"
            ]
          },
          "metadata": {},
          "execution_count": 243
        }
      ]
    },
    {
      "cell_type": "code",
      "metadata": {
        "colab": {
          "base_uri": "https://localhost:8080/"
        },
        "id": "d2lwQ56KCEpM",
        "outputId": "6405d485-4f24-4762-f355-d9c77197be28"
      },
      "source": [
        "d.items()"
      ],
      "execution_count": null,
      "outputs": [
        {
          "output_type": "execute_result",
          "data": {
            "text/plain": [
              "dict_items([('name', 'rayon'), ('rollno', 7)])"
            ]
          },
          "metadata": {},
          "execution_count": 244
        }
      ]
    },
    {
      "cell_type": "code",
      "metadata": {
        "colab": {
          "base_uri": "https://localhost:8080/"
        },
        "id": "2ndadit1CFi5",
        "outputId": "f8873906-6dba-490f-de4e-f2b8279c89fd"
      },
      "source": [
        "d.pop(\"name\")#key removed and value returned"
      ],
      "execution_count": null,
      "outputs": [
        {
          "output_type": "execute_result",
          "data": {
            "text/plain": [
              "'rayon'"
            ]
          },
          "metadata": {},
          "execution_count": 248
        }
      ]
    },
    {
      "cell_type": "code",
      "metadata": {
        "colab": {
          "base_uri": "https://localhost:8080/"
        },
        "id": "CNqNh7c_CJCt",
        "outputId": "f930e944-a191-4ec5-fe8f-fed7375fa006"
      },
      "source": [
        "d.update({\"age\":21})\n",
        "d"
      ],
      "execution_count": null,
      "outputs": [
        {
          "output_type": "execute_result",
          "data": {
            "text/plain": [
              "{'rollno': 7, 'age': 21}"
            ]
          },
          "metadata": {},
          "execution_count": 249
        }
      ]
    },
    {
      "cell_type": "code",
      "metadata": {
        "colab": {
          "base_uri": "https://localhost:8080/"
        },
        "id": "-TrtqjdSCeB8",
        "outputId": "bd57502f-8db2-402d-e35e-d117fb2d6659"
      },
      "source": [
        "d.setdefault(\"rollno\",10)"
      ],
      "execution_count": null,
      "outputs": [
        {
          "output_type": "execute_result",
          "data": {
            "text/plain": [
              "7"
            ]
          },
          "metadata": {},
          "execution_count": 250
        }
      ]
    },
    {
      "cell_type": "code",
      "metadata": {
        "colab": {
          "base_uri": "https://localhost:8080/"
        },
        "id": "LSu-awDiCkSu",
        "outputId": "4ed48989-3d3f-4fc5-e61d-857fe79388e8"
      },
      "source": [
        "d"
      ],
      "execution_count": null,
      "outputs": [
        {
          "output_type": "execute_result",
          "data": {
            "text/plain": [
              "{'rollno': 7, 'age': 21}"
            ]
          },
          "metadata": {},
          "execution_count": 251
        }
      ]
    },
    {
      "cell_type": "code",
      "metadata": {
        "id": "VjP3wY9RCkkD"
      },
      "source": [
        "d[\"age\"]=d.get(\"age\",0)+1"
      ],
      "execution_count": null,
      "outputs": []
    },
    {
      "cell_type": "code",
      "metadata": {
        "colab": {
          "base_uri": "https://localhost:8080/"
        },
        "id": "UcK4wvobCwav",
        "outputId": "d6aa6353-9a04-4773-be2b-d6b3dbc070f2"
      },
      "source": [
        "d"
      ],
      "execution_count": null,
      "outputs": [
        {
          "output_type": "execute_result",
          "data": {
            "text/plain": [
              "{'rollno': 7, 'age': 22}"
            ]
          },
          "metadata": {},
          "execution_count": 254
        }
      ]
    },
    {
      "cell_type": "code",
      "metadata": {
        "id": "skzTmZt7Cya3"
      },
      "source": [
        "#dict comprehension\n",
        "d={x:x*x for x in range(10)}"
      ],
      "execution_count": null,
      "outputs": []
    },
    {
      "cell_type": "code",
      "metadata": {
        "colab": {
          "base_uri": "https://localhost:8080/"
        },
        "id": "vTVhfEEFC4X5",
        "outputId": "c7237fc5-78e2-4a89-b3f3-7bba1028f088"
      },
      "source": [
        "d"
      ],
      "execution_count": null,
      "outputs": [
        {
          "output_type": "execute_result",
          "data": {
            "text/plain": [
              "{0: 0, 1: 1, 2: 4, 3: 9, 4: 16, 5: 25, 6: 36, 7: 49, 8: 64, 9: 81}"
            ]
          },
          "metadata": {},
          "execution_count": 256
        }
      ]
    },
    {
      "cell_type": "code",
      "metadata": {
        "id": "iZLAItuFC4ps"
      },
      "source": [
        "# functions by default return None"
      ],
      "execution_count": null,
      "outputs": []
    },
    {
      "cell_type": "code",
      "metadata": {
        "colab": {
          "base_uri": "https://localhost:8080/"
        },
        "id": "083ba_xADLuu",
        "outputId": "122bacc3-5f55-4aef-91e7-95f57f7a5bf0"
      },
      "source": [
        "globals()"
      ],
      "execution_count": null,
      "outputs": [
        {
          "output_type": "execute_result",
          "data": {
            "text/plain": [
              "{'__name__': '__main__',\n",
              " '__doc__': 'Automatically created module for IPython interactive environment',\n",
              " '__package__': None,\n",
              " '__loader__': None,\n",
              " '__spec__': None,\n",
              " '__builtin__': <module 'builtins' (built-in)>,\n",
              " '__builtins__': <module 'builtins' (built-in)>,\n",
              " '_ih': ['',\n",
              "  '#taking string input from console\\nstring=input(\"enter a string: \")',\n",
              "  '#taking string input from console\\nstring=input(\"enter a string: \")\\n\\nsting',\n",
              "  '#taking string input from console\\nstring=input(\"enter a string: \")\\n\\nstring',\n",
              "  '#taking floats and ints as input\\ninteger=int(input(\"enter an integer\"))',\n",
              "  '#taking floats and ints as input\\ninteger=int(input(\"enter an integer: \"))\\nfloating_point=float(input(\"enter a floating point value: \"))\\ninteger,floating_point',\n",
              "  '#for loop\\nfor i in range(10):\\n    print(i)',\n",
              "  '#printing values to console\\nprint(\"hello world\")',\n",
              "  '#varialbes/identifier\\n\\nfirst_floating_point=3.33\\nsecond_floating_point=4.4\\nprint(first_floating_point+second_floating_point)\\nprint(first_floating_point-second_floating_point)\\nprint(first_floating_point*second_floating_point)\\nprint(first_floating_point/second_floating_point)',\n",
              "  '#tuple unpacking\\nn1,n2,n3=1,2,3\\nprint(n1+n+n3)',\n",
              "  '#tuple unpacking\\nn1,n2,n3=1,2,3\\nprint(n1+n2+n3)',\n",
              "  '#to check types\\ntype(first_floating_point)',\n",
              "  '#importing packages/modules\\nimport math \\nmath.sqrt(2),math.pi,math.sin(3.14)',\n",
              "  'import random\\nprintI(random.randint(0,1),random.randint(3))',\n",
              "  'import random\\nprint(random.randint(0,1),random.randint(3))',\n",
              "  'import random\\nprint(random.randint(0,1))',\n",
              "  'import random\\nprint(random.randint(0,1))',\n",
              "  'import random\\nprint(random.randint(0,1))',\n",
              "  'import random\\nprint(random.randint(0,1))',\n",
              "  'import random\\nprint(random.randint(0,1))',\n",
              "  'import random\\nprint(random.randint(0,1))\\n#randint is inclusive of both bounds\\nprint(random.rand())',\n",
              "  'import random\\nprint(random.randint(0,1))\\n#randint is inclusive of both bounds\\nprint(random.random())',\n",
              "  'import random\\nprint(random.randint(0,1))\\n#randint is inclusive of both bounds\\nprint(random.random())',\n",
              "  \"#separator in print\\nprint(random.randint(0,9),random.randint(0,9),random.randint(0,9),random.randint(0,9),sep='')\",\n",
              "  \"#separator in print,by default the separator is space\\nprint(random.randint(0,9),random.randint(0,9),random.randint(0,9),random.randint(0,9),sep='')\",\n",
              "  '#other ways to import\\n\"\"\"\\nimport math as m\\nfrom math import sqrt as sq,pi as p\\nfrom math import *\\n\"\"\"',\n",
              "  '#the limitation of python is that it is slow,about 50 times when compared to c on average on basic operations done in a tradional way.',\n",
              "  '#python keywords\\nimport keyword\\nkeyword.kwlist',\n",
              "  '#primitive types are immutable\\ninteger=3\\nfloating_point=4.4\\ncomplex_number=3+4j\\nboolean=True\\nstring=\"hi there\"',\n",
              "  '#basic inbuild functions\\nprint(integer,floating_point,complex_number,boolean,string)\\nprint(id(integer),id(floating_point))\\nprint(type(complex_number),type(string))',\n",
              "  '#integers\\nx=10\\ny=0B010101\\nz=0Xbeef\\nq=0o777\\nx,y,z,q',\n",
              "  '#integers\\nx=10\\ny=0B010101\\nz=0Xbeef\\nq=0o777\\nx,y,z,q#this is a tuple which jupyter prints',\n",
              "  '#to binary etc\\nbin(x),hex(x),oct(x),type(bin(x))',\n",
              "  '#to binary etc\\nbin(x),hex(x),oct(x),type(bin(x))#they return str',\n",
              "  '#to binary etc\\nbin(x),hex(x),oct(x),bin(0xbeef))type(bin(x))#they return str',\n",
              "  '#to binary etc\\nbin(x),hex(x),oct(x),bin(0xbeef)type(bin(x))#they return str',\n",
              "  '#to binary etc\\nbin(x),hex(x),oct(x),bin(0xbeef),type(bin(x))#they return str',\n",
              "  '#floats can only be in decimal form\\nfloating_point=1.2e3\\nfloating_point',\n",
              "  'complex_number.real,complex_number.imag,complex_number',\n",
              "  '#bool\\nboolean1=True\\nboolean2=False\\nboolean1+boolean2,boolean1-boolean2,boolean1*boolean2',\n",
              "  '#bool\\nboolean1=True\\nboolean2=False\\nboolean1+boolean2,boolean1-boolean2,boolean1*boolean2\\n#True treated as 1 and False treated as 0',\n",
              "  '#bool\\nboolean1=True\\nboolean2=False\\nboolean1+boolean2,boolean1-boolean2,boolean1*boolean2,True+True\\n#True treated as 1 and False treated as 0',\n",
              "  \"#multiline string\\nstring='''\\nhi there\\ni hope you are doing good\\n'''\\nstring\",\n",
              "  \"#multiline string\\nstring='''\\nhi there\\ni hope you are doing good\\n'''\\nprint(string)\",\n",
              "  '#True/False is a ZeroDivisionError ',\n",
              "  '#slicing in strings\\nstring=\"01234456789\"\\nstring[0],string[1],string[-1],string[-2]',\n",
              "  'string[1:3],string[:4],string[2:],string[-4,-1],string[-4,0]',\n",
              "  'string[1:3],string[:4],string[2:],string[-4,-1],string[-4,-0]',\n",
              "  'string[1:3],string[:4],string[2:],string[-4,-1],string[-4:]',\n",
              "  'string[1:3],string[:4],string[2:],string[-4:-1],string[-4:]',\n",
              "  'string[1:3],string[:4],string[2:],string[-4:-1],string[-4:0]',\n",
              "  'string[1:3],string[:4],string[2:],string[-4:-1],string[-4:-0]',\n",
              "  'string[1:3],string[:4],string[2:],string[-4:-1],string[-4:]',\n",
              "  'string[1:3],string[:4],string[2:],string[-4:-1],string[-4:]',\n",
              "  'string[::2],string[0:3:2],string[-5:-2:1]',\n",
              "  '#slicing in strings\\nstring=\"0123456789\"\\nstring[0],string[1],string[-1],string[-2]',\n",
              "  'string[1:3],string[:4],string[2:],string[-4:-1],string[-4:]',\n",
              "  'string[::2],string[0:3:2],string[-5:-2:1]',\n",
              "  'string[::2],string[0:3:2],string[-5:-2:2]',\n",
              "  'string[::2],string[0:3:2],string[-5:-2:2]',\n",
              "  'string[7:1:-1],string[-1::-1]',\n",
              "  'string[7:1:-1],string[-1::-1],string[::-1]',\n",
              "  'string[7:1:-1],string[-1::-1],string[::-1]',\n",
              "  'string*3',\n",
              "  'string+string',\n",
              "  'len(string)',\n",
              "  '#typecasting\\nfloating_point=4.4\\nstring=\"4\"\\nint(string),float(string),str(floating_point)',\n",
              "  '#typecasting\\nfloating_point=4.4\\nstring=\"4\"\\nint(string),float(string),str(floating_point),bool(floating_point),complex(floating_point,3)',\n",
              "  'x=10\\ny=x\\ny+=10\\nx,y',\n",
              "  'x=10\\ny=x\\ny+=10\\nx,y #though primitive types are also objects but they are not copied by reference',\n",
              "  'x=10\\ny=x\\ny+=10\\nx,y #though primitive types are also objects but they are not copied by reference',\n",
              "  'x is y',\n",
              "  'x is y',\n",
              "  '#bytes\\nbyte=[1,2,3,4,5]\\nb=bytes(byte)\\nb',\n",
              "  '#bytes\\nbyte=[1,2,3,4,5]\\nb=bytes(byte)\\nb[0]',\n",
              "  '#bytes\\nbyte=[1,2,3,4,5]\\nb=bytes(byte)\\nb,b[0]',\n",
              "  '#bytes\\nbyte=[1,2,3,4,5,888]\\nb=bytes(byte)\\nb,b[0]',\n",
              "  '#bytes\\nbyte=[1,2,3,4,5,4]\\nb=bytes(byte)\\nb,b[0]',\n",
              "  '#bytes\\nbyte=[1,2,3,4,5,4]\\nb=bytes(byte)\\nb,b[0]',\n",
              "  '#bytes\\nbyte=[1,2,3,4,5,4]\\nb=bytes(byte)\\nb,b[0]#values has to be between 0-256 and it is used for binary data like images and videos',\n",
              "  '#bytes\\nbyte=[1,2,3,4,5,4]\\nb=bytes(byte)\\nb,b[0]#values has to be between 0-256 and it is used for binary data like images and videos\\n#bytearray is mutable type of same',\n",
              "  '#list\\nl=[1,2,3]\\nprint(l)\\nl.append(3)\\nprint(l)\\nl.pop()\\nprint(l)\\nl.insert(0,55)\\nprint(l)\\nl.pop(2)\\nprint(l)\\nl.remove(3)\\nprint(l)\\nprint(len(l))',\n",
              "  '#list\\nl=[1,2,3]\\nprint(l)\\nl.append(3)\\nprint(l)\\nl.pop()\\nprint(l)\\nl.insert(0,55)\\nprint(l)\\nl.pop(2)\\nprint(l)\\nl.remove(3)\\nprint(l)\\nprint(len(l))\\nl2=[7,7]\\nl.extend(l2)\\nprint(l)',\n",
              "  '#list\\nl=[1,2,3]\\nprint(l)\\nl.append(3)\\nprint(l)\\nl.pop()\\nprint(l)\\nl.insert(0,55)\\nprint(l)\\nl.pop(2)\\nprint(l)\\nl.remove(3)\\nprint(l)\\nprint(len(l))\\nl2=[7,7]\\nl.extend(l2)\\nprint(l)\\nprint(l.sort())',\n",
              "  '#list\\nl=[1,2,3]\\nprint(l)\\nl.append(3)\\nprint(l)\\nl.pop()\\nprint(l)\\nl.insert(0,55)\\nprint(l)\\nl.pop(2)\\nprint(l)\\nl.remove(3)\\nprint(l)\\nprint(len(l))\\nl2=[7,7]\\nl.extend(l2)\\nprint(l)\\nl.sort()\\nprint(l)',\n",
              "  '#list\\nl=[1,2,3]\\nprint(l)\\nl.append(3)\\nprint(l)\\nl.pop()\\nprint(l)\\nl.insert(0,55)\\nprint(l)\\nl.pop(2)\\nprint(l)\\nl.remove(3)\\nprint(l)\\nprint(len(l))\\nl2=[7,7]\\nl.extend(l2)\\nprint(l)\\nl.sort(reverse=True)\\nprint(l)',\n",
              "  '#list\\nl=[1,2,3]\\nprint(l)\\nl.append(3)\\nprint(l)\\nl.pop()\\nprint(l)\\nl.insert(0,55)\\nprint(l)\\nl.pop(2)\\nprint(l)\\nl.remove(3)\\nprint(l)\\nprint(len(l))\\nl2=[7,7]\\nl.extend(l2)\\nprint(l)\\nl.sort(reverse=True)\\nprint(l)\\nprint(max(l))',\n",
              "  '#list\\nl=[1,2,3]\\nprint(l)\\nl.append(3)\\nprint(l)\\nl.pop()\\nprint(l)\\nl.insert(0,55)\\nprint(l)\\nl.pop(2)\\nprint(l)\\nl.remove(3)\\nprint(l)\\nprint(len(l))\\nl2=[7,7]\\nl.extend(l2)\\nprint(l)\\nl.sort(reverse=True)\\nprint(l)\\nprint(max(l),min(l))',\n",
              "  '#list\\nl=[1,2,3]\\nprint(l)\\nl.append(3)\\nprint(l)\\nl.pop()\\nprint(l)\\nl.insert(0,55)\\nprint(l)\\nl.pop(2)\\nprint(l)\\nl.remove(3)\\nprint(l)\\nprint(len(l))\\nl2=[7,7]\\nl.extend(l2)\\nprint(l)\\nl.sort(reverse=True)\\nprint(l)\\nprint(max(l),min(l))\\nl.clear()\\nprint(l)',\n",
              "  '#list\\nl=[1,2,3]\\nprint(l)\\nl.append(3)\\nprint(l)\\nl.pop()\\nprint(l)\\nl.insert(0,55)\\nprint(l)\\nl.pop(2)\\nprint(l)\\nl.remove(3)\\nprint(l)\\nprint(len(l))\\nl2=[7,7]\\nl.extend(l2)\\nprint(l)\\nl.sort(reverse=True)\\nprint(l)\\nprint(max(l),min(l))\\nprint(l.index(55),l.count(7))\\nl.clear()\\nprint(l)',\n",
              "  '#indexing and slicing same as that in strings',\n",
              "  '#tuple is immutale verison of it',\n",
              "  '#range\\nr=range(0,10,2)\\nprint(r)',\n",
              "  'r[0]',\n",
              "  'r[1]',\n",
              "  'r[0:3]',\n",
              "  '#set\\ns={1,2,3}',\n",
              "  '#set\\ns={1,2,3}\\ns',\n",
              "  's.add(4)\\ns',\n",
              "  's.remove(3)',\n",
              "  's.remove(3)\\ns',\n",
              "  '#set\\ns={1,2,3}\\ns',\n",
              "  's.add(4)\\ns',\n",
              "  's.remove(3)\\ns',\n",
              "  's.clear()\\ns',\n",
              "  's.update([1,2,3,3,4])\\ns',\n",
              "  '#dictionary\\nd={}\\nd[\"name\"]=\"rayon\"\\nd[3]=4\\nd',\n",
              "  \"d.get('name')\",\n",
              "  \"d.get('saloon')\",\n",
              "  \"d.get('saloon',0)\",\n",
              "  '# arithmatic operations,the edge cases\\n\\n3%2,2.2%2',\n",
              "  '# arithmatic operations,the edge cases\\n\\n3%2,2.2%2.1',\n",
              "  '# arithmatic operations,the edge cases\\n\\n3%2,2.2%2.1\\n# hence mod also works for floats',\n",
              "  '# arithmatic operations,the edge cases\\n\\n3%2,2.2%2.1\\n# hence mod also works for floats',\n",
              "  '# string concatenation\\n\"hit\"+\"here\"',\n",
              "  '#uncode based comaparsion for strings in ><',\n",
              "  '10==True\\n#because True is 1 only ',\n",
              "  '10<20>30',\n",
              "  '10==20==30',\n",
              "  '10=10.0',\n",
              "  '10==10.0',\n",
              "  '10=10.00001',\n",
              "  '10==10.00001',\n",
              "  '10==10.00000001',\n",
              "  '10==10.00000000001',\n",
              "  '10==10.00000000000001',\n",
              "  '10==10.00000000000000001',\n",
              "  '10=10.0000001',\n",
              "  '10==10.0000001',\n",
              "  '10==10.0000001\\n#hence always be careful and do type conversion first',\n",
              "  '10 and 20',\n",
              "  '10 or 20',\n",
              "  'not 20',\n",
              "  'True and False',\n",
              "  '#bitwise operators for booleans and integers where booleans are treated as integers\\nTrue & False',\n",
              "  'True | False',\n",
              "  'True | False',\n",
              "  'True ^ False',\n",
              "  '~Tru',\n",
              "  '~True',\n",
              "  '4&5',\n",
              "  '4&5,4|5,4^5,~4',\n",
              "  '4&5,4|5,4^5,~4#^ is xor',\n",
              "  '4<<2',\n",
              "  '4>>2',\n",
              "  '-4<<2',\n",
              "  '-4>>2',\n",
              "  '#ternary operator\\nx,y,z=5,10,7\\nmax=x if x>y and x>z else y if y>x and y>z else z\\nmax',\n",
              "  '#ternary operator\\nx,y,z=5,10,71\\nmax=x if x>y and x>z else y if y>x and y>z else z\\nmax',\n",
              "  '#ternary operator\\nx,y,z=555,10,71\\nmax=x if x>y and x>z else y if y>x and y>z else z\\nmax',\n",
              "  '#membership operator\\nl=1,2,3\\n2 in l',\n",
              "  '4 in l',\n",
              "  's=\"hi there\"',\n",
              "  '\"hi\" in s',\n",
              "  's.index(\"hi\")',\n",
              "  's.index(\"there\")',\n",
              "  '\"kive\" not in s',\n",
              "  '#lists are copied by reference\\nl=[1,2,3]\\nl2=l\\nl is l2',\n",
              "  'l2.append(4)\\nl,l2',\n",
              "  '#lists are copied by reference\\nl=[1,2,3]\\nl2=l\\nl is l2',\n",
              "  'l2.append(4)\\nl,l2',\n",
              "  '# to copy though shallowly\\nl3=l.copy()\\nl3.append(4)\\nl,l2,l3',\n",
              "  'l.append(4)',\n",
              "  'l.append(4)\\nl',\n",
              "  '# to copy though shallowly\\nl3=l.copy()\\nl3.append(4)\\nl,l2,l3',\n",
              "  '#lists are copied by reference\\nl=[1,2,3]\\nl2=l\\nl is l2',\n",
              "  'l2.append(4)\\nl,l2',\n",
              "  '# to copy though shallowly\\nl3=l.copy()\\nl3.append(4)\\nl,l2,l3',\n",
              "  'l.append(4)\\nl',\n",
              "  'l is l3',\n",
              "  'l is l3,l==l3',\n",
              "  'import math\\nmath.gcd(7,21)',\n",
              "  '#reading multiple inputs\\nx,y=[int(x) for x in input().split()]',\n",
              "  '#reading multiple inputs\\nx,y=[int(x) for x in input().split()]\\nx,4',\n",
              "  '#reading multiple inputs\\nx,y=[int(x) for x in input().split()]\\nx,y',\n",
              "  '#eval \\nx=eval(input())\\nx',\n",
              "  '#eval \\nx=eval(input())\\nx',\n",
              "  '#eval \\nx=eval(input())\\nx',\n",
              "  '#eval \\nx=eval(input())\\nx',\n",
              "  '#eval \\nx=eval(input())\\nx',\n",
              "  '#eval \\nx=eval(input())\\nx',\n",
              "  '#formatted string\\nx=20\\ny=[1,2,3]\\nstring=f\"there are {x} and there is {y}\"',\n",
              "  '#formatted string\\nx=20\\ny=[1,2,3]\\nstring=f\"there are {x} and there is {y}\"\\nstring',\n",
              "  '#raw string\\nstring=r\"there is / and \\\\ and % and \\' and \"\\nstring',\n",
              "  'for i in range(10,,-1):\\n    print(i)',\n",
              "  'for i in range(10,0,-1):\\n    print(i)',\n",
              "  'for i in range(10,-1,-1):\\n    print(i)',\n",
              "  'for i in range(10,-7,-1):\\n    print(i)',\n",
              "  'del statement\\nx=20\\ndel x\\nx',\n",
              "  '# del statement\\nx=20\\ndel x\\nx',\n",
              "  '# del statement\\nx=20\\ndel(x)\\nx',\n",
              "  '# del statement\\nx=20\\ny=10\\ndel(x),del y\\nx',\n",
              "  '# del statement\\nx=20\\ny=10\\ndel(x)\\ndel y\\nx',\n",
              "  '# del statement\\nx=20\\ny=10\\ndel(x)\\ndel y\\nx,y',\n",
              "  '# del statement\\nx=20\\ny=10\\ndel(x)\\ndel y\\nx,y\\n# you can assign things none when not needed',\n",
              "  '#strings\\nstring=\"0123456789\"\\nstring.reverse()',\n",
              "  '#strings\\nstring=\"0123456789\"\\nstring.reversed()',\n",
              "  '#strings\\nstring=\"0123456789\"\\nreversed(string)',\n",
              "  '#strings\\nstring=\"0123456789\"\\nreverse(string)',\n",
              "  '#strings\\nstring=\"0123456789\"\\nstring[::-1]',\n",
              "  'chr(\"a\")',\n",
              "  'ord(\"a\")',\n",
              "  'ord(\"a\"),chr(97)',\n",
              "  's=\"   hi   \"\\ns',\n",
              "  's=\"   hi   \"\\ns',\n",
              "  's.strip()',\n",
              "  \"string.count('0')\",\n",
              "  \"string.count('0',1,7)\",\n",
              "  \"string.count('0',1,7)\",\n",
              "  \"string.replace('0','7')\",\n",
              "  \"l=string.split('')\",\n",
              "  \"l=string.split(' ')\",\n",
              "  \"l=string.split(' ')\\nl\",\n",
              "  'l=list(string)',\n",
              "  'l=list(string)\\nl',\n",
              "  \"'<'.join(l)\",\n",
              "  \"#s.split(' ,3),s.rsplit(' ',3)\",\n",
              "  'string=\"hi THERE\"\\nprint(string.upper(),string.lower(),string.capitalize())',\n",
              "  'string=\"hi THERE\"\\nprint(string.upper(),string.lower(),string.capitalize())\\nprint(string.islower())',\n",
              "  'string=\"hi THERE\"\\nprint(string.upper(),string.lower(),string.capitalize())\\nprint(string.islower())\\nstring.startswith(\"hi\")',\n",
              "  'string=\"hi THERE\"\\nprint(string.upper(),string.lower(),string.capitalize())\\nprint(string.islower())\\nstring.startswith(\"hi\")#.endswith',\n",
              "  '#list comprehension\\nl=[x*x for x in range(10)]\\nl',\n",
              "  't=1,2,3,4\\nsorted(t)',\n",
              "  't=7,2,3,4\\nsorted(t)',\n",
              "  't=7,2,3,4\\nsorted(t,reverse=True)',\n",
              "  't=7,2,3,4\\nsorted(t,reverse=True)',\n",
              "  '#sets\\ns={1,2,3}\\ns.pop()',\n",
              "  's.discard(7)',\n",
              "  '# s.discard(7) if avaialble remove',\n",
              "  's1={1,2,3}\\ns2={4,3,5}\\ns1.intersection(s2),s1&s2,s1.union(s2),s1|s2,s1.symmetric_difference(s2),s1^s2,s1-s2',\n",
              "  's1={1,2,3}\\ns2={4,3,5}\\ns1.intersection(s2),s1&s2,s1.union(s2),s1|s2,s1.symmetric_difference(s2),s1^s2,s1-s2,s1.difference(s2)',\n",
              "  '#set compreshension\\ns={x*x for x in range(-1,5)}\\ns',\n",
              "  '#dicitonaries\\nd={\\n    \\'name\\':\"rayon\",\\n    \"rollno\"=7\\n   }',\n",
              "  '#dicitonaries\\nd={\\n    \\'name\\':\"rayon\",\\n    \"rollno\":7\\n   }',\n",
              "  'd.name',\n",
              "  \"d['naem']\",\n",
              "  \"d['name']\",\n",
              "  'del d[\"rollno\"]',\n",
              "  'd.clear()',\n",
              "  'd.keys()',\n",
              "  'd.keys()',\n",
              "  '#dicitonaries\\nd={\\n    \\'name\\':\"rayon\",\\n    \"rollno\":7\\n   }',\n",
              "  'd.keys()',\n",
              "  'd.values()',\n",
              "  'd.items()',\n",
              "  'd.pop(\"name\")',\n",
              "  'd.pop(\"name\")#key removed and value returned',\n",
              "  '#dicitonaries\\nd={\\n    \\'name\\':\"rayon\",\\n    \"rollno\":7\\n   }',\n",
              "  'd.pop(\"name\")#key removed and value returned',\n",
              "  'd.update({\"age\":21})\\nd',\n",
              "  'd.setdefault(\"rollno\",10)',\n",
              "  'd',\n",
              "  'divmod[\"age\"]=d.get(\"age\",0)+1',\n",
              "  'd[\"age\"]=d.get(\"age\",0)+1',\n",
              "  'd',\n",
              "  '#dict comprehension\\nd={x:x*x for x in range(10)}',\n",
              "  'd',\n",
              "  '# functions by default return None',\n",
              "  'globals()'],\n",
              " '_oh': {3: 'hello world',\n",
              "  5: (33, 3.33),\n",
              "  11: float,\n",
              "  12: (1.4142135623730951, 3.141592653589793, 0.0015926529164868282),\n",
              "  25: '\\nimport math as m\\nfrom math import sqrt as sq,pi as p\\nfrom math import *\\n',\n",
              "  27: ['False',\n",
              "   'None',\n",
              "   'True',\n",
              "   'and',\n",
              "   'as',\n",
              "   'assert',\n",
              "   'async',\n",
              "   'await',\n",
              "   'break',\n",
              "   'class',\n",
              "   'continue',\n",
              "   'def',\n",
              "   'del',\n",
              "   'elif',\n",
              "   'else',\n",
              "   'except',\n",
              "   'finally',\n",
              "   'for',\n",
              "   'from',\n",
              "   'global',\n",
              "   'if',\n",
              "   'import',\n",
              "   'in',\n",
              "   'is',\n",
              "   'lambda',\n",
              "   'nonlocal',\n",
              "   'not',\n",
              "   'or',\n",
              "   'pass',\n",
              "   'raise',\n",
              "   'return',\n",
              "   'try',\n",
              "   'while',\n",
              "   'with',\n",
              "   'yield'],\n",
              "  30: (10, 21, 48879, 511),\n",
              "  31: (10, 21, 48879, 511),\n",
              "  32: ('0b1010', '0xa', '0o12', str),\n",
              "  33: ('0b1010', '0xa', '0o12', str),\n",
              "  36: ('0b1010', '0xa', '0o12', '0b1011111011101111', str),\n",
              "  37: 1200.0,\n",
              "  38: (3.0, 4.0, (3+4j)),\n",
              "  39: (1, 1, 0),\n",
              "  40: (1, 1, 0),\n",
              "  41: (1, 1, 0, 2),\n",
              "  42: '\\nhi there\\ni hope you are doing good\\n',\n",
              "  45: ('0', '1', '9', '8'),\n",
              "  49: ('12', '0123', '234456789', '678', '6789'),\n",
              "  50: ('12', '0123', '234456789', '678', ''),\n",
              "  51: ('12', '0123', '234456789', '678', ''),\n",
              "  52: ('12', '0123', '234456789', '678', '6789'),\n",
              "  53: ('12', '0123', '234456789', '678', '6789'),\n",
              "  54: ('024579', '02', '567'),\n",
              "  55: ('0', '1', '9', '8'),\n",
              "  56: ('12', '0123', '23456789', '678', '6789'),\n",
              "  57: ('02468', '02', '567'),\n",
              "  58: ('02468', '02', '57'),\n",
              "  59: ('02468', '02', '57'),\n",
              "  60: ('765432', '9876543210'),\n",
              "  61: ('765432', '9876543210', '9876543210'),\n",
              "  62: ('765432', '9876543210', '9876543210'),\n",
              "  63: '012345678901234567890123456789',\n",
              "  64: '01234567890123456789',\n",
              "  65: 10,\n",
              "  66: (4, 4.0, '4.4'),\n",
              "  67: (4, 4.0, '4.4', True, (4.4+3j)),\n",
              "  68: (10, 20),\n",
              "  69: (10, 20),\n",
              "  70: (10, 20),\n",
              "  71: False,\n",
              "  72: False,\n",
              "  73: b'\\x01\\x02\\x03\\x04\\x05',\n",
              "  74: 1,\n",
              "  75: (b'\\x01\\x02\\x03\\x04\\x05', 1),\n",
              "  77: (b'\\x01\\x02\\x03\\x04\\x05\\x04', 1),\n",
              "  78: (b'\\x01\\x02\\x03\\x04\\x05\\x04', 1),\n",
              "  79: (b'\\x01\\x02\\x03\\x04\\x05\\x04', 1),\n",
              "  80: (b'\\x01\\x02\\x03\\x04\\x05\\x04', 1),\n",
              "  93: 0,\n",
              "  94: 2,\n",
              "  95: range(0, 6, 2),\n",
              "  97: {1, 2, 4},\n",
              "  98: {1, 2, 4},\n",
              "  101: {1, 2, 3, 4},\n",
              "  102: {1, 2, 3, 4},\n",
              "  103: {1, 2, 3, 4},\n",
              "  104: {1, 2, 3, 4},\n",
              "  105: {1, 2, 3, 4},\n",
              "  106: {'name': 'rayon', 3: 4},\n",
              "  107: 'rayon',\n",
              "  109: 0,\n",
              "  110: (1, 0.20000000000000018),\n",
              "  111: (1, 0.10000000000000009),\n",
              "  112: (1, 0.10000000000000009),\n",
              "  113: (1, 0.10000000000000009),\n",
              "  114: 'hithere',\n",
              "  116: False,\n",
              "  117: False,\n",
              "  118: False,\n",
              "  120: True,\n",
              "  122: False,\n",
              "  123: False,\n",
              "  124: False,\n",
              "  125: False,\n",
              "  126: True,\n",
              "  128: False,\n",
              "  129: False,\n",
              "  130: 20,\n",
              "  131: 10,\n",
              "  132: False,\n",
              "  133: False,\n",
              "  134: False,\n",
              "  135: True,\n",
              "  136: True,\n",
              "  137: True,\n",
              "  139: -2,\n",
              "  140: 4,\n",
              "  141: (4, 5, 1, -5),\n",
              "  142: (4, 5, 1, -5),\n",
              "  143: 16,\n",
              "  144: 1,\n",
              "  145: -16,\n",
              "  146: -1,\n",
              "  147: 10,\n",
              "  148: 71,\n",
              "  149: 555,\n",
              "  150: True,\n",
              "  151: False,\n",
              "  153: True,\n",
              "  154: 0,\n",
              "  155: 3,\n",
              "  156: True,\n",
              "  157: True,\n",
              "  158: ([1, 2, 3, 4], [1, 2, 3, 4]),\n",
              "  159: True,\n",
              "  160: ([1, 2, 3, 4, 4, 4], [1, 2, 3, 4, 4, 4]),\n",
              "  161: ([1, 2, 3, 4, 4, 4], [1, 2, 3, 4, 4, 4], [1, 2, 3, 4, 4]),\n",
              "  163: [1, 2, 3, 4, 4, 4],\n",
              "  164: ([1, 2, 3, 4, 4, 4], [1, 2, 3, 4, 4, 4], [1, 2, 3, 4, 4, 4, 4]),\n",
              "  165: True,\n",
              "  166: ([1, 2, 3, 4, 4], [1, 2, 3, 4, 4]),\n",
              "  167: ([1, 2, 3, 4, 4], [1, 2, 3, 4, 4], [1, 2, 3, 4, 4]),\n",
              "  168: [1, 2, 3, 4, 4],\n",
              "  169: False,\n",
              "  170: (False, True),\n",
              "  171: 7,\n",
              "  173: (4, 4),\n",
              "  174: (4, 44),\n",
              "  177: 31,\n",
              "  179: (1, 2, 3),\n",
              "  180: (1, 2, 1),\n",
              "  182: 'there are 20 and there is [1, 2, 3]',\n",
              "  183: \"there is / and \\\\ and % and ' and \",\n",
              "  197: <reversed at 0x7f595048fee0>,\n",
              "  199: '9876543210',\n",
              "  201: 97,\n",
              "  202: (97, 'a'),\n",
              "  203: '   hi   ',\n",
              "  204: '   hi   ',\n",
              "  205: 'hi',\n",
              "  206: 1,\n",
              "  207: 0,\n",
              "  208: 0,\n",
              "  209: '7123456789',\n",
              "  212: ['0123456789'],\n",
              "  214: ['0', '1', '2', '3', '4', '5', '6', '7', '8', '9'],\n",
              "  215: '0<1<2<3<4<5<6<7<8<9',\n",
              "  219: True,\n",
              "  220: True,\n",
              "  221: [0, 1, 4, 9, 16, 25, 36, 49, 64, 81],\n",
              "  222: [1, 2, 3, 4],\n",
              "  223: [2, 3, 4, 7],\n",
              "  224: [7, 4, 3, 2],\n",
              "  225: [7, 4, 3, 2],\n",
              "  226: 1,\n",
              "  229: ({3},\n",
              "   {3},\n",
              "   {1, 2, 3, 4, 5},\n",
              "   {1, 2, 3, 4, 5},\n",
              "   {1, 2, 4, 5},\n",
              "   {1, 2, 4, 5},\n",
              "   {1, 2}),\n",
              "  230: ({3},\n",
              "   {3},\n",
              "   {1, 2, 3, 4, 5},\n",
              "   {1, 2, 3, 4, 5},\n",
              "   {1, 2, 4, 5},\n",
              "   {1, 2, 4, 5},\n",
              "   {1, 2},\n",
              "   {1, 2}),\n",
              "  231: {0, 1, 4, 9, 16},\n",
              "  236: 'rayon',\n",
              "  239: dict_keys([]),\n",
              "  240: dict_keys([]),\n",
              "  242: dict_keys(['rollno']),\n",
              "  243: dict_values([7]),\n",
              "  244: dict_items([('rollno', 7)]),\n",
              "  245: 'rayon',\n",
              "  248: 'rayon',\n",
              "  249: {'rollno': 7, 'age': 22},\n",
              "  250: 7,\n",
              "  251: {'rollno': 7, 'age': 22},\n",
              "  254: {'rollno': 7, 'age': 22},\n",
              "  256: {0: 0, 1: 1, 2: 4, 3: 9, 4: 16, 5: 25, 6: 36, 7: 49, 8: 64, 9: 81}},\n",
              " '_dh': ['/home/rayon'],\n",
              " 'In': ['',\n",
              "  '#taking string input from console\\nstring=input(\"enter a string: \")',\n",
              "  '#taking string input from console\\nstring=input(\"enter a string: \")\\n\\nsting',\n",
              "  '#taking string input from console\\nstring=input(\"enter a string: \")\\n\\nstring',\n",
              "  '#taking floats and ints as input\\ninteger=int(input(\"enter an integer\"))',\n",
              "  '#taking floats and ints as input\\ninteger=int(input(\"enter an integer: \"))\\nfloating_point=float(input(\"enter a floating point value: \"))\\ninteger,floating_point',\n",
              "  '#for loop\\nfor i in range(10):\\n    print(i)',\n",
              "  '#printing values to console\\nprint(\"hello world\")',\n",
              "  '#varialbes/identifier\\n\\nfirst_floating_point=3.33\\nsecond_floating_point=4.4\\nprint(first_floating_point+second_floating_point)\\nprint(first_floating_point-second_floating_point)\\nprint(first_floating_point*second_floating_point)\\nprint(first_floating_point/second_floating_point)',\n",
              "  '#tuple unpacking\\nn1,n2,n3=1,2,3\\nprint(n1+n+n3)',\n",
              "  '#tuple unpacking\\nn1,n2,n3=1,2,3\\nprint(n1+n2+n3)',\n",
              "  '#to check types\\ntype(first_floating_point)',\n",
              "  '#importing packages/modules\\nimport math \\nmath.sqrt(2),math.pi,math.sin(3.14)',\n",
              "  'import random\\nprintI(random.randint(0,1),random.randint(3))',\n",
              "  'import random\\nprint(random.randint(0,1),random.randint(3))',\n",
              "  'import random\\nprint(random.randint(0,1))',\n",
              "  'import random\\nprint(random.randint(0,1))',\n",
              "  'import random\\nprint(random.randint(0,1))',\n",
              "  'import random\\nprint(random.randint(0,1))',\n",
              "  'import random\\nprint(random.randint(0,1))',\n",
              "  'import random\\nprint(random.randint(0,1))\\n#randint is inclusive of both bounds\\nprint(random.rand())',\n",
              "  'import random\\nprint(random.randint(0,1))\\n#randint is inclusive of both bounds\\nprint(random.random())',\n",
              "  'import random\\nprint(random.randint(0,1))\\n#randint is inclusive of both bounds\\nprint(random.random())',\n",
              "  \"#separator in print\\nprint(random.randint(0,9),random.randint(0,9),random.randint(0,9),random.randint(0,9),sep='')\",\n",
              "  \"#separator in print,by default the separator is space\\nprint(random.randint(0,9),random.randint(0,9),random.randint(0,9),random.randint(0,9),sep='')\",\n",
              "  '#other ways to import\\n\"\"\"\\nimport math as m\\nfrom math import sqrt as sq,pi as p\\nfrom math import *\\n\"\"\"',\n",
              "  '#the limitation of python is that it is slow,about 50 times when compared to c on average on basic operations done in a tradional way.',\n",
              "  '#python keywords\\nimport keyword\\nkeyword.kwlist',\n",
              "  '#primitive types are immutable\\ninteger=3\\nfloating_point=4.4\\ncomplex_number=3+4j\\nboolean=True\\nstring=\"hi there\"',\n",
              "  '#basic inbuild functions\\nprint(integer,floating_point,complex_number,boolean,string)\\nprint(id(integer),id(floating_point))\\nprint(type(complex_number),type(string))',\n",
              "  '#integers\\nx=10\\ny=0B010101\\nz=0Xbeef\\nq=0o777\\nx,y,z,q',\n",
              "  '#integers\\nx=10\\ny=0B010101\\nz=0Xbeef\\nq=0o777\\nx,y,z,q#this is a tuple which jupyter prints',\n",
              "  '#to binary etc\\nbin(x),hex(x),oct(x),type(bin(x))',\n",
              "  '#to binary etc\\nbin(x),hex(x),oct(x),type(bin(x))#they return str',\n",
              "  '#to binary etc\\nbin(x),hex(x),oct(x),bin(0xbeef))type(bin(x))#they return str',\n",
              "  '#to binary etc\\nbin(x),hex(x),oct(x),bin(0xbeef)type(bin(x))#they return str',\n",
              "  '#to binary etc\\nbin(x),hex(x),oct(x),bin(0xbeef),type(bin(x))#they return str',\n",
              "  '#floats can only be in decimal form\\nfloating_point=1.2e3\\nfloating_point',\n",
              "  'complex_number.real,complex_number.imag,complex_number',\n",
              "  '#bool\\nboolean1=True\\nboolean2=False\\nboolean1+boolean2,boolean1-boolean2,boolean1*boolean2',\n",
              "  '#bool\\nboolean1=True\\nboolean2=False\\nboolean1+boolean2,boolean1-boolean2,boolean1*boolean2\\n#True treated as 1 and False treated as 0',\n",
              "  '#bool\\nboolean1=True\\nboolean2=False\\nboolean1+boolean2,boolean1-boolean2,boolean1*boolean2,True+True\\n#True treated as 1 and False treated as 0',\n",
              "  \"#multiline string\\nstring='''\\nhi there\\ni hope you are doing good\\n'''\\nstring\",\n",
              "  \"#multiline string\\nstring='''\\nhi there\\ni hope you are doing good\\n'''\\nprint(string)\",\n",
              "  '#True/False is a ZeroDivisionError ',\n",
              "  '#slicing in strings\\nstring=\"01234456789\"\\nstring[0],string[1],string[-1],string[-2]',\n",
              "  'string[1:3],string[:4],string[2:],string[-4,-1],string[-4,0]',\n",
              "  'string[1:3],string[:4],string[2:],string[-4,-1],string[-4,-0]',\n",
              "  'string[1:3],string[:4],string[2:],string[-4,-1],string[-4:]',\n",
              "  'string[1:3],string[:4],string[2:],string[-4:-1],string[-4:]',\n",
              "  'string[1:3],string[:4],string[2:],string[-4:-1],string[-4:0]',\n",
              "  'string[1:3],string[:4],string[2:],string[-4:-1],string[-4:-0]',\n",
              "  'string[1:3],string[:4],string[2:],string[-4:-1],string[-4:]',\n",
              "  'string[1:3],string[:4],string[2:],string[-4:-1],string[-4:]',\n",
              "  'string[::2],string[0:3:2],string[-5:-2:1]',\n",
              "  '#slicing in strings\\nstring=\"0123456789\"\\nstring[0],string[1],string[-1],string[-2]',\n",
              "  'string[1:3],string[:4],string[2:],string[-4:-1],string[-4:]',\n",
              "  'string[::2],string[0:3:2],string[-5:-2:1]',\n",
              "  'string[::2],string[0:3:2],string[-5:-2:2]',\n",
              "  'string[::2],string[0:3:2],string[-5:-2:2]',\n",
              "  'string[7:1:-1],string[-1::-1]',\n",
              "  'string[7:1:-1],string[-1::-1],string[::-1]',\n",
              "  'string[7:1:-1],string[-1::-1],string[::-1]',\n",
              "  'string*3',\n",
              "  'string+string',\n",
              "  'len(string)',\n",
              "  '#typecasting\\nfloating_point=4.4\\nstring=\"4\"\\nint(string),float(string),str(floating_point)',\n",
              "  '#typecasting\\nfloating_point=4.4\\nstring=\"4\"\\nint(string),float(string),str(floating_point),bool(floating_point),complex(floating_point,3)',\n",
              "  'x=10\\ny=x\\ny+=10\\nx,y',\n",
              "  'x=10\\ny=x\\ny+=10\\nx,y #though primitive types are also objects but they are not copied by reference',\n",
              "  'x=10\\ny=x\\ny+=10\\nx,y #though primitive types are also objects but they are not copied by reference',\n",
              "  'x is y',\n",
              "  'x is y',\n",
              "  '#bytes\\nbyte=[1,2,3,4,5]\\nb=bytes(byte)\\nb',\n",
              "  '#bytes\\nbyte=[1,2,3,4,5]\\nb=bytes(byte)\\nb[0]',\n",
              "  '#bytes\\nbyte=[1,2,3,4,5]\\nb=bytes(byte)\\nb,b[0]',\n",
              "  '#bytes\\nbyte=[1,2,3,4,5,888]\\nb=bytes(byte)\\nb,b[0]',\n",
              "  '#bytes\\nbyte=[1,2,3,4,5,4]\\nb=bytes(byte)\\nb,b[0]',\n",
              "  '#bytes\\nbyte=[1,2,3,4,5,4]\\nb=bytes(byte)\\nb,b[0]',\n",
              "  '#bytes\\nbyte=[1,2,3,4,5,4]\\nb=bytes(byte)\\nb,b[0]#values has to be between 0-256 and it is used for binary data like images and videos',\n",
              "  '#bytes\\nbyte=[1,2,3,4,5,4]\\nb=bytes(byte)\\nb,b[0]#values has to be between 0-256 and it is used for binary data like images and videos\\n#bytearray is mutable type of same',\n",
              "  '#list\\nl=[1,2,3]\\nprint(l)\\nl.append(3)\\nprint(l)\\nl.pop()\\nprint(l)\\nl.insert(0,55)\\nprint(l)\\nl.pop(2)\\nprint(l)\\nl.remove(3)\\nprint(l)\\nprint(len(l))',\n",
              "  '#list\\nl=[1,2,3]\\nprint(l)\\nl.append(3)\\nprint(l)\\nl.pop()\\nprint(l)\\nl.insert(0,55)\\nprint(l)\\nl.pop(2)\\nprint(l)\\nl.remove(3)\\nprint(l)\\nprint(len(l))\\nl2=[7,7]\\nl.extend(l2)\\nprint(l)',\n",
              "  '#list\\nl=[1,2,3]\\nprint(l)\\nl.append(3)\\nprint(l)\\nl.pop()\\nprint(l)\\nl.insert(0,55)\\nprint(l)\\nl.pop(2)\\nprint(l)\\nl.remove(3)\\nprint(l)\\nprint(len(l))\\nl2=[7,7]\\nl.extend(l2)\\nprint(l)\\nprint(l.sort())',\n",
              "  '#list\\nl=[1,2,3]\\nprint(l)\\nl.append(3)\\nprint(l)\\nl.pop()\\nprint(l)\\nl.insert(0,55)\\nprint(l)\\nl.pop(2)\\nprint(l)\\nl.remove(3)\\nprint(l)\\nprint(len(l))\\nl2=[7,7]\\nl.extend(l2)\\nprint(l)\\nl.sort()\\nprint(l)',\n",
              "  '#list\\nl=[1,2,3]\\nprint(l)\\nl.append(3)\\nprint(l)\\nl.pop()\\nprint(l)\\nl.insert(0,55)\\nprint(l)\\nl.pop(2)\\nprint(l)\\nl.remove(3)\\nprint(l)\\nprint(len(l))\\nl2=[7,7]\\nl.extend(l2)\\nprint(l)\\nl.sort(reverse=True)\\nprint(l)',\n",
              "  '#list\\nl=[1,2,3]\\nprint(l)\\nl.append(3)\\nprint(l)\\nl.pop()\\nprint(l)\\nl.insert(0,55)\\nprint(l)\\nl.pop(2)\\nprint(l)\\nl.remove(3)\\nprint(l)\\nprint(len(l))\\nl2=[7,7]\\nl.extend(l2)\\nprint(l)\\nl.sort(reverse=True)\\nprint(l)\\nprint(max(l))',\n",
              "  '#list\\nl=[1,2,3]\\nprint(l)\\nl.append(3)\\nprint(l)\\nl.pop()\\nprint(l)\\nl.insert(0,55)\\nprint(l)\\nl.pop(2)\\nprint(l)\\nl.remove(3)\\nprint(l)\\nprint(len(l))\\nl2=[7,7]\\nl.extend(l2)\\nprint(l)\\nl.sort(reverse=True)\\nprint(l)\\nprint(max(l),min(l))',\n",
              "  '#list\\nl=[1,2,3]\\nprint(l)\\nl.append(3)\\nprint(l)\\nl.pop()\\nprint(l)\\nl.insert(0,55)\\nprint(l)\\nl.pop(2)\\nprint(l)\\nl.remove(3)\\nprint(l)\\nprint(len(l))\\nl2=[7,7]\\nl.extend(l2)\\nprint(l)\\nl.sort(reverse=True)\\nprint(l)\\nprint(max(l),min(l))\\nl.clear()\\nprint(l)',\n",
              "  '#list\\nl=[1,2,3]\\nprint(l)\\nl.append(3)\\nprint(l)\\nl.pop()\\nprint(l)\\nl.insert(0,55)\\nprint(l)\\nl.pop(2)\\nprint(l)\\nl.remove(3)\\nprint(l)\\nprint(len(l))\\nl2=[7,7]\\nl.extend(l2)\\nprint(l)\\nl.sort(reverse=True)\\nprint(l)\\nprint(max(l),min(l))\\nprint(l.index(55),l.count(7))\\nl.clear()\\nprint(l)',\n",
              "  '#indexing and slicing same as that in strings',\n",
              "  '#tuple is immutale verison of it',\n",
              "  '#range\\nr=range(0,10,2)\\nprint(r)',\n",
              "  'r[0]',\n",
              "  'r[1]',\n",
              "  'r[0:3]',\n",
              "  '#set\\ns={1,2,3}',\n",
              "  '#set\\ns={1,2,3}\\ns',\n",
              "  's.add(4)\\ns',\n",
              "  's.remove(3)',\n",
              "  's.remove(3)\\ns',\n",
              "  '#set\\ns={1,2,3}\\ns',\n",
              "  's.add(4)\\ns',\n",
              "  's.remove(3)\\ns',\n",
              "  's.clear()\\ns',\n",
              "  's.update([1,2,3,3,4])\\ns',\n",
              "  '#dictionary\\nd={}\\nd[\"name\"]=\"rayon\"\\nd[3]=4\\nd',\n",
              "  \"d.get('name')\",\n",
              "  \"d.get('saloon')\",\n",
              "  \"d.get('saloon',0)\",\n",
              "  '# arithmatic operations,the edge cases\\n\\n3%2,2.2%2',\n",
              "  '# arithmatic operations,the edge cases\\n\\n3%2,2.2%2.1',\n",
              "  '# arithmatic operations,the edge cases\\n\\n3%2,2.2%2.1\\n# hence mod also works for floats',\n",
              "  '# arithmatic operations,the edge cases\\n\\n3%2,2.2%2.1\\n# hence mod also works for floats',\n",
              "  '# string concatenation\\n\"hit\"+\"here\"',\n",
              "  '#uncode based comaparsion for strings in ><',\n",
              "  '10==True\\n#because True is 1 only ',\n",
              "  '10<20>30',\n",
              "  '10==20==30',\n",
              "  '10=10.0',\n",
              "  '10==10.0',\n",
              "  '10=10.00001',\n",
              "  '10==10.00001',\n",
              "  '10==10.00000001',\n",
              "  '10==10.00000000001',\n",
              "  '10==10.00000000000001',\n",
              "  '10==10.00000000000000001',\n",
              "  '10=10.0000001',\n",
              "  '10==10.0000001',\n",
              "  '10==10.0000001\\n#hence always be careful and do type conversion first',\n",
              "  '10 and 20',\n",
              "  '10 or 20',\n",
              "  'not 20',\n",
              "  'True and False',\n",
              "  '#bitwise operators for booleans and integers where booleans are treated as integers\\nTrue & False',\n",
              "  'True | False',\n",
              "  'True | False',\n",
              "  'True ^ False',\n",
              "  '~Tru',\n",
              "  '~True',\n",
              "  '4&5',\n",
              "  '4&5,4|5,4^5,~4',\n",
              "  '4&5,4|5,4^5,~4#^ is xor',\n",
              "  '4<<2',\n",
              "  '4>>2',\n",
              "  '-4<<2',\n",
              "  '-4>>2',\n",
              "  '#ternary operator\\nx,y,z=5,10,7\\nmax=x if x>y and x>z else y if y>x and y>z else z\\nmax',\n",
              "  '#ternary operator\\nx,y,z=5,10,71\\nmax=x if x>y and x>z else y if y>x and y>z else z\\nmax',\n",
              "  '#ternary operator\\nx,y,z=555,10,71\\nmax=x if x>y and x>z else y if y>x and y>z else z\\nmax',\n",
              "  '#membership operator\\nl=1,2,3\\n2 in l',\n",
              "  '4 in l',\n",
              "  's=\"hi there\"',\n",
              "  '\"hi\" in s',\n",
              "  's.index(\"hi\")',\n",
              "  's.index(\"there\")',\n",
              "  '\"kive\" not in s',\n",
              "  '#lists are copied by reference\\nl=[1,2,3]\\nl2=l\\nl is l2',\n",
              "  'l2.append(4)\\nl,l2',\n",
              "  '#lists are copied by reference\\nl=[1,2,3]\\nl2=l\\nl is l2',\n",
              "  'l2.append(4)\\nl,l2',\n",
              "  '# to copy though shallowly\\nl3=l.copy()\\nl3.append(4)\\nl,l2,l3',\n",
              "  'l.append(4)',\n",
              "  'l.append(4)\\nl',\n",
              "  '# to copy though shallowly\\nl3=l.copy()\\nl3.append(4)\\nl,l2,l3',\n",
              "  '#lists are copied by reference\\nl=[1,2,3]\\nl2=l\\nl is l2',\n",
              "  'l2.append(4)\\nl,l2',\n",
              "  '# to copy though shallowly\\nl3=l.copy()\\nl3.append(4)\\nl,l2,l3',\n",
              "  'l.append(4)\\nl',\n",
              "  'l is l3',\n",
              "  'l is l3,l==l3',\n",
              "  'import math\\nmath.gcd(7,21)',\n",
              "  '#reading multiple inputs\\nx,y=[int(x) for x in input().split()]',\n",
              "  '#reading multiple inputs\\nx,y=[int(x) for x in input().split()]\\nx,4',\n",
              "  '#reading multiple inputs\\nx,y=[int(x) for x in input().split()]\\nx,y',\n",
              "  '#eval \\nx=eval(input())\\nx',\n",
              "  '#eval \\nx=eval(input())\\nx',\n",
              "  '#eval \\nx=eval(input())\\nx',\n",
              "  '#eval \\nx=eval(input())\\nx',\n",
              "  '#eval \\nx=eval(input())\\nx',\n",
              "  '#eval \\nx=eval(input())\\nx',\n",
              "  '#formatted string\\nx=20\\ny=[1,2,3]\\nstring=f\"there are {x} and there is {y}\"',\n",
              "  '#formatted string\\nx=20\\ny=[1,2,3]\\nstring=f\"there are {x} and there is {y}\"\\nstring',\n",
              "  '#raw string\\nstring=r\"there is / and \\\\ and % and \\' and \"\\nstring',\n",
              "  'for i in range(10,,-1):\\n    print(i)',\n",
              "  'for i in range(10,0,-1):\\n    print(i)',\n",
              "  'for i in range(10,-1,-1):\\n    print(i)',\n",
              "  'for i in range(10,-7,-1):\\n    print(i)',\n",
              "  'del statement\\nx=20\\ndel x\\nx',\n",
              "  '# del statement\\nx=20\\ndel x\\nx',\n",
              "  '# del statement\\nx=20\\ndel(x)\\nx',\n",
              "  '# del statement\\nx=20\\ny=10\\ndel(x),del y\\nx',\n",
              "  '# del statement\\nx=20\\ny=10\\ndel(x)\\ndel y\\nx',\n",
              "  '# del statement\\nx=20\\ny=10\\ndel(x)\\ndel y\\nx,y',\n",
              "  '# del statement\\nx=20\\ny=10\\ndel(x)\\ndel y\\nx,y\\n# you can assign things none when not needed',\n",
              "  '#strings\\nstring=\"0123456789\"\\nstring.reverse()',\n",
              "  '#strings\\nstring=\"0123456789\"\\nstring.reversed()',\n",
              "  '#strings\\nstring=\"0123456789\"\\nreversed(string)',\n",
              "  '#strings\\nstring=\"0123456789\"\\nreverse(string)',\n",
              "  '#strings\\nstring=\"0123456789\"\\nstring[::-1]',\n",
              "  'chr(\"a\")',\n",
              "  'ord(\"a\")',\n",
              "  'ord(\"a\"),chr(97)',\n",
              "  's=\"   hi   \"\\ns',\n",
              "  's=\"   hi   \"\\ns',\n",
              "  's.strip()',\n",
              "  \"string.count('0')\",\n",
              "  \"string.count('0',1,7)\",\n",
              "  \"string.count('0',1,7)\",\n",
              "  \"string.replace('0','7')\",\n",
              "  \"l=string.split('')\",\n",
              "  \"l=string.split(' ')\",\n",
              "  \"l=string.split(' ')\\nl\",\n",
              "  'l=list(string)',\n",
              "  'l=list(string)\\nl',\n",
              "  \"'<'.join(l)\",\n",
              "  \"#s.split(' ,3),s.rsplit(' ',3)\",\n",
              "  'string=\"hi THERE\"\\nprint(string.upper(),string.lower(),string.capitalize())',\n",
              "  'string=\"hi THERE\"\\nprint(string.upper(),string.lower(),string.capitalize())\\nprint(string.islower())',\n",
              "  'string=\"hi THERE\"\\nprint(string.upper(),string.lower(),string.capitalize())\\nprint(string.islower())\\nstring.startswith(\"hi\")',\n",
              "  'string=\"hi THERE\"\\nprint(string.upper(),string.lower(),string.capitalize())\\nprint(string.islower())\\nstring.startswith(\"hi\")#.endswith',\n",
              "  '#list comprehension\\nl=[x*x for x in range(10)]\\nl',\n",
              "  't=1,2,3,4\\nsorted(t)',\n",
              "  't=7,2,3,4\\nsorted(t)',\n",
              "  't=7,2,3,4\\nsorted(t,reverse=True)',\n",
              "  't=7,2,3,4\\nsorted(t,reverse=True)',\n",
              "  '#sets\\ns={1,2,3}\\ns.pop()',\n",
              "  's.discard(7)',\n",
              "  '# s.discard(7) if avaialble remove',\n",
              "  's1={1,2,3}\\ns2={4,3,5}\\ns1.intersection(s2),s1&s2,s1.union(s2),s1|s2,s1.symmetric_difference(s2),s1^s2,s1-s2',\n",
              "  's1={1,2,3}\\ns2={4,3,5}\\ns1.intersection(s2),s1&s2,s1.union(s2),s1|s2,s1.symmetric_difference(s2),s1^s2,s1-s2,s1.difference(s2)',\n",
              "  '#set compreshension\\ns={x*x for x in range(-1,5)}\\ns',\n",
              "  '#dicitonaries\\nd={\\n    \\'name\\':\"rayon\",\\n    \"rollno\"=7\\n   }',\n",
              "  '#dicitonaries\\nd={\\n    \\'name\\':\"rayon\",\\n    \"rollno\":7\\n   }',\n",
              "  'd.name',\n",
              "  \"d['naem']\",\n",
              "  \"d['name']\",\n",
              "  'del d[\"rollno\"]',\n",
              "  'd.clear()',\n",
              "  'd.keys()',\n",
              "  'd.keys()',\n",
              "  '#dicitonaries\\nd={\\n    \\'name\\':\"rayon\",\\n    \"rollno\":7\\n   }',\n",
              "  'd.keys()',\n",
              "  'd.values()',\n",
              "  'd.items()',\n",
              "  'd.pop(\"name\")',\n",
              "  'd.pop(\"name\")#key removed and value returned',\n",
              "  '#dicitonaries\\nd={\\n    \\'name\\':\"rayon\",\\n    \"rollno\":7\\n   }',\n",
              "  'd.pop(\"name\")#key removed and value returned',\n",
              "  'd.update({\"age\":21})\\nd',\n",
              "  'd.setdefault(\"rollno\",10)',\n",
              "  'd',\n",
              "  'divmod[\"age\"]=d.get(\"age\",0)+1',\n",
              "  'd[\"age\"]=d.get(\"age\",0)+1',\n",
              "  'd',\n",
              "  '#dict comprehension\\nd={x:x*x for x in range(10)}',\n",
              "  'd',\n",
              "  '# functions by default return None',\n",
              "  'globals()'],\n",
              " 'Out': {3: 'hello world',\n",
              "  5: (33, 3.33),\n",
              "  11: float,\n",
              "  12: (1.4142135623730951, 3.141592653589793, 0.0015926529164868282),\n",
              "  25: '\\nimport math as m\\nfrom math import sqrt as sq,pi as p\\nfrom math import *\\n',\n",
              "  27: ['False',\n",
              "   'None',\n",
              "   'True',\n",
              "   'and',\n",
              "   'as',\n",
              "   'assert',\n",
              "   'async',\n",
              "   'await',\n",
              "   'break',\n",
              "   'class',\n",
              "   'continue',\n",
              "   'def',\n",
              "   'del',\n",
              "   'elif',\n",
              "   'else',\n",
              "   'except',\n",
              "   'finally',\n",
              "   'for',\n",
              "   'from',\n",
              "   'global',\n",
              "   'if',\n",
              "   'import',\n",
              "   'in',\n",
              "   'is',\n",
              "   'lambda',\n",
              "   'nonlocal',\n",
              "   'not',\n",
              "   'or',\n",
              "   'pass',\n",
              "   'raise',\n",
              "   'return',\n",
              "   'try',\n",
              "   'while',\n",
              "   'with',\n",
              "   'yield'],\n",
              "  30: (10, 21, 48879, 511),\n",
              "  31: (10, 21, 48879, 511),\n",
              "  32: ('0b1010', '0xa', '0o12', str),\n",
              "  33: ('0b1010', '0xa', '0o12', str),\n",
              "  36: ('0b1010', '0xa', '0o12', '0b1011111011101111', str),\n",
              "  37: 1200.0,\n",
              "  38: (3.0, 4.0, (3+4j)),\n",
              "  39: (1, 1, 0),\n",
              "  40: (1, 1, 0),\n",
              "  41: (1, 1, 0, 2),\n",
              "  42: '\\nhi there\\ni hope you are doing good\\n',\n",
              "  45: ('0', '1', '9', '8'),\n",
              "  49: ('12', '0123', '234456789', '678', '6789'),\n",
              "  50: ('12', '0123', '234456789', '678', ''),\n",
              "  51: ('12', '0123', '234456789', '678', ''),\n",
              "  52: ('12', '0123', '234456789', '678', '6789'),\n",
              "  53: ('12', '0123', '234456789', '678', '6789'),\n",
              "  54: ('024579', '02', '567'),\n",
              "  55: ('0', '1', '9', '8'),\n",
              "  56: ('12', '0123', '23456789', '678', '6789'),\n",
              "  57: ('02468', '02', '567'),\n",
              "  58: ('02468', '02', '57'),\n",
              "  59: ('02468', '02', '57'),\n",
              "  60: ('765432', '9876543210'),\n",
              "  61: ('765432', '9876543210', '9876543210'),\n",
              "  62: ('765432', '9876543210', '9876543210'),\n",
              "  63: '012345678901234567890123456789',\n",
              "  64: '01234567890123456789',\n",
              "  65: 10,\n",
              "  66: (4, 4.0, '4.4'),\n",
              "  67: (4, 4.0, '4.4', True, (4.4+3j)),\n",
              "  68: (10, 20),\n",
              "  69: (10, 20),\n",
              "  70: (10, 20),\n",
              "  71: False,\n",
              "  72: False,\n",
              "  73: b'\\x01\\x02\\x03\\x04\\x05',\n",
              "  74: 1,\n",
              "  75: (b'\\x01\\x02\\x03\\x04\\x05', 1),\n",
              "  77: (b'\\x01\\x02\\x03\\x04\\x05\\x04', 1),\n",
              "  78: (b'\\x01\\x02\\x03\\x04\\x05\\x04', 1),\n",
              "  79: (b'\\x01\\x02\\x03\\x04\\x05\\x04', 1),\n",
              "  80: (b'\\x01\\x02\\x03\\x04\\x05\\x04', 1),\n",
              "  93: 0,\n",
              "  94: 2,\n",
              "  95: range(0, 6, 2),\n",
              "  97: {1, 2, 4},\n",
              "  98: {1, 2, 4},\n",
              "  101: {1, 2, 3, 4},\n",
              "  102: {1, 2, 3, 4},\n",
              "  103: {1, 2, 3, 4},\n",
              "  104: {1, 2, 3, 4},\n",
              "  105: {1, 2, 3, 4},\n",
              "  106: {'name': 'rayon', 3: 4},\n",
              "  107: 'rayon',\n",
              "  109: 0,\n",
              "  110: (1, 0.20000000000000018),\n",
              "  111: (1, 0.10000000000000009),\n",
              "  112: (1, 0.10000000000000009),\n",
              "  113: (1, 0.10000000000000009),\n",
              "  114: 'hithere',\n",
              "  116: False,\n",
              "  117: False,\n",
              "  118: False,\n",
              "  120: True,\n",
              "  122: False,\n",
              "  123: False,\n",
              "  124: False,\n",
              "  125: False,\n",
              "  126: True,\n",
              "  128: False,\n",
              "  129: False,\n",
              "  130: 20,\n",
              "  131: 10,\n",
              "  132: False,\n",
              "  133: False,\n",
              "  134: False,\n",
              "  135: True,\n",
              "  136: True,\n",
              "  137: True,\n",
              "  139: -2,\n",
              "  140: 4,\n",
              "  141: (4, 5, 1, -5),\n",
              "  142: (4, 5, 1, -5),\n",
              "  143: 16,\n",
              "  144: 1,\n",
              "  145: -16,\n",
              "  146: -1,\n",
              "  147: 10,\n",
              "  148: 71,\n",
              "  149: 555,\n",
              "  150: True,\n",
              "  151: False,\n",
              "  153: True,\n",
              "  154: 0,\n",
              "  155: 3,\n",
              "  156: True,\n",
              "  157: True,\n",
              "  158: ([1, 2, 3, 4], [1, 2, 3, 4]),\n",
              "  159: True,\n",
              "  160: ([1, 2, 3, 4, 4, 4], [1, 2, 3, 4, 4, 4]),\n",
              "  161: ([1, 2, 3, 4, 4, 4], [1, 2, 3, 4, 4, 4], [1, 2, 3, 4, 4]),\n",
              "  163: [1, 2, 3, 4, 4, 4],\n",
              "  164: ([1, 2, 3, 4, 4, 4], [1, 2, 3, 4, 4, 4], [1, 2, 3, 4, 4, 4, 4]),\n",
              "  165: True,\n",
              "  166: ([1, 2, 3, 4, 4], [1, 2, 3, 4, 4]),\n",
              "  167: ([1, 2, 3, 4, 4], [1, 2, 3, 4, 4], [1, 2, 3, 4, 4]),\n",
              "  168: [1, 2, 3, 4, 4],\n",
              "  169: False,\n",
              "  170: (False, True),\n",
              "  171: 7,\n",
              "  173: (4, 4),\n",
              "  174: (4, 44),\n",
              "  177: 31,\n",
              "  179: (1, 2, 3),\n",
              "  180: (1, 2, 1),\n",
              "  182: 'there are 20 and there is [1, 2, 3]',\n",
              "  183: \"there is / and \\\\ and % and ' and \",\n",
              "  197: <reversed at 0x7f595048fee0>,\n",
              "  199: '9876543210',\n",
              "  201: 97,\n",
              "  202: (97, 'a'),\n",
              "  203: '   hi   ',\n",
              "  204: '   hi   ',\n",
              "  205: 'hi',\n",
              "  206: 1,\n",
              "  207: 0,\n",
              "  208: 0,\n",
              "  209: '7123456789',\n",
              "  212: ['0123456789'],\n",
              "  214: ['0', '1', '2', '3', '4', '5', '6', '7', '8', '9'],\n",
              "  215: '0<1<2<3<4<5<6<7<8<9',\n",
              "  219: True,\n",
              "  220: True,\n",
              "  221: [0, 1, 4, 9, 16, 25, 36, 49, 64, 81],\n",
              "  222: [1, 2, 3, 4],\n",
              "  223: [2, 3, 4, 7],\n",
              "  224: [7, 4, 3, 2],\n",
              "  225: [7, 4, 3, 2],\n",
              "  226: 1,\n",
              "  229: ({3},\n",
              "   {3},\n",
              "   {1, 2, 3, 4, 5},\n",
              "   {1, 2, 3, 4, 5},\n",
              "   {1, 2, 4, 5},\n",
              "   {1, 2, 4, 5},\n",
              "   {1, 2}),\n",
              "  230: ({3},\n",
              "   {3},\n",
              "   {1, 2, 3, 4, 5},\n",
              "   {1, 2, 3, 4, 5},\n",
              "   {1, 2, 4, 5},\n",
              "   {1, 2, 4, 5},\n",
              "   {1, 2},\n",
              "   {1, 2}),\n",
              "  231: {0, 1, 4, 9, 16},\n",
              "  236: 'rayon',\n",
              "  239: dict_keys([]),\n",
              "  240: dict_keys([]),\n",
              "  242: dict_keys(['rollno']),\n",
              "  243: dict_values([7]),\n",
              "  244: dict_items([('rollno', 7)]),\n",
              "  245: 'rayon',\n",
              "  248: 'rayon',\n",
              "  249: {'rollno': 7, 'age': 22},\n",
              "  250: 7,\n",
              "  251: {'rollno': 7, 'age': 22},\n",
              "  254: {'rollno': 7, 'age': 22},\n",
              "  256: {0: 0, 1: 1, 2: 4, 3: 9, 4: 16, 5: 25, 6: 36, 7: 49, 8: 64, 9: 81}},\n",
              " 'get_ipython': <bound method InteractiveShell.get_ipython of <ipykernel.zmqshell.ZMQInteractiveShell object at 0x7f59634e9850>>,\n",
              " 'exit': <IPython.core.autocall.ZMQExitAutocall at 0x7f5963522310>,\n",
              " 'quit': <IPython.core.autocall.ZMQExitAutocall at 0x7f5963522310>,\n",
              " '_': {0: 0, 1: 1, 2: 4, 3: 9, 4: 16, 5: 25, 6: 36, 7: 49, 8: 64, 9: 81},\n",
              " '__': {'rollno': 7, 'age': 22},\n",
              " '___': {'rollno': 7, 'age': 22},\n",
              " '_i': '# functions by default return None',\n",
              " '_ii': 'd',\n",
              " '_iii': '#dict comprehension\\nd={x:x*x for x in range(10)}',\n",
              " '_i1': '#taking string input from console\\nstring=input(\"enter a string: \")',\n",
              " 'string': 'hi THERE',\n",
              " '_i2': '#taking string input from console\\nstring=input(\"enter a string: \")\\n\\nsting',\n",
              " '_i3': '#taking string input from console\\nstring=input(\"enter a string: \")\\n\\nstring',\n",
              " '_3': 'hello world',\n",
              " '_i4': '#taking floats and ints as input\\ninteger=int(input(\"enter an integer\"))',\n",
              " '_i5': '#taking floats and ints as input\\ninteger=int(input(\"enter an integer: \"))\\nfloating_point=float(input(\"enter a floating point value: \"))\\ninteger,floating_point',\n",
              " 'integer': 3,\n",
              " 'floating_point': 4.4,\n",
              " '_5': (33, 3.33),\n",
              " '_i6': '#for loop\\nfor i in range(10):\\n    print(i)',\n",
              " 'i': -6,\n",
              " '_i7': '#printing values to console\\nprint(\"hello world\")',\n",
              " '_i8': '#varialbes/identifier\\n\\nfirst_floating_point=3.33\\nsecond_floating_point=4.4\\nprint(first_floating_point+second_floating_point)\\nprint(first_floating_point-second_floating_point)\\nprint(first_floating_point*second_floating_point)\\nprint(first_floating_point/second_floating_point)',\n",
              " 'first_floating_point': 3.33,\n",
              " 'second_floating_point': 4.4,\n",
              " '_i9': '#tuple unpacking\\nn1,n2,n3=1,2,3\\nprint(n1+n+n3)',\n",
              " 'n1': 1,\n",
              " 'n2': 2,\n",
              " 'n3': 3,\n",
              " '_i10': '#tuple unpacking\\nn1,n2,n3=1,2,3\\nprint(n1+n2+n3)',\n",
              " '_i11': '#to check types\\ntype(first_floating_point)',\n",
              " '_11': float,\n",
              " '_i12': '#importing packages/modules\\nimport math \\nmath.sqrt(2),math.pi,math.sin(3.14)',\n",
              " 'math': <module 'math' (built-in)>,\n",
              " '_12': (1.4142135623730951, 3.141592653589793, 0.0015926529164868282),\n",
              " '_i13': 'import random\\nprintI(random.randint(0,1),random.randint(3))',\n",
              " 'random': <module 'random' from '/usr/lib/python3.8/random.py'>,\n",
              " '_i14': 'import random\\nprint(random.randint(0,1),random.randint(3))',\n",
              " '_i15': 'import random\\nprint(random.randint(0,1))',\n",
              " '_i16': 'import random\\nprint(random.randint(0,1))',\n",
              " '_i17': 'import random\\nprint(random.randint(0,1))',\n",
              " '_i18': 'import random\\nprint(random.randint(0,1))',\n",
              " '_i19': 'import random\\nprint(random.randint(0,1))',\n",
              " '_i20': 'import random\\nprint(random.randint(0,1))\\n#randint is inclusive of both bounds\\nprint(random.rand())',\n",
              " '_i21': 'import random\\nprint(random.randint(0,1))\\n#randint is inclusive of both bounds\\nprint(random.random())',\n",
              " '_i22': 'import random\\nprint(random.randint(0,1))\\n#randint is inclusive of both bounds\\nprint(random.random())',\n",
              " '_i23': \"#separator in print\\nprint(random.randint(0,9),random.randint(0,9),random.randint(0,9),random.randint(0,9),sep='')\",\n",
              " '_i24': \"#separator in print,by default the separator is space\\nprint(random.randint(0,9),random.randint(0,9),random.randint(0,9),random.randint(0,9),sep='')\",\n",
              " '_i25': '#other ways to import\\n\"\"\"\\nimport math as m\\nfrom math import sqrt as sq,pi as p\\nfrom math import *\\n\"\"\"',\n",
              " '_25': '\\nimport math as m\\nfrom math import sqrt as sq,pi as p\\nfrom math import *\\n',\n",
              " '_i26': '#the limitation of python is that it is slow,about 50 times when compared to c on average on basic operations done in a tradional way.',\n",
              " '_i27': '#python keywords\\nimport keyword\\nkeyword.kwlist',\n",
              " 'keyword': <module 'keyword' from '/usr/lib/python3.8/keyword.py'>,\n",
              " '_27': ['False',\n",
              "  'None',\n",
              "  'True',\n",
              "  'and',\n",
              "  'as',\n",
              "  'assert',\n",
              "  'async',\n",
              "  'await',\n",
              "  'break',\n",
              "  'class',\n",
              "  'continue',\n",
              "  'def',\n",
              "  'del',\n",
              "  'elif',\n",
              "  'else',\n",
              "  'except',\n",
              "  'finally',\n",
              "  'for',\n",
              "  'from',\n",
              "  'global',\n",
              "  'if',\n",
              "  'import',\n",
              "  'in',\n",
              "  'is',\n",
              "  'lambda',\n",
              "  'nonlocal',\n",
              "  'not',\n",
              "  'or',\n",
              "  'pass',\n",
              "  'raise',\n",
              "  'return',\n",
              "  'try',\n",
              "  'while',\n",
              "  'with',\n",
              "  'yield'],\n",
              " '_i28': '#primitive types are immutable\\ninteger=3\\nfloating_point=4.4\\ncomplex_number=3+4j\\nboolean=True\\nstring=\"hi there\"',\n",
              " 'complex_number': (3+4j),\n",
              " 'boolean': True,\n",
              " '_i29': '#basic inbuild functions\\nprint(integer,floating_point,complex_number,boolean,string)\\nprint(id(integer),id(floating_point))\\nprint(type(complex_number),type(string))',\n",
              " '_i30': '#integers\\nx=10\\ny=0B010101\\nz=0Xbeef\\nq=0o777\\nx,y,z,q',\n",
              " 'z': 71,\n",
              " 'q': 511,\n",
              " '_30': (10, 21, 48879, 511),\n",
              " '_i31': '#integers\\nx=10\\ny=0B010101\\nz=0Xbeef\\nq=0o777\\nx,y,z,q#this is a tuple which jupyter prints',\n",
              " '_31': (10, 21, 48879, 511),\n",
              " '_i32': '#to binary etc\\nbin(x),hex(x),oct(x),type(bin(x))',\n",
              " '_32': ('0b1010', '0xa', '0o12', str),\n",
              " '_i33': '#to binary etc\\nbin(x),hex(x),oct(x),type(bin(x))#they return str',\n",
              " '_33': ('0b1010', '0xa', '0o12', str),\n",
              " '_i34': '#to binary etc\\nbin(x),hex(x),oct(x),bin(0xbeef))type(bin(x))#they return str',\n",
              " '_i35': '#to binary etc\\nbin(x),hex(x),oct(x),bin(0xbeef)type(bin(x))#they return str',\n",
              " '_i36': '#to binary etc\\nbin(x),hex(x),oct(x),bin(0xbeef),type(bin(x))#they return str',\n",
              " '_36': ('0b1010', '0xa', '0o12', '0b1011111011101111', str),\n",
              " '_i37': '#floats can only be in decimal form\\nfloating_point=1.2e3\\nfloating_point',\n",
              " '_37': 1200.0,\n",
              " '_i38': 'complex_number.real,complex_number.imag,complex_number',\n",
              " '_38': (3.0, 4.0, (3+4j)),\n",
              " '_i39': '#bool\\nboolean1=True\\nboolean2=False\\nboolean1+boolean2,boolean1-boolean2,boolean1*boolean2',\n",
              " 'boolean1': True,\n",
              " 'boolean2': False,\n",
              " '_39': (1, 1, 0),\n",
              " '_i40': '#bool\\nboolean1=True\\nboolean2=False\\nboolean1+boolean2,boolean1-boolean2,boolean1*boolean2\\n#True treated as 1 and False treated as 0',\n",
              " '_40': (1, 1, 0),\n",
              " '_i41': '#bool\\nboolean1=True\\nboolean2=False\\nboolean1+boolean2,boolean1-boolean2,boolean1*boolean2,True+True\\n#True treated as 1 and False treated as 0',\n",
              " '_41': (1, 1, 0, 2),\n",
              " '_i42': \"#multiline string\\nstring='''\\nhi there\\ni hope you are doing good\\n'''\\nstring\",\n",
              " '_42': '\\nhi there\\ni hope you are doing good\\n',\n",
              " '_i43': \"#multiline string\\nstring='''\\nhi there\\ni hope you are doing good\\n'''\\nprint(string)\",\n",
              " '_i44': '#True/False is a ZeroDivisionError ',\n",
              " '_i45': '#slicing in strings\\nstring=\"01234456789\"\\nstring[0],string[1],string[-1],string[-2]',\n",
              " '_45': ('0', '1', '9', '8'),\n",
              " '_i46': 'string[1:3],string[:4],string[2:],string[-4,-1],string[-4,0]',\n",
              " '_i47': 'string[1:3],string[:4],string[2:],string[-4,-1],string[-4,-0]',\n",
              " '_i48': 'string[1:3],string[:4],string[2:],string[-4,-1],string[-4:]',\n",
              " '_i49': 'string[1:3],string[:4],string[2:],string[-4:-1],string[-4:]',\n",
              " '_49': ('12', '0123', '234456789', '678', '6789'),\n",
              " '_i50': 'string[1:3],string[:4],string[2:],string[-4:-1],string[-4:0]',\n",
              " '_50': ('12', '0123', '234456789', '678', ''),\n",
              " '_i51': 'string[1:3],string[:4],string[2:],string[-4:-1],string[-4:-0]',\n",
              " '_51': ('12', '0123', '234456789', '678', ''),\n",
              " '_i52': 'string[1:3],string[:4],string[2:],string[-4:-1],string[-4:]',\n",
              " '_52': ('12', '0123', '234456789', '678', '6789'),\n",
              " '_i53': 'string[1:3],string[:4],string[2:],string[-4:-1],string[-4:]',\n",
              " '_53': ('12', '0123', '234456789', '678', '6789'),\n",
              " '_i54': 'string[::2],string[0:3:2],string[-5:-2:1]',\n",
              " '_54': ('024579', '02', '567'),\n",
              " '_i55': '#slicing in strings\\nstring=\"0123456789\"\\nstring[0],string[1],string[-1],string[-2]',\n",
              " '_55': ('0', '1', '9', '8'),\n",
              " '_i56': 'string[1:3],string[:4],string[2:],string[-4:-1],string[-4:]',\n",
              " '_56': ('12', '0123', '23456789', '678', '6789'),\n",
              " '_i57': 'string[::2],string[0:3:2],string[-5:-2:1]',\n",
              " '_57': ('02468', '02', '567'),\n",
              " '_i58': 'string[::2],string[0:3:2],string[-5:-2:2]',\n",
              " '_58': ('02468', '02', '57'),\n",
              " '_i59': 'string[::2],string[0:3:2],string[-5:-2:2]',\n",
              " '_59': ('02468', '02', '57'),\n",
              " '_i60': 'string[7:1:-1],string[-1::-1]',\n",
              " '_60': ('765432', '9876543210'),\n",
              " '_i61': 'string[7:1:-1],string[-1::-1],string[::-1]',\n",
              " '_61': ('765432', '9876543210', '9876543210'),\n",
              " '_i62': 'string[7:1:-1],string[-1::-1],string[::-1]',\n",
              " '_62': ('765432', '9876543210', '9876543210'),\n",
              " '_i63': 'string*3',\n",
              " '_63': '012345678901234567890123456789',\n",
              " '_i64': 'string+string',\n",
              " '_64': '01234567890123456789',\n",
              " '_i65': 'len(string)',\n",
              " '_65': 10,\n",
              " '_i66': '#typecasting\\nfloating_point=4.4\\nstring=\"4\"\\nint(string),float(string),str(floating_point)',\n",
              " '_66': (4, 4.0, '4.4'),\n",
              " '_i67': '#typecasting\\nfloating_point=4.4\\nstring=\"4\"\\nint(string),float(string),str(floating_point),bool(floating_point),complex(floating_point,3)',\n",
              " '_67': (4, 4.0, '4.4', True, (4.4+3j)),\n",
              " '_i68': 'x=10\\ny=x\\ny+=10\\nx,y',\n",
              " '_68': (10, 20),\n",
              " '_i69': 'x=10\\ny=x\\ny+=10\\nx,y #though primitive types are also objects but they are not copied by reference',\n",
              " '_69': (10, 20),\n",
              " '_i70': 'x=10\\ny=x\\ny+=10\\nx,y #though primitive types are also objects but they are not copied by reference',\n",
              " '_70': (10, 20),\n",
              " '_i71': 'x is y',\n",
              " '_71': False,\n",
              " '_i72': 'x is y',\n",
              " '_72': False,\n",
              " '_i73': '#bytes\\nbyte=[1,2,3,4,5]\\nb=bytes(byte)\\nb',\n",
              " 'byte': [1, 2, 3, 4, 5, 4],\n",
              " 'b': b'\\x01\\x02\\x03\\x04\\x05\\x04',\n",
              " '_73': b'\\x01\\x02\\x03\\x04\\x05',\n",
              " '_i74': '#bytes\\nbyte=[1,2,3,4,5]\\nb=bytes(byte)\\nb[0]',\n",
              " '_74': 1,\n",
              " '_i75': '#bytes\\nbyte=[1,2,3,4,5]\\nb=bytes(byte)\\nb,b[0]',\n",
              " '_75': (b'\\x01\\x02\\x03\\x04\\x05', 1),\n",
              " '_i76': '#bytes\\nbyte=[1,2,3,4,5,888]\\nb=bytes(byte)\\nb,b[0]',\n",
              " '_i77': '#bytes\\nbyte=[1,2,3,4,5,4]\\nb=bytes(byte)\\nb,b[0]',\n",
              " '_77': (b'\\x01\\x02\\x03\\x04\\x05\\x04', 1),\n",
              " '_i78': '#bytes\\nbyte=[1,2,3,4,5,4]\\nb=bytes(byte)\\nb,b[0]',\n",
              " '_78': (b'\\x01\\x02\\x03\\x04\\x05\\x04', 1),\n",
              " '_i79': '#bytes\\nbyte=[1,2,3,4,5,4]\\nb=bytes(byte)\\nb,b[0]#values has to be between 0-256 and it is used for binary data like images and videos',\n",
              " '_79': (b'\\x01\\x02\\x03\\x04\\x05\\x04', 1),\n",
              " '_i80': '#bytes\\nbyte=[1,2,3,4,5,4]\\nb=bytes(byte)\\nb,b[0]#values has to be between 0-256 and it is used for binary data like images and videos\\n#bytearray is mutable type of same',\n",
              " '_80': (b'\\x01\\x02\\x03\\x04\\x05\\x04', 1),\n",
              " '_i81': '#list\\nl=[1,2,3]\\nprint(l)\\nl.append(3)\\nprint(l)\\nl.pop()\\nprint(l)\\nl.insert(0,55)\\nprint(l)\\nl.pop(2)\\nprint(l)\\nl.remove(3)\\nprint(l)\\nprint(len(l))',\n",
              " 'l': [0, 1, 4, 9, 16, 25, 36, 49, 64, 81],\n",
              " '_i82': '#list\\nl=[1,2,3]\\nprint(l)\\nl.append(3)\\nprint(l)\\nl.pop()\\nprint(l)\\nl.insert(0,55)\\nprint(l)\\nl.pop(2)\\nprint(l)\\nl.remove(3)\\nprint(l)\\nprint(len(l))\\nl2=[7,7]\\nl.extend(l2)\\nprint(l)',\n",
              " 'l2': [1, 2, 3, 4, 4],\n",
              " '_i83': '#list\\nl=[1,2,3]\\nprint(l)\\nl.append(3)\\nprint(l)\\nl.pop()\\nprint(l)\\nl.insert(0,55)\\nprint(l)\\nl.pop(2)\\nprint(l)\\nl.remove(3)\\nprint(l)\\nprint(len(l))\\nl2=[7,7]\\nl.extend(l2)\\nprint(l)\\nprint(l.sort())',\n",
              " '_i84': '#list\\nl=[1,2,3]\\nprint(l)\\nl.append(3)\\nprint(l)\\nl.pop()\\nprint(l)\\nl.insert(0,55)\\nprint(l)\\nl.pop(2)\\nprint(l)\\nl.remove(3)\\nprint(l)\\nprint(len(l))\\nl2=[7,7]\\nl.extend(l2)\\nprint(l)\\nl.sort()\\nprint(l)',\n",
              " '_i85': '#list\\nl=[1,2,3]\\nprint(l)\\nl.append(3)\\nprint(l)\\nl.pop()\\nprint(l)\\nl.insert(0,55)\\nprint(l)\\nl.pop(2)\\nprint(l)\\nl.remove(3)\\nprint(l)\\nprint(len(l))\\nl2=[7,7]\\nl.extend(l2)\\nprint(l)\\nl.sort(reverse=True)\\nprint(l)',\n",
              " '_i86': '#list\\nl=[1,2,3]\\nprint(l)\\nl.append(3)\\nprint(l)\\nl.pop()\\nprint(l)\\nl.insert(0,55)\\nprint(l)\\nl.pop(2)\\nprint(l)\\nl.remove(3)\\nprint(l)\\nprint(len(l))\\nl2=[7,7]\\nl.extend(l2)\\nprint(l)\\nl.sort(reverse=True)\\nprint(l)\\nprint(max(l))',\n",
              " '_i87': '#list\\nl=[1,2,3]\\nprint(l)\\nl.append(3)\\nprint(l)\\nl.pop()\\nprint(l)\\nl.insert(0,55)\\nprint(l)\\nl.pop(2)\\nprint(l)\\nl.remove(3)\\nprint(l)\\nprint(len(l))\\nl2=[7,7]\\nl.extend(l2)\\nprint(l)\\nl.sort(reverse=True)\\nprint(l)\\nprint(max(l),min(l))',\n",
              " '_i88': '#list\\nl=[1,2,3]\\nprint(l)\\nl.append(3)\\nprint(l)\\nl.pop()\\nprint(l)\\nl.insert(0,55)\\nprint(l)\\nl.pop(2)\\nprint(l)\\nl.remove(3)\\nprint(l)\\nprint(len(l))\\nl2=[7,7]\\nl.extend(l2)\\nprint(l)\\nl.sort(reverse=True)\\nprint(l)\\nprint(max(l),min(l))\\nl.clear()\\nprint(l)',\n",
              " '_i89': '#list\\nl=[1,2,3]\\nprint(l)\\nl.append(3)\\nprint(l)\\nl.pop()\\nprint(l)\\nl.insert(0,55)\\nprint(l)\\nl.pop(2)\\nprint(l)\\nl.remove(3)\\nprint(l)\\nprint(len(l))\\nl2=[7,7]\\nl.extend(l2)\\nprint(l)\\nl.sort(reverse=True)\\nprint(l)\\nprint(max(l),min(l))\\nprint(l.index(55),l.count(7))\\nl.clear()\\nprint(l)',\n",
              " '_i90': '#indexing and slicing same as that in strings',\n",
              " '_i91': '#tuple is immutale verison of it',\n",
              " '_i92': '#range\\nr=range(0,10,2)\\nprint(r)',\n",
              " 'r': range(0, 10, 2),\n",
              " '_i93': 'r[0]',\n",
              " '_93': 0,\n",
              " '_i94': 'r[1]',\n",
              " '_94': 2,\n",
              " '_i95': 'r[0:3]',\n",
              " '_95': range(0, 6, 2),\n",
              " '_i96': '#set\\ns={1,2,3}',\n",
              " 's': {0, 1, 4, 9, 16},\n",
              " '_i97': '#set\\ns={1,2,3}\\ns',\n",
              " '_97': {1, 2, 4},\n",
              " '_i98': 's.add(4)\\ns',\n",
              " '_98': {1, 2, 4},\n",
              " '_i99': 's.remove(3)',\n",
              " '_i100': 's.remove(3)\\ns',\n",
              " '_i101': '#set\\ns={1,2,3}\\ns',\n",
              " '_101': {1, 2, 3, 4},\n",
              " '_i102': 's.add(4)\\ns',\n",
              " '_102': {1, 2, 3, 4},\n",
              " '_i103': 's.remove(3)\\ns',\n",
              " '_103': {1, 2, 3, 4},\n",
              " '_i104': 's.clear()\\ns',\n",
              " '_104': {1, 2, 3, 4},\n",
              " '_i105': 's.update([1,2,3,3,4])\\ns',\n",
              " '_105': {1, 2, 3, 4},\n",
              " '_i106': '#dictionary\\nd={}\\nd[\"name\"]=\"rayon\"\\nd[3]=4\\nd',\n",
              " 'd': {0: 0, 1: 1, 2: 4, 3: 9, 4: 16, 5: 25, 6: 36, 7: 49, 8: 64, 9: 81},\n",
              " '_106': {'name': 'rayon', 3: 4},\n",
              " '_i107': \"d.get('name')\",\n",
              " '_107': 'rayon',\n",
              " '_i108': \"d.get('saloon')\",\n",
              " '_i109': \"d.get('saloon',0)\",\n",
              " '_109': 0,\n",
              " '_i110': '# arithmatic operations,the edge cases\\n\\n3%2,2.2%2',\n",
              " '_110': (1, 0.20000000000000018),\n",
              " '_i111': '# arithmatic operations,the edge cases\\n\\n3%2,2.2%2.1',\n",
              " '_111': (1, 0.10000000000000009),\n",
              " '_i112': '# arithmatic operations,the edge cases\\n\\n3%2,2.2%2.1\\n# hence mod also works for floats',\n",
              " '_112': (1, 0.10000000000000009),\n",
              " '_i113': '# arithmatic operations,the edge cases\\n\\n3%2,2.2%2.1\\n# hence mod also works for floats',\n",
              " '_113': (1, 0.10000000000000009),\n",
              " '_i114': '# string concatenation\\n\"hit\"+\"here\"',\n",
              " '_114': 'hithere',\n",
              " '_i115': '#uncode based comaparsion for strings in ><',\n",
              " '_i116': '10==True\\n#because True is 1 only ',\n",
              " '_116': False,\n",
              " '_i117': '10<20>30',\n",
              " '_117': False,\n",
              " '_i118': '10==20==30',\n",
              " '_118': False,\n",
              " '_i119': '10=10.0',\n",
              " '_i120': '10==10.0',\n",
              " '_120': True,\n",
              " '_i121': '10=10.00001',\n",
              " '_i122': '10==10.00001',\n",
              " '_122': False,\n",
              " '_i123': '10==10.00000001',\n",
              " '_123': False,\n",
              " '_i124': '10==10.00000000001',\n",
              " '_124': False,\n",
              " '_i125': '10==10.00000000000001',\n",
              " '_125': False,\n",
              " '_i126': '10==10.00000000000000001',\n",
              " '_126': True,\n",
              " '_i127': '10=10.0000001',\n",
              " '_i128': '10==10.0000001',\n",
              " '_128': False,\n",
              " '_i129': '10==10.0000001\\n#hence always be careful and do type conversion first',\n",
              " '_129': False,\n",
              " '_i130': '10 and 20',\n",
              " '_130': 20,\n",
              " '_i131': '10 or 20',\n",
              " '_131': 10,\n",
              " '_i132': 'not 20',\n",
              " '_132': False,\n",
              " '_i133': 'True and False',\n",
              " '_133': False,\n",
              " '_i134': '#bitwise operators for booleans and integers where booleans are treated as integers\\nTrue & False',\n",
              " '_134': False,\n",
              " '_i135': 'True | False',\n",
              " '_135': True,\n",
              " '_i136': 'True | False',\n",
              " '_136': True,\n",
              " '_i137': 'True ^ False',\n",
              " '_137': True,\n",
              " '_i138': '~Tru',\n",
              " '_i139': '~True',\n",
              " '_139': -2,\n",
              " '_i140': '4&5',\n",
              " '_140': 4,\n",
              " '_i141': '4&5,4|5,4^5,~4',\n",
              " '_141': (4, 5, 1, -5),\n",
              " '_i142': '4&5,4|5,4^5,~4#^ is xor',\n",
              " '_142': (4, 5, 1, -5),\n",
              " '_i143': '4<<2',\n",
              " '_143': 16,\n",
              " '_i144': '4>>2',\n",
              " '_144': 1,\n",
              " '_i145': '-4<<2',\n",
              " '_145': -16,\n",
              " '_i146': '-4>>2',\n",
              " '_146': -1,\n",
              " '_i147': '#ternary operator\\nx,y,z=5,10,7\\nmax=x if x>y and x>z else y if y>x and y>z else z\\nmax',\n",
              " 'max': 555,\n",
              " '_147': 10,\n",
              " '_i148': '#ternary operator\\nx,y,z=5,10,71\\nmax=x if x>y and x>z else y if y>x and y>z else z\\nmax',\n",
              " '_148': 71,\n",
              " '_i149': '#ternary operator\\nx,y,z=555,10,71\\nmax=x if x>y and x>z else y if y>x and y>z else z\\nmax',\n",
              " '_149': 555,\n",
              " '_i150': '#membership operator\\nl=1,2,3\\n2 in l',\n",
              " '_150': True,\n",
              " '_i151': '4 in l',\n",
              " '_151': False,\n",
              " '_i152': 's=\"hi there\"',\n",
              " '_i153': '\"hi\" in s',\n",
              " '_153': True,\n",
              " '_i154': 's.index(\"hi\")',\n",
              " '_154': 0,\n",
              " '_i155': 's.index(\"there\")',\n",
              " '_155': 3,\n",
              " '_i156': '\"kive\" not in s',\n",
              " '_156': True,\n",
              " '_i157': '#lists are copied by reference\\nl=[1,2,3]\\nl2=l\\nl is l2',\n",
              " '_157': True,\n",
              " '_i158': 'l2.append(4)\\nl,l2',\n",
              " '_158': ([1, 2, 3, 4], [1, 2, 3, 4]),\n",
              " '_i159': '#lists are copied by reference\\nl=[1,2,3]\\nl2=l\\nl is l2',\n",
              " '_159': True,\n",
              " '_i160': 'l2.append(4)\\nl,l2',\n",
              " '_160': ([1, 2, 3, 4, 4, 4], [1, 2, 3, 4, 4, 4]),\n",
              " '_i161': '# to copy though shallowly\\nl3=l.copy()\\nl3.append(4)\\nl,l2,l3',\n",
              " 'l3': [1, 2, 3, 4, 4],\n",
              " '_161': ([1, 2, 3, 4, 4, 4], [1, 2, 3, 4, 4, 4], [1, 2, 3, 4, 4]),\n",
              " '_i162': 'l.append(4)',\n",
              " '_i163': 'l.append(4)\\nl',\n",
              " '_163': [1, 2, 3, 4, 4, 4],\n",
              " '_i164': '# to copy though shallowly\\nl3=l.copy()\\nl3.append(4)\\nl,l2,l3',\n",
              " '_164': ([1, 2, 3, 4, 4, 4], [1, 2, 3, 4, 4, 4], [1, 2, 3, 4, 4, 4, 4]),\n",
              " '_i165': '#lists are copied by reference\\nl=[1,2,3]\\nl2=l\\nl is l2',\n",
              " '_165': True,\n",
              " '_i166': 'l2.append(4)\\nl,l2',\n",
              " '_166': ([1, 2, 3, 4, 4], [1, 2, 3, 4, 4]),\n",
              " '_i167': '# to copy though shallowly\\nl3=l.copy()\\nl3.append(4)\\nl,l2,l3',\n",
              " '_167': ([1, 2, 3, 4, 4], [1, 2, 3, 4, 4], [1, 2, 3, 4, 4]),\n",
              " '_i168': 'l.append(4)\\nl',\n",
              " '_168': [1, 2, 3, 4, 4],\n",
              " '_i169': 'l is l3',\n",
              " '_169': False,\n",
              " '_i170': 'l is l3,l==l3',\n",
              " '_170': (False, True),\n",
              " '_i171': 'import math\\nmath.gcd(7,21)',\n",
              " '_171': 7,\n",
              " '_i172': '#reading multiple inputs\\nx,y=[int(x) for x in input().split()]',\n",
              " '_i173': '#reading multiple inputs\\nx,y=[int(x) for x in input().split()]\\nx,4',\n",
              " '_173': (4, 4),\n",
              " '_i174': '#reading multiple inputs\\nx,y=[int(x) for x in input().split()]\\nx,y',\n",
              " '_174': (4, 44),\n",
              " '_i175': '#eval \\nx=eval(input())\\nx',\n",
              " '_i176': '#eval \\nx=eval(input())\\nx',\n",
              " '_i177': '#eval \\nx=eval(input())\\nx',\n",
              " '_177': 31,\n",
              " '_i178': '#eval \\nx=eval(input())\\nx',\n",
              " '_i179': '#eval \\nx=eval(input())\\nx',\n",
              " '_179': (1, 2, 3),\n",
              " '_i180': '#eval \\nx=eval(input())\\nx',\n",
              " '_180': (1, 2, 1),\n",
              " '_i181': '#formatted string\\nx=20\\ny=[1,2,3]\\nstring=f\"there are {x} and there is {y}\"',\n",
              " '_i182': '#formatted string\\nx=20\\ny=[1,2,3]\\nstring=f\"there are {x} and there is {y}\"\\nstring',\n",
              " '_182': 'there are 20 and there is [1, 2, 3]',\n",
              " '_i183': '#raw string\\nstring=r\"there is / and \\\\ and % and \\' and \"\\nstring',\n",
              " '_183': \"there is / and \\\\ and % and ' and \",\n",
              " '_i184': 'for i in range(10,,-1):\\n    print(i)',\n",
              " '_i185': 'for i in range(10,0,-1):\\n    print(i)',\n",
              " '_i186': 'for i in range(10,-1,-1):\\n    print(i)',\n",
              " '_i187': 'for i in range(10,-7,-1):\\n    print(i)',\n",
              " '_i188': 'del statement\\nx=20\\ndel x\\nx',\n",
              " '_i189': '# del statement\\nx=20\\ndel x\\nx',\n",
              " '_i190': '# del statement\\nx=20\\ndel(x)\\nx',\n",
              " '_i191': '# del statement\\nx=20\\ny=10\\ndel(x),del y\\nx',\n",
              " '_i192': '# del statement\\nx=20\\ny=10\\ndel(x)\\ndel y\\nx',\n",
              " '_i193': '# del statement\\nx=20\\ny=10\\ndel(x)\\ndel y\\nx,y',\n",
              " '_i194': '# del statement\\nx=20\\ny=10\\ndel(x)\\ndel y\\nx,y\\n# you can assign things none when not needed',\n",
              " '_i195': '#strings\\nstring=\"0123456789\"\\nstring.reverse()',\n",
              " '_i196': '#strings\\nstring=\"0123456789\"\\nstring.reversed()',\n",
              " '_i197': '#strings\\nstring=\"0123456789\"\\nreversed(string)',\n",
              " '_197': <reversed at 0x7f595048fee0>,\n",
              " '_i198': '#strings\\nstring=\"0123456789\"\\nreverse(string)',\n",
              " '_i199': '#strings\\nstring=\"0123456789\"\\nstring[::-1]',\n",
              " '_199': '9876543210',\n",
              " '_i200': 'chr(\"a\")',\n",
              " '_i201': 'ord(\"a\")',\n",
              " '_201': 97,\n",
              " '_i202': 'ord(\"a\"),chr(97)',\n",
              " '_202': (97, 'a'),\n",
              " '_i203': 's=\"   hi   \"\\ns',\n",
              " '_203': '   hi   ',\n",
              " '_i204': 's=\"   hi   \"\\ns',\n",
              " '_204': '   hi   ',\n",
              " '_i205': 's.strip()',\n",
              " '_205': 'hi',\n",
              " '_i206': \"string.count('0')\",\n",
              " '_206': 1,\n",
              " '_i207': \"string.count('0',1,7)\",\n",
              " '_207': 0,\n",
              " '_i208': \"string.count('0',1,7)\",\n",
              " '_208': 0,\n",
              " '_i209': \"string.replace('0','7')\",\n",
              " '_209': '7123456789',\n",
              " '_i210': \"l=string.split('')\",\n",
              " '_i211': \"l=string.split(' ')\",\n",
              " '_i212': \"l=string.split(' ')\\nl\",\n",
              " '_212': ['0123456789'],\n",
              " '_i213': 'l=list(string)',\n",
              " '_i214': 'l=list(string)\\nl',\n",
              " '_214': ['0', '1', '2', '3', '4', '5', '6', '7', '8', '9'],\n",
              " '_i215': \"'<'.join(l)\",\n",
              " '_215': '0<1<2<3<4<5<6<7<8<9',\n",
              " '_i216': \"#s.split(' ,3),s.rsplit(' ',3)\",\n",
              " '_i217': 'string=\"hi THERE\"\\nprint(string.upper(),string.lower(),string.capitalize())',\n",
              " '_i218': 'string=\"hi THERE\"\\nprint(string.upper(),string.lower(),string.capitalize())\\nprint(string.islower())',\n",
              " '_i219': 'string=\"hi THERE\"\\nprint(string.upper(),string.lower(),string.capitalize())\\nprint(string.islower())\\nstring.startswith(\"hi\")',\n",
              " '_219': True,\n",
              " '_i220': 'string=\"hi THERE\"\\nprint(string.upper(),string.lower(),string.capitalize())\\nprint(string.islower())\\nstring.startswith(\"hi\")#.endswith',\n",
              " '_220': True,\n",
              " '_i221': '#list comprehension\\nl=[x*x for x in range(10)]\\nl',\n",
              " '_221': [0, 1, 4, 9, 16, 25, 36, 49, 64, 81],\n",
              " '_i222': 't=1,2,3,4\\nsorted(t)',\n",
              " 't': (7, 2, 3, 4),\n",
              " '_222': [1, 2, 3, 4],\n",
              " '_i223': 't=7,2,3,4\\nsorted(t)',\n",
              " '_223': [2, 3, 4, 7],\n",
              " '_i224': 't=7,2,3,4\\nsorted(t,reverse=True)',\n",
              " '_224': [7, 4, 3, 2],\n",
              " '_i225': 't=7,2,3,4\\nsorted(t,reverse=True)',\n",
              " '_225': [7, 4, 3, 2],\n",
              " '_i226': '#sets\\ns={1,2,3}\\ns.pop()',\n",
              " '_226': 1,\n",
              " '_i227': 's.discard(7)',\n",
              " '_i228': '# s.discard(7) if avaialble remove',\n",
              " '_i229': 's1={1,2,3}\\ns2={4,3,5}\\ns1.intersection(s2),s1&s2,s1.union(s2),s1|s2,s1.symmetric_difference(s2),s1^s2,s1-s2',\n",
              " 's1': {1, 2, 3},\n",
              " 's2': {3, 4, 5},\n",
              " '_229': ({3},\n",
              "  {3},\n",
              "  {1, 2, 3, 4, 5},\n",
              "  {1, 2, 3, 4, 5},\n",
              "  {1, 2, 4, 5},\n",
              "  {1, 2, 4, 5},\n",
              "  {1, 2}),\n",
              " '_i230': 's1={1,2,3}\\ns2={4,3,5}\\ns1.intersection(s2),s1&s2,s1.union(s2),s1|s2,s1.symmetric_difference(s2),s1^s2,s1-s2,s1.difference(s2)',\n",
              " '_230': ({3},\n",
              "  {3},\n",
              "  {1, 2, 3, 4, 5},\n",
              "  {1, 2, 3, 4, 5},\n",
              "  {1, 2, 4, 5},\n",
              "  {1, 2, 4, 5},\n",
              "  {1, 2},\n",
              "  {1, 2}),\n",
              " '_i231': '#set compreshension\\ns={x*x for x in range(-1,5)}\\ns',\n",
              " '_231': {0, 1, 4, 9, 16},\n",
              " '_i232': '#dicitonaries\\nd={\\n    \\'name\\':\"rayon\",\\n    \"rollno\"=7\\n   }',\n",
              " '_i233': '#dicitonaries\\nd={\\n    \\'name\\':\"rayon\",\\n    \"rollno\":7\\n   }',\n",
              " '_i234': 'd.name',\n",
              " '_i235': \"d['naem']\",\n",
              " '_i236': \"d['name']\",\n",
              " '_236': 'rayon',\n",
              " '_i237': 'del d[\"rollno\"]',\n",
              " '_i238': 'd.clear()',\n",
              " '_i239': 'd.keys()',\n",
              " '_239': dict_keys([]),\n",
              " '_i240': 'd.keys()',\n",
              " '_240': dict_keys([]),\n",
              " '_i241': '#dicitonaries\\nd={\\n    \\'name\\':\"rayon\",\\n    \"rollno\":7\\n   }',\n",
              " '_i242': 'd.keys()',\n",
              " '_242': dict_keys(['rollno']),\n",
              " '_i243': 'd.values()',\n",
              " '_243': dict_values([7]),\n",
              " '_i244': 'd.items()',\n",
              " '_244': dict_items([('rollno', 7)]),\n",
              " '_i245': 'd.pop(\"name\")',\n",
              " '_245': 'rayon',\n",
              " '_i246': 'd.pop(\"name\")#key removed and value returned',\n",
              " '_i247': '#dicitonaries\\nd={\\n    \\'name\\':\"rayon\",\\n    \"rollno\":7\\n   }',\n",
              " '_i248': 'd.pop(\"name\")#key removed and value returned',\n",
              " '_248': 'rayon',\n",
              " '_i249': 'd.update({\"age\":21})\\nd',\n",
              " '_249': {'rollno': 7, 'age': 22},\n",
              " '_i250': 'd.setdefault(\"rollno\",10)',\n",
              " '_250': 7,\n",
              " '_i251': 'd',\n",
              " '_251': {'rollno': 7, 'age': 22},\n",
              " '_i252': 'divmod[\"age\"]=d.get(\"age\",0)+1',\n",
              " '_i253': 'd[\"age\"]=d.get(\"age\",0)+1',\n",
              " '_i254': 'd',\n",
              " '_254': {'rollno': 7, 'age': 22},\n",
              " '_i255': '#dict comprehension\\nd={x:x*x for x in range(10)}',\n",
              " '_i256': 'd',\n",
              " '_256': {0: 0, 1: 1, 2: 4, 3: 9, 4: 16, 5: 25, 6: 36, 7: 49, 8: 64, 9: 81},\n",
              " '_i257': '# functions by default return None',\n",
              " '_i258': 'globals()'}"
            ]
          },
          "metadata": {},
          "execution_count": 258
        }
      ]
    },
    {
      "cell_type": "code",
      "metadata": {
        "colab": {
          "base_uri": "https://localhost:8080/",
          "height": 299
        },
        "id": "7uzsDCH7EAmk",
        "outputId": "2afdd2ea-1e87-4944-acd7-3f4a58fdab36"
      },
      "source": [
        "a=10\n",
        "def add():\n",
        "    a+=10\n",
        "add()"
      ],
      "execution_count": null,
      "outputs": [
        {
          "output_type": "error",
          "ename": "UnboundLocalError",
          "evalue": "ignored",
          "traceback": [
            "\u001b[0;31m---------------------------------------------------------------------------\u001b[0m",
            "\u001b[0;31mUnboundLocalError\u001b[0m                         Traceback (most recent call last)",
            "\u001b[0;32m/tmp/ipykernel_43465/1174994412.py\u001b[0m in \u001b[0;36m<module>\u001b[0;34m\u001b[0m\n\u001b[1;32m      2\u001b[0m \u001b[0;32mdef\u001b[0m \u001b[0madd\u001b[0m\u001b[0;34m(\u001b[0m\u001b[0;34m)\u001b[0m\u001b[0;34m:\u001b[0m\u001b[0;34m\u001b[0m\u001b[0;34m\u001b[0m\u001b[0m\n\u001b[1;32m      3\u001b[0m     \u001b[0ma\u001b[0m\u001b[0;34m+=\u001b[0m\u001b[0;36m10\u001b[0m\u001b[0;34m\u001b[0m\u001b[0;34m\u001b[0m\u001b[0m\n\u001b[0;32m----> 4\u001b[0;31m \u001b[0madd\u001b[0m\u001b[0;34m(\u001b[0m\u001b[0;34m)\u001b[0m\u001b[0;34m\u001b[0m\u001b[0;34m\u001b[0m\u001b[0m\n\u001b[0m",
            "\u001b[0;32m/tmp/ipykernel_43465/1174994412.py\u001b[0m in \u001b[0;36madd\u001b[0;34m()\u001b[0m\n\u001b[1;32m      1\u001b[0m \u001b[0ma\u001b[0m\u001b[0;34m=\u001b[0m\u001b[0;36m10\u001b[0m\u001b[0;34m\u001b[0m\u001b[0;34m\u001b[0m\u001b[0m\n\u001b[1;32m      2\u001b[0m \u001b[0;32mdef\u001b[0m \u001b[0madd\u001b[0m\u001b[0;34m(\u001b[0m\u001b[0;34m)\u001b[0m\u001b[0;34m:\u001b[0m\u001b[0;34m\u001b[0m\u001b[0;34m\u001b[0m\u001b[0m\n\u001b[0;32m----> 3\u001b[0;31m     \u001b[0ma\u001b[0m\u001b[0;34m+=\u001b[0m\u001b[0;36m10\u001b[0m\u001b[0;34m\u001b[0m\u001b[0;34m\u001b[0m\u001b[0m\n\u001b[0m\u001b[1;32m      4\u001b[0m \u001b[0madd\u001b[0m\u001b[0;34m(\u001b[0m\u001b[0;34m)\u001b[0m\u001b[0;34m\u001b[0m\u001b[0;34m\u001b[0m\u001b[0m\n",
            "\u001b[0;31mUnboundLocalError\u001b[0m: local variable 'a' referenced before assignment"
          ]
        }
      ]
    },
    {
      "cell_type": "code",
      "metadata": {
        "colab": {
          "base_uri": "https://localhost:8080/",
          "height": 299
        },
        "id": "hnMDdr4AEKHl",
        "outputId": "bd0f2e12-c56b-40f8-ca25-da68577941a1"
      },
      "source": [
        "a=10\n",
        "def add():\n",
        "    a=a+10\n",
        "add()"
      ],
      "execution_count": null,
      "outputs": [
        {
          "output_type": "error",
          "ename": "UnboundLocalError",
          "evalue": "ignored",
          "traceback": [
            "\u001b[0;31m---------------------------------------------------------------------------\u001b[0m",
            "\u001b[0;31mUnboundLocalError\u001b[0m                         Traceback (most recent call last)",
            "\u001b[0;32m/tmp/ipykernel_43465/1657817963.py\u001b[0m in \u001b[0;36m<module>\u001b[0;34m\u001b[0m\n\u001b[1;32m      2\u001b[0m \u001b[0;32mdef\u001b[0m \u001b[0madd\u001b[0m\u001b[0;34m(\u001b[0m\u001b[0;34m)\u001b[0m\u001b[0;34m:\u001b[0m\u001b[0;34m\u001b[0m\u001b[0;34m\u001b[0m\u001b[0m\n\u001b[1;32m      3\u001b[0m     \u001b[0ma\u001b[0m\u001b[0;34m=\u001b[0m\u001b[0ma\u001b[0m\u001b[0;34m+\u001b[0m\u001b[0;36m10\u001b[0m\u001b[0;34m\u001b[0m\u001b[0;34m\u001b[0m\u001b[0m\n\u001b[0;32m----> 4\u001b[0;31m \u001b[0madd\u001b[0m\u001b[0;34m(\u001b[0m\u001b[0;34m)\u001b[0m\u001b[0;34m\u001b[0m\u001b[0;34m\u001b[0m\u001b[0m\n\u001b[0m",
            "\u001b[0;32m/tmp/ipykernel_43465/1657817963.py\u001b[0m in \u001b[0;36madd\u001b[0;34m()\u001b[0m\n\u001b[1;32m      1\u001b[0m \u001b[0ma\u001b[0m\u001b[0;34m=\u001b[0m\u001b[0;36m10\u001b[0m\u001b[0;34m\u001b[0m\u001b[0;34m\u001b[0m\u001b[0m\n\u001b[1;32m      2\u001b[0m \u001b[0;32mdef\u001b[0m \u001b[0madd\u001b[0m\u001b[0;34m(\u001b[0m\u001b[0;34m)\u001b[0m\u001b[0;34m:\u001b[0m\u001b[0;34m\u001b[0m\u001b[0;34m\u001b[0m\u001b[0m\n\u001b[0;32m----> 3\u001b[0;31m     \u001b[0ma\u001b[0m\u001b[0;34m=\u001b[0m\u001b[0ma\u001b[0m\u001b[0;34m+\u001b[0m\u001b[0;36m10\u001b[0m\u001b[0;34m\u001b[0m\u001b[0;34m\u001b[0m\u001b[0m\n\u001b[0m\u001b[1;32m      4\u001b[0m \u001b[0madd\u001b[0m\u001b[0;34m(\u001b[0m\u001b[0;34m)\u001b[0m\u001b[0;34m\u001b[0m\u001b[0;34m\u001b[0m\u001b[0m\n",
            "\u001b[0;31mUnboundLocalError\u001b[0m: local variable 'a' referenced before assignment"
          ]
        }
      ]
    },
    {
      "cell_type": "code",
      "metadata": {
        "id": "qDitS-gvEM0X"
      },
      "source": [
        "a=10\n",
        "def add():\n",
        "    b=7+a\n",
        "add()\n",
        "#so i can call global variable but i cannot assign it without using global in a function"
      ],
      "execution_count": null,
      "outputs": []
    },
    {
      "cell_type": "code",
      "metadata": {
        "colab": {
          "base_uri": "https://localhost:8080/",
          "height": 299
        },
        "id": "l9_T8vM3EXtF",
        "outputId": "b2889d0e-d6c3-43e9-c21e-e1e28b4625da"
      },
      "source": [
        "l=[1,2,3]\n",
        "def add():\n",
        "    l=l+[1,2]\n",
        "add()"
      ],
      "execution_count": null,
      "outputs": [
        {
          "output_type": "error",
          "ename": "UnboundLocalError",
          "evalue": "ignored",
          "traceback": [
            "\u001b[0;31m---------------------------------------------------------------------------\u001b[0m",
            "\u001b[0;31mUnboundLocalError\u001b[0m                         Traceback (most recent call last)",
            "\u001b[0;32m/tmp/ipykernel_43465/2335464046.py\u001b[0m in \u001b[0;36m<module>\u001b[0;34m\u001b[0m\n\u001b[1;32m      2\u001b[0m \u001b[0;32mdef\u001b[0m \u001b[0madd\u001b[0m\u001b[0;34m(\u001b[0m\u001b[0;34m)\u001b[0m\u001b[0;34m:\u001b[0m\u001b[0;34m\u001b[0m\u001b[0;34m\u001b[0m\u001b[0m\n\u001b[1;32m      3\u001b[0m     \u001b[0ml\u001b[0m\u001b[0;34m=\u001b[0m\u001b[0ml\u001b[0m\u001b[0;34m+\u001b[0m\u001b[0;34m[\u001b[0m\u001b[0;36m1\u001b[0m\u001b[0;34m,\u001b[0m\u001b[0;36m2\u001b[0m\u001b[0;34m]\u001b[0m\u001b[0;34m\u001b[0m\u001b[0;34m\u001b[0m\u001b[0m\n\u001b[0;32m----> 4\u001b[0;31m \u001b[0madd\u001b[0m\u001b[0;34m(\u001b[0m\u001b[0;34m)\u001b[0m\u001b[0;34m\u001b[0m\u001b[0;34m\u001b[0m\u001b[0m\n\u001b[0m",
            "\u001b[0;32m/tmp/ipykernel_43465/2335464046.py\u001b[0m in \u001b[0;36madd\u001b[0;34m()\u001b[0m\n\u001b[1;32m      1\u001b[0m \u001b[0ml\u001b[0m\u001b[0;34m=\u001b[0m\u001b[0;34m[\u001b[0m\u001b[0;36m1\u001b[0m\u001b[0;34m,\u001b[0m\u001b[0;36m2\u001b[0m\u001b[0;34m,\u001b[0m\u001b[0;36m3\u001b[0m\u001b[0;34m]\u001b[0m\u001b[0;34m\u001b[0m\u001b[0;34m\u001b[0m\u001b[0m\n\u001b[1;32m      2\u001b[0m \u001b[0;32mdef\u001b[0m \u001b[0madd\u001b[0m\u001b[0;34m(\u001b[0m\u001b[0;34m)\u001b[0m\u001b[0;34m:\u001b[0m\u001b[0;34m\u001b[0m\u001b[0;34m\u001b[0m\u001b[0m\n\u001b[0;32m----> 3\u001b[0;31m     \u001b[0ml\u001b[0m\u001b[0;34m=\u001b[0m\u001b[0ml\u001b[0m\u001b[0;34m+\u001b[0m\u001b[0;34m[\u001b[0m\u001b[0;36m1\u001b[0m\u001b[0;34m,\u001b[0m\u001b[0;36m2\u001b[0m\u001b[0;34m]\u001b[0m\u001b[0;34m\u001b[0m\u001b[0;34m\u001b[0m\u001b[0m\n\u001b[0m\u001b[1;32m      4\u001b[0m \u001b[0madd\u001b[0m\u001b[0;34m(\u001b[0m\u001b[0;34m)\u001b[0m\u001b[0;34m\u001b[0m\u001b[0;34m\u001b[0m\u001b[0m\n",
            "\u001b[0;31mUnboundLocalError\u001b[0m: local variable 'l' referenced before assignment"
          ]
        }
      ]
    },
    {
      "cell_type": "code",
      "metadata": {
        "colab": {
          "base_uri": "https://localhost:8080/"
        },
        "id": "WYBoYSmYE4v1",
        "outputId": "e4847cf9-fe97-4628-9e75-552dee6156ce"
      },
      "source": [
        "l=[1,2,3]\n",
        "def add():\n",
        "    l.append(7)\n",
        "add()\n",
        "l"
      ],
      "execution_count": null,
      "outputs": [
        {
          "output_type": "execute_result",
          "data": {
            "text/plain": [
              "[1, 2, 3, 7]"
            ]
          },
          "metadata": {},
          "execution_count": 267
        }
      ]
    },
    {
      "cell_type": "code",
      "metadata": {
        "colab": {
          "base_uri": "https://localhost:8080/"
        },
        "id": "UgW9D-edFBV_",
        "outputId": "ea93d70e-9d54-46b1-fef1-fdf23016f577"
      },
      "source": [
        "#lamda expressions\n",
        "s=lambda x:x*x\n",
        "s(7)"
      ],
      "execution_count": null,
      "outputs": [
        {
          "output_type": "execute_result",
          "data": {
            "text/plain": [
              "49"
            ]
          },
          "metadata": {},
          "execution_count": 268
        }
      ]
    },
    {
      "cell_type": "code",
      "metadata": {
        "colab": {
          "base_uri": "https://localhost:8080/"
        },
        "id": "ypcgVS92FM3o",
        "outputId": "68148155-01de-48c1-df06-916e6af73483"
      },
      "source": [
        "m=lambda x,y:x*y\n",
        "m(3,4)"
      ],
      "execution_count": null,
      "outputs": [
        {
          "output_type": "execute_result",
          "data": {
            "text/plain": [
              "12"
            ]
          },
          "metadata": {},
          "execution_count": 269
        }
      ]
    },
    {
      "cell_type": "code",
      "metadata": {
        "id": "j6QJeoEDFTNA"
      },
      "source": [
        "#we can pass a function as a parameter and return a function as functions are first class citizens"
      ],
      "execution_count": null,
      "outputs": []
    },
    {
      "cell_type": "code",
      "metadata": {
        "id": "zItzsp5qFdQE"
      },
      "source": [
        "#filter(functions,sequrence) where functions returns true or false for a value,\n",
        "#list(filter(is_even,l))\n",
        "#same for maps and reduce where functools contains reduce\n",
        "#even functions are objects"
      ],
      "execution_count": null,
      "outputs": []
    },
    {
      "cell_type": "code",
      "metadata": {
        "id": "I8DHQ4WfFyaD"
      },
      "source": [
        "#generators\n",
        "g=(x*x for x in range(1000000000000))"
      ],
      "execution_count": null,
      "outputs": []
    },
    {
      "cell_type": "code",
      "metadata": {
        "colab": {
          "base_uri": "https://localhost:8080/"
        },
        "id": "aEIh18vNGoWu",
        "outputId": "55e0c0a9-c8a1-40a3-db71-3bb596617951"
      },
      "source": [
        "next(g)"
      ],
      "execution_count": null,
      "outputs": [
        {
          "output_type": "execute_result",
          "data": {
            "text/plain": [
              "0"
            ]
          },
          "metadata": {},
          "execution_count": 276
        }
      ]
    },
    {
      "cell_type": "code",
      "metadata": {
        "colab": {
          "base_uri": "https://localhost:8080/"
        },
        "id": "nNMbL1TDGpMX",
        "outputId": "f089626b-213d-4dac-c42e-48bb04c24cda"
      },
      "source": [
        "next(g)"
      ],
      "execution_count": null,
      "outputs": [
        {
          "output_type": "execute_result",
          "data": {
            "text/plain": [
              "1"
            ]
          },
          "metadata": {},
          "execution_count": 277
        }
      ]
    },
    {
      "cell_type": "code",
      "metadata": {
        "colab": {
          "base_uri": "https://localhost:8080/"
        },
        "id": "QqwSpIMPGp5R",
        "outputId": "92018a7b-595c-4589-d6ec-ee7b54601710"
      },
      "source": [
        "for i in range(10):\n",
        "    print(next(g))"
      ],
      "execution_count": null,
      "outputs": [
        {
          "output_type": "stream",
          "name": "stdout",
          "text": [
            "4\n",
            "9\n",
            "16\n",
            "25\n",
            "36\n",
            "49\n",
            "64\n",
            "81\n",
            "100\n",
            "121\n"
          ]
        }
      ]
    },
    {
      "cell_type": "code",
      "metadata": {
        "colab": {
          "base_uri": "https://localhost:8080/"
        },
        "id": "Cng-uPcrGulD",
        "outputId": "8551c01b-1c34-4de4-bc5a-828fb14f9080"
      },
      "source": [
        "def mygen():\n",
        "    yield(3)\n",
        "    yield(4)\n",
        "    yield(5)\n",
        "gen=mygen()\n",
        "next(gen)\n"
      ],
      "execution_count": null,
      "outputs": [
        {
          "output_type": "execute_result",
          "data": {
            "text/plain": [
              "3"
            ]
          },
          "metadata": {},
          "execution_count": 279
        }
      ]
    },
    {
      "cell_type": "code",
      "metadata": {
        "colab": {
          "base_uri": "https://localhost:8080/"
        },
        "id": "KdZ0llPxHB4a",
        "outputId": "3f3fb86f-964b-47d2-ab15-dc07f61704d7"
      },
      "source": [
        "next(gen)"
      ],
      "execution_count": null,
      "outputs": [
        {
          "output_type": "execute_result",
          "data": {
            "text/plain": [
              "4"
            ]
          },
          "metadata": {},
          "execution_count": 280
        }
      ]
    },
    {
      "cell_type": "code",
      "metadata": {
        "id": "cooAjClPHC2A"
      },
      "source": [
        "#modules\n",
        "#modules are only loaded once\n",
        "import time\n",
        "time.sleep(3)"
      ],
      "execution_count": null,
      "outputs": []
    },
    {
      "cell_type": "code",
      "metadata": {
        "colab": {
          "base_uri": "https://localhost:8080/"
        },
        "id": "iGwptCb0HpQZ",
        "outputId": "a01a23c1-4ebf-4373-e9a9-e5329148cd25"
      },
      "source": [
        "from imp import reload\n",
        "reload(time)"
      ],
      "execution_count": null,
      "outputs": [
        {
          "output_type": "execute_result",
          "data": {
            "text/plain": [
              "<module 'time' (built-in)>"
            ]
          },
          "metadata": {},
          "execution_count": 283
        }
      ]
    },
    {
      "cell_type": "code",
      "metadata": {
        "id": "LcAc92okHyKK"
      },
      "source": [
        "#to know memebers of a module dir(module)"
      ],
      "execution_count": null,
      "outputs": []
    },
    {
      "cell_type": "code",
      "metadata": {
        "colab": {
          "base_uri": "https://localhost:8080/"
        },
        "id": "CqSwUtLsH96w",
        "outputId": "fd8a4fcf-d2eb-457b-a29a-42777a87d07d"
      },
      "source": [
        "__name__#it would return the module name or main"
      ],
      "execution_count": null,
      "outputs": [
        {
          "output_type": "execute_result",
          "data": {
            "text/plain": [
              "'__main__'"
            ]
          },
          "metadata": {},
          "execution_count": 287
        }
      ]
    },
    {
      "cell_type": "code",
      "metadata": {
        "colab": {
          "base_uri": "https://localhost:8080/"
        },
        "id": "vJAsBFEqICng",
        "outputId": "96f1967f-e268-4891-e408-ca2b913f36d8"
      },
      "source": [
        "import random\n",
        "print(random.random())#greater than 0 less than 1"
      ],
      "execution_count": null,
      "outputs": [
        {
          "output_type": "stream",
          "name": "stdout",
          "text": [
            "0.5720599974309544\n"
          ]
        }
      ]
    },
    {
      "cell_type": "code",
      "metadata": {
        "colab": {
          "base_uri": "https://localhost:8080/"
        },
        "id": "eP1HfGeXIcc9",
        "outputId": "0b30df75-84d1-45de-df2a-76950ecdfd07"
      },
      "source": [
        "random.uniform(3,7)#exclusive of both"
      ],
      "execution_count": null,
      "outputs": [
        {
          "output_type": "execute_result",
          "data": {
            "text/plain": [
              "4.461688456006694"
            ]
          },
          "metadata": {},
          "execution_count": 296
        }
      ]
    },
    {
      "cell_type": "code",
      "metadata": {
        "colab": {
          "base_uri": "https://localhost:8080/"
        },
        "id": "39ocuN7ZIRus",
        "outputId": "4ff584b9-cf30-4ed8-99c5-19ec2b1f2958"
      },
      "source": [
        "random.randint(0,3)#including both"
      ],
      "execution_count": null,
      "outputs": [
        {
          "output_type": "execute_result",
          "data": {
            "text/plain": [
              "2"
            ]
          },
          "metadata": {},
          "execution_count": 297
        }
      ]
    },
    {
      "cell_type": "code",
      "metadata": {
        "colab": {
          "base_uri": "https://localhost:8080/"
        },
        "id": "QOb2H7zLIXjJ",
        "outputId": "d9278b2f-5c8b-445f-b4b7-7e95e359930f"
      },
      "source": [
        "random.randrange(0,10,2) #like range"
      ],
      "execution_count": null,
      "outputs": [
        {
          "output_type": "execute_result",
          "data": {
            "text/plain": [
              "4"
            ]
          },
          "metadata": {},
          "execution_count": 308
        }
      ]
    },
    {
      "cell_type": "code",
      "metadata": {
        "colab": {
          "base_uri": "https://localhost:8080/"
        },
        "id": "4VzjyhlJIpAC",
        "outputId": "db2a66c7-e503-443d-cc8b-d1183c3fd518"
      },
      "source": [
        "random.choice(l)#not applicable on set the sequence has to be indexable"
      ],
      "execution_count": null,
      "outputs": [
        {
          "output_type": "execute_result",
          "data": {
            "text/plain": [
              "3"
            ]
          },
          "metadata": {},
          "execution_count": 310
        }
      ]
    },
    {
      "cell_type": "code",
      "metadata": {
        "id": "P0jbSCFEIwxd"
      },
      "source": [
        "#__init__.py in a package"
      ],
      "execution_count": null,
      "outputs": []
    },
    {
      "cell_type": "code",
      "metadata": {
        "id": "nkCQ9s2tJBaE"
      },
      "source": [
        "#import pack1.module1"
      ],
      "execution_count": null,
      "outputs": []
    },
    {
      "cell_type": "code",
      "metadata": {
        "colab": {
          "base_uri": "https://localhost:8080/"
        },
        "id": "VQbhNx_wJJIU",
        "outputId": "49b5748f-3b47-4a34-9dfc-29bb126f3406"
      },
      "source": [
        "string.find(\"a\")"
      ],
      "execution_count": null,
      "outputs": [
        {
          "output_type": "execute_result",
          "data": {
            "text/plain": [
              "-1"
            ]
          },
          "metadata": {},
          "execution_count": 313
        }
      ]
    },
    {
      "cell_type": "code",
      "metadata": {
        "colab": {
          "base_uri": "https://localhost:8080/"
        },
        "id": "rbZmvf9lKKNr",
        "outputId": "6d9f11d9-2c9e-4045-9322-3575d4a54bcf"
      },
      "source": [
        "abs(-3)"
      ],
      "execution_count": null,
      "outputs": [
        {
          "output_type": "execute_result",
          "data": {
            "text/plain": [
              "3"
            ]
          },
          "metadata": {},
          "execution_count": 314
        }
      ]
    },
    {
      "cell_type": "code",
      "metadata": {
        "colab": {
          "base_uri": "https://localhost:8080/"
        },
        "id": "SgptVuFqKMkq",
        "outputId": "6d84aeab-f84f-4455-a750-d02909e0ab24"
      },
      "source": [
        "round(3.5)"
      ],
      "execution_count": null,
      "outputs": [
        {
          "output_type": "execute_result",
          "data": {
            "text/plain": [
              "4"
            ]
          },
          "metadata": {},
          "execution_count": 315
        }
      ]
    },
    {
      "cell_type": "code",
      "metadata": {
        "colab": {
          "base_uri": "https://localhost:8080/"
        },
        "id": "wUu7VaIGKO8_",
        "outputId": "a6269cfa-337d-41e9-afbb-b37e7b0f21cb"
      },
      "source": [
        "list(zip(l,l2))"
      ],
      "execution_count": null,
      "outputs": [
        {
          "output_type": "execute_result",
          "data": {
            "text/plain": [
              "[(1, 1), (2, 2), (3, 3), (7, 4)]"
            ]
          },
          "metadata": {},
          "execution_count": 317
        }
      ]
    },
    {
      "cell_type": "code",
      "metadata": {
        "id": "VdfnxHrAKet6"
      },
      "source": [
        "#always give named arugments to a functions"
      ],
      "execution_count": null,
      "outputs": []
    },
    {
      "cell_type": "code",
      "metadata": {
        "id": "jFnm4iRqKmPh"
      },
      "source": [
        "a,b,*rest=l"
      ],
      "execution_count": null,
      "outputs": []
    },
    {
      "cell_type": "code",
      "metadata": {
        "id": "kGm1N2a9LB0E"
      },
      "source": [
        "a,*rest,last=l"
      ],
      "execution_count": null,
      "outputs": []
    },
    {
      "cell_type": "code",
      "metadata": {
        "colab": {
          "base_uri": "https://localhost:8080/"
        },
        "id": "AT_8d7jJLFwY",
        "outputId": "26e3cd04-b944-41fe-c8b9-9882816ccfa9"
      },
      "source": [
        "from sys import getsizeof\n",
        "getsizeof(l)"
      ],
      "execution_count": null,
      "outputs": [
        {
          "output_type": "execute_result",
          "data": {
            "text/plain": [
              "112"
            ]
          },
          "metadata": {},
          "execution_count": 322
        }
      ]
    },
    {
      "cell_type": "code",
      "metadata": {
        "id": "jddYEvLtLiRx"
      },
      "source": [
        "# unpacking\n",
        "l=[*l,*l2,*range(10)]"
      ],
      "execution_count": null,
      "outputs": []
    },
    {
      "cell_type": "code",
      "metadata": {
        "colab": {
          "base_uri": "https://localhost:8080/"
        },
        "id": "jVJq6_KrLrZo",
        "outputId": "6edce75b-5dd6-4ac2-a190-2bf742a95d3d"
      },
      "source": [
        "l"
      ],
      "execution_count": null,
      "outputs": [
        {
          "output_type": "execute_result",
          "data": {
            "text/plain": [
              "[1, 2, 3, 7, 1, 2, 3, 4, 4, 0, 1, 2, 3, 4, 5, 6, 7, 8, 9]"
            ]
          },
          "metadata": {},
          "execution_count": 325
        }
      ]
    },
    {
      "cell_type": "code",
      "metadata": {
        "id": "CmH8RvivLtlD"
      },
      "source": [
        "#**d to unpack dict in another dict"
      ],
      "execution_count": null,
      "outputs": []
    },
    {
      "cell_type": "code",
      "metadata": {
        "id": "eUqEqqICL0vB",
        "colab": {
          "base_uri": "https://localhost:8080/"
        },
        "outputId": "e61da4da-e1e0-48a1-dc2c-9c70db62d80d"
      },
      "source": [
        "l=[1,2,3]\n",
        "for i in enumerate(l):\n",
        "    print(i)"
      ],
      "execution_count": 1,
      "outputs": [
        {
          "output_type": "stream",
          "name": "stdout",
          "text": [
            "(0, 1)\n",
            "(1, 2)\n",
            "(2, 3)\n"
          ]
        }
      ]
    },
    {
      "cell_type": "code",
      "metadata": {
        "colab": {
          "base_uri": "https://localhost:8080/"
        },
        "id": "wTWo9cgfPp2r",
        "outputId": "5ed98960-6127-4cea-a641-c6a3c20981db"
      },
      "source": [
        "del l[2:3]\n",
        "l"
      ],
      "execution_count": 2,
      "outputs": [
        {
          "output_type": "execute_result",
          "data": {
            "text/plain": [
              "[1, 2]"
            ]
          },
          "metadata": {},
          "execution_count": 2
        }
      ]
    },
    {
      "cell_type": "code",
      "metadata": {
        "colab": {
          "base_uri": "https://localhost:8080/"
        },
        "id": "ExdlQ62VQQUA",
        "outputId": "5b90300e-458c-4918-8c1d-062910a8a08a"
      },
      "source": [
        "#to sort a list of list\n",
        "l=[[1,2,3],[4,5,6],[1,0,1]]\n",
        "def sort_item(item):\n",
        "    return item[1]\n",
        "l.sort(key=sort_item)\n",
        "l"
      ],
      "execution_count": 4,
      "outputs": [
        {
          "output_type": "execute_result",
          "data": {
            "text/plain": [
              "[[1, 0, 1], [1, 2, 3], [4, 5, 6]]"
            ]
          },
          "metadata": {},
          "execution_count": 4
        }
      ]
    },
    {
      "cell_type": "code",
      "metadata": {
        "colab": {
          "base_uri": "https://localhost:8080/"
        },
        "id": "LlGWc0vPQuyO",
        "outputId": "d6a1b7d5-2684-4e0b-99dd-18dbecbc1ee5"
      },
      "source": [
        "d=dict(name=\"rayon\",rollno=7)\n",
        "d"
      ],
      "execution_count": 6,
      "outputs": [
        {
          "output_type": "execute_result",
          "data": {
            "text/plain": [
              "{'name': 'rayon', 'rollno': 7}"
            ]
          },
          "metadata": {},
          "execution_count": 6
        }
      ]
    },
    {
      "cell_type": "code",
      "metadata": {
        "id": "T3N0hYi5RGNx"
      },
      "source": [
        "#scope of variabe LEGB local enclosing global built-in\n",
        "#you can create global variables in functions using global keyword\n",
        "#nonlocal x to retrace the stack to find a varaible instead of going global or to even change it"
      ],
      "execution_count": 9,
      "outputs": []
    },
    {
      "cell_type": "code",
      "metadata": {
        "id": "EeftrQC6Rgdr"
      },
      "source": [
        "#python3 uses utf-8"
      ],
      "execution_count": 10,
      "outputs": []
    },
    {
      "cell_type": "code",
      "metadata": {
        "id": "F82LYydSSpF4"
      },
      "source": [
        "#TODO:use todo comments to tell what is to be done"
      ],
      "execution_count": 15,
      "outputs": []
    },
    {
      "cell_type": "code",
      "metadata": {
        "id": "89Wt6MS0Sw6e"
      },
      "source": [
        "#use docstring for functions to comment or document.\n",
        "def quadratic():\n",
        "    \"\"\"\n",
        "    attributes\n",
        "    ----------\n",
        "    name:str\n",
        "            a string that is the name\n",
        "    rollno:integer\n",
        "            whatever\n",
        "    \n",
        "    methods\n",
        "    -------\n",
        "    says(sound)\n",
        "        returns int\n",
        "    \n",
        "    \"\"\""
      ],
      "execution_count": 17,
      "outputs": []
    },
    {
      "cell_type": "code",
      "metadata": {
        "id": "Gw8fT0qyTtVO"
      },
      "source": [
        "#for functions use paramenters and returns to document"
      ],
      "execution_count": 18,
      "outputs": []
    },
    {
      "cell_type": "code",
      "metadata": {
        "id": "ZTxi7T5YUOZr"
      },
      "source": [
        "#formatted string is called an f-string"
      ],
      "execution_count": 19,
      "outputs": []
    },
    {
      "cell_type": "code",
      "metadata": {
        "id": "BsEYl0qGUb5b"
      },
      "source": [
        "#use comments only to explain why"
      ],
      "execution_count": 20,
      "outputs": []
    },
    {
      "cell_type": "code",
      "metadata": {
        "colab": {
          "base_uri": "https://localhost:8080/"
        },
        "id": "GaD9cyhFUjcz",
        "outputId": "d69b26e6-1c2d-4ef9-a1c4-201bc5ba2261"
      },
      "source": [
        "#in dict key should be hasable value can be anything and immutable string ,booleanint,tuples\n",
        "sets1={1,2,3}\n",
        "sets2={2,3}\n",
        "sets1.issubset(sets2)\n",
        "sets1.issuperset(sets2)"
      ],
      "execution_count": 22,
      "outputs": [
        {
          "output_type": "execute_result",
          "data": {
            "text/plain": [
              "True"
            ]
          },
          "metadata": {},
          "execution_count": 22
        }
      ]
    },
    {
      "cell_type": "code",
      "metadata": {
        "colab": {
          "base_uri": "https://localhost:8080/"
        },
        "id": "Tr2G_eLLUwx4",
        "outputId": "53458903-1cbd-4a04-e145-71870fb73c8a"
      },
      "source": [
        "#walrus operator\n",
        "if (n:=7)>5:\n",
        "    print(n)"
      ],
      "execution_count": 25,
      "outputs": [
        {
          "output_type": "stream",
          "name": "stdout",
          "text": [
            "7\n"
          ]
        }
      ]
    },
    {
      "cell_type": "code",
      "metadata": {
        "id": "ce0R2m63V41r"
      },
      "source": [
        "#python has functional scope not block scope"
      ],
      "execution_count": 26,
      "outputs": []
    },
    {
      "cell_type": "code",
      "metadata": {
        "id": "s8mFKxYqWG5P"
      },
      "source": [
        "#parameters are local varaibles"
      ],
      "execution_count": 27,
      "outputs": []
    },
    {
      "cell_type": "code",
      "metadata": {
        "id": "AnLpj_k-WL4F"
      },
      "source": [
        ""
      ],
      "execution_count": null,
      "outputs": []
    }
  ]
}